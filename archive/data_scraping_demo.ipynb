{
  "cells": [
    {
      "cell_type": "markdown",
      "metadata": {
        "id": "V9jhG6k2mZFZ"
      },
      "source": [
        "# **Data Scraping from API**"
      ]
    },
    {
      "cell_type": "code",
      "execution_count": 1,
      "metadata": {
        "id": "oeeUt_eeUjg1"
      },
      "outputs": [],
      "source": [
        "import requests\n",
        "import time"
      ]
    },
    {
      "cell_type": "code",
      "execution_count": 2,
      "metadata": {
        "colab": {
          "base_uri": "https://localhost:8080/"
        },
        "id": "1gPKQRFPmq0i",
        "outputId": "cb681df8-abfa-46bd-e403-70cd9e0cd22e"
      },
      "outputs": [
        {
          "name": "stdout",
          "output_type": "stream",
          "text": [
            "status_code: 200\n"
          ]
        }
      ],
      "source": [
        "response_query = requests.get(\"https://api.myanimelist.net/v2/anime?q=one&limit=4\",\n",
        "                              headers={'X-MAL-CLIENT-ID': '6114d00ca681b7701d1e15fe11a4987e'})\n",
        "print(\"status_code:\", response_query.status_code)"
      ]
    },
    {
      "cell_type": "code",
      "execution_count": 3,
      "metadata": {
        "colab": {
          "base_uri": "https://localhost:8080/"
        },
        "id": "2aJL9IPsmuGc",
        "outputId": "e8ffc9bc-0315-405a-b8ff-d3a520c49c99"
      },
      "outputs": [
        {
          "data": {
            "text/plain": [
              "{'data': [{'node': {'id': 21,\n",
              "    'title': 'One Piece',\n",
              "    'main_picture': {'medium': 'https://cdn.myanimelist.net/images/anime/6/73245.jpg',\n",
              "     'large': 'https://cdn.myanimelist.net/images/anime/6/73245l.jpg'}}},\n",
              "  {'node': {'id': 459,\n",
              "    'title': 'One Piece Movie 01',\n",
              "    'main_picture': {'medium': 'https://cdn.myanimelist.net/images/anime/1770/97704.jpg',\n",
              "     'large': 'https://cdn.myanimelist.net/images/anime/1770/97704l.jpg'}}},\n",
              "  {'node': {'id': 12859,\n",
              "    'title': 'One Piece Film: Z',\n",
              "    'main_picture': {'medium': 'https://cdn.myanimelist.net/images/anime/6/44297.jpg',\n",
              "     'large': 'https://cdn.myanimelist.net/images/anime/6/44297l.jpg'}}},\n",
              "  {'node': {'id': 31772,\n",
              "    'title': 'One Punch Man Specials',\n",
              "    'main_picture': {'medium': 'https://cdn.myanimelist.net/images/anime/1452/97840.jpg',\n",
              "     'large': 'https://cdn.myanimelist.net/images/anime/1452/97840l.jpg'}}}],\n",
              " 'paging': {'next': 'https://api.myanimelist.net/v2/anime?offset=4&q=one&limit=4'}}"
            ]
          },
          "execution_count": 3,
          "metadata": {},
          "output_type": "execute_result"
        }
      ],
      "source": [
        "response_query.json()"
      ]
    },
    {
      "cell_type": "code",
      "execution_count": 4,
      "metadata": {
        "colab": {
          "base_uri": "https://localhost:8080/"
        },
        "id": "pKC5mdHzmvWY",
        "outputId": "d1871c83-b8f7-40fa-9990-a682bc7b7352"
      },
      "outputs": [
        {
          "data": {
            "text/plain": [
              "{'id': 21,\n",
              " 'title': 'One Piece',\n",
              " 'main_picture': {'medium': 'https://cdn.myanimelist.net/images/anime/6/73245.jpg',\n",
              "  'large': 'https://cdn.myanimelist.net/images/anime/6/73245l.jpg'}}"
            ]
          },
          "execution_count": 4,
          "metadata": {},
          "output_type": "execute_result"
        }
      ],
      "source": [
        "anime = response_query.json()['data'][0]['node']\n",
        "anime_id = anime['id']\n",
        "anime"
      ]
    },
    {
      "cell_type": "code",
      "execution_count": 5,
      "metadata": {
        "colab": {
          "base_uri": "https://localhost:8080/"
        },
        "id": "D-2-qV1GmwlX",
        "outputId": "3382562d-a4d9-4e26-b274-88b06cec6523"
      },
      "outputs": [
        {
          "name": "stdout",
          "output_type": "stream",
          "text": [
            "Response: 200\n"
          ]
        }
      ],
      "source": [
        "response_details = requests.get(f'https://api.myanimelist.net/v2/anime/{anime_id}?fields=id,title,main_picture,alternative_titles,start_date,end_date,synopsis,mean,rank,popularity,num_list_users,num_scoring_users,nsfw,created_at,updated_at,media_type,status,genres,my_list_status,num_episodes,start_season,broadcast,source,average_episode_duration,rating,pictures,background,related_anime,related_manga,recommendations,studios,statistics',\n",
        "                        headers={'X-MAL-CLIENT-ID': '6114d00ca681b7701d1e15fe11a4987e'})\n",
        "print(\"Response:\", response_details.status_code)"
      ]
    },
    {
      "cell_type": "code",
      "execution_count": 6,
      "metadata": {
        "colab": {
          "base_uri": "https://localhost:8080/"
        },
        "id": "nfSLnnj-myBV",
        "outputId": "eeb959fc-a596-4696-afb9-cd85e018074e"
      },
      "outputs": [
        {
          "name": "stdout",
          "output_type": "stream",
          "text": [
            "Avaiable Features from API:\n",
            "-----\n",
            "id\n",
            "title\n",
            "main_picture\n",
            "alternative_titles\n",
            "start_date\n",
            "synopsis\n",
            "mean\n",
            "rank\n",
            "popularity\n",
            "num_list_users\n",
            "num_scoring_users\n",
            "nsfw\n",
            "created_at\n",
            "updated_at\n",
            "media_type\n",
            "status\n",
            "genres\n",
            "num_episodes\n",
            "start_season\n",
            "broadcast\n",
            "source\n",
            "average_episode_duration\n",
            "rating\n",
            "pictures\n",
            "background\n",
            "related_anime\n",
            "related_manga\n",
            "recommendations\n",
            "studios\n",
            "statistics\n"
          ]
        }
      ],
      "source": [
        "print(\"Avaiable Features from API:\")\n",
        "print(\"-----\")\n",
        "for feature in response_details.json().keys():\n",
        "    print(feature)"
      ]
    },
    {
      "cell_type": "markdown",
      "metadata": {
        "id": "NxJguPexnEK5"
      },
      "source": [
        "### **Analyze the above Features**"
      ]
    },
    {
      "cell_type": "markdown",
      "metadata": {
        "id": "SjZQNjmRnPw2"
      },
      "source": [
        "We observe that there are several features that we dont need to use in our dataset.\n",
        "Therefore, we try to keep the following features:\n",
        "\n",
        "\n",
        "---\n",
        "1. id\n",
        "2. title\n",
        "3. start_date\n",
        "4. end_date\n",
        "5. synopsis\n",
        "6. mean\n",
        "7. rank\n",
        "8. popularity\n",
        "9. num_list_users\n",
        "10. num_scoring_users\n",
        "11. nsfw\n",
        "12. created_at\n",
        "13. updated_at\n",
        "14. media_type\n",
        "15. status\n",
        "16. genres\n",
        "17. num_episodes\n",
        "18. start_season\n",
        "19. broadcast\n",
        "20. source\n",
        "21. average_episode_duration\n",
        "22. rating\n",
        "23. background\n",
        "24. studios\n",
        "25. statistics\n"
      ]
    },
    {
      "cell_type": "markdown",
      "metadata": {
        "id": "Dc38VLn5oft_"
      },
      "source": [
        "## **How to Get Data Demo for above Features**"
      ]
    },
    {
      "cell_type": "markdown",
      "metadata": {
        "id": "1EGXCO6Fo5db"
      },
      "source": [
        "Suppose we want to get the animes from 2000-2021 (four seasons for each year)"
      ]
    },
    {
      "cell_type": "code",
      "execution_count": 7,
      "metadata": {
        "id": "4QAWSU7ynaqY"
      },
      "outputs": [],
      "source": [
        "response = requests.get('https://api.myanimelist.net/v2/anime/season/2017/summer?limit=4',\n",
        "                            headers={'X-MAL-CLIENT-ID': '6114d00ca681b7701d1e15fe11a4987e'})"
      ]
    },
    {
      "cell_type": "code",
      "execution_count": 8,
      "metadata": {
        "colab": {
          "base_uri": "https://localhost:8080/"
        },
        "id": "TRl94F8wouoD",
        "outputId": "6bac7eea-b661-4afb-c94a-4a023db98740"
      },
      "outputs": [
        {
          "data": {
            "text/plain": [
              "[{'node': {'id': 33486,\n",
              "   'title': 'Boku no Hero Academia 2nd Season',\n",
              "   'main_picture': {'medium': 'https://cdn.myanimelist.net/images/anime/12/85221.jpg',\n",
              "    'large': 'https://cdn.myanimelist.net/images/anime/12/85221l.jpg'}}},\n",
              " {'node': {'id': 35247,\n",
              "   'title': 'Owarimonogatari 2nd Season',\n",
              "   'main_picture': {'medium': 'https://cdn.myanimelist.net/images/anime/6/87322.jpg',\n",
              "    'large': 'https://cdn.myanimelist.net/images/anime/6/87322l.jpg'}}},\n",
              " {'node': {'id': 40491,\n",
              "   'title': 'Hyperventilation',\n",
              "   'main_picture': {'medium': 'https://cdn.myanimelist.net/images/anime/1708/107833.jpg',\n",
              "    'large': 'https://cdn.myanimelist.net/images/anime/1708/107833l.jpg'}}},\n",
              " {'node': {'id': 36796,\n",
              "   'title': 'Owarimonogatari 2nd Season Recaps',\n",
              "   'main_picture': {'medium': 'https://cdn.myanimelist.net/images/anime/9/88962.jpg',\n",
              "    'large': 'https://cdn.myanimelist.net/images/anime/9/88962l.jpg'}}}]"
            ]
          },
          "execution_count": 8,
          "metadata": {},
          "output_type": "execute_result"
        }
      ],
      "source": [
        "response.json()['data']"
      ]
    },
    {
      "cell_type": "code",
      "execution_count": 9,
      "metadata": {
        "id": "kURah3ZUplzQ"
      },
      "outputs": [],
      "source": [
        "'''\n",
        "Season name\t Months\n",
        "winter\t   January, February, March\n",
        "spring\t   April, May, June\n",
        "summer\t   July, August, September\n",
        "fall\t    October, November, December\n",
        "'''\n",
        "seasons = [\n",
        "    \"winter\",\n",
        "    \"spring\",\n",
        "    \"summer\",\n",
        "    \"fall\"\n",
        "]"
      ]
    },
    {
      "cell_type": "code",
      "execution_count": 10,
      "metadata": {
        "colab": {
          "base_uri": "https://localhost:8080/"
        },
        "id": "b9L-Hx2cp9t1",
        "outputId": "3b1cba2c-09db-4e94-b73e-afd9288d2101"
      },
      "outputs": [
        {
          "name": "stdout",
          "output_type": "stream",
          "text": [
            "Status (2000/winter) 200\n",
            "(2000/winter) done!\n",
            "---\n",
            "[{'id': 21, 'title': 'One Piece', 'main_picture': {'medium': 'https://cdn.myanimelist.net/images/anime/6/73245.jpg', 'large': 'https://cdn.myanimelist.net/images/anime/6/73245l.jpg'}, 'start_date': '1999-10-20', 'synopsis': 'Barely surviving in a barrel after passing through a terrible whirlpool at sea, carefree Monkey D. Luffy ends up aboard a ship under attack by fearsome pirates. Despite being a naive-looking teenager, he is not to be underestimated. Unmatched in battle, Luffy is a pirate himself who resolutely pursues the coveted One Piece treasure and the King of the Pirates title that comes with it.\\n\\nThe late King of the Pirates, Gol D. Roger, stirred up the world before his death by disclosing the whereabouts of his hoard of riches and daring everyone to obtain it. Ever since then, countless powerful pirates have sailed dangerous seas for the prized One Piece only to never return. Although Luffy lacks a crew and a proper ship, he is endowed with a superhuman ability and an unbreakable spirit that make him not only a formidable adversary but also an inspiration to many.\\n\\nAs he faces numerous challenges with a big smile on his face, Luffy gathers one-of-a-kind companions to join him in his ambitious endeavor, together embracing perils and wonders on their once-in-a-lifetime adventure.\\n\\n[Written by MAL Rewrite]', 'mean': 8.71, 'rank': 54, 'popularity': 19, 'num_list_users': 2264684, 'num_scoring_users': 1282090, 'nsfw': 'white', 'created_at': '2005-11-11T01:20:50+00:00', 'updated_at': '2023-09-28T00:41:25+00:00', 'media_type': 'tv', 'status': 'currently_airing', 'genres': [{'id': 1, 'name': 'Action'}, {'id': 2, 'name': 'Adventure'}, {'id': 10, 'name': 'Fantasy'}, {'id': 27, 'name': 'Shounen'}], 'num_episodes': 0, 'start_season': {'year': 1999, 'season': 'fall'}, 'broadcast': {'day_of_the_week': 'sunday', 'start_time': '09:30'}, 'source': 'manga', 'average_episode_duration': 1440, 'rating': 'pg_13', 'background': \"Several anime-original arcs have been adapted into light novels, and the series has inspired 50+ video games as of 2023.\\n\\nIn June 2004, One Piece was licensed in North America by 4Kids Entertainment, which partnered with Viz Media for home video distribution. As One Piece proved unsuitable for their target demographic, 4Kids Entertainment censored the show to meet their standards, and, in December 2006, they stopped its production. In April 2007, Funimation took over the series licensing, providing an uncut version that remained faithful to the original release.\\n\\nIn Japan, the anime's first 574 episodes were released exclusively on DVD by Avex Pictures from February 21, 2001, to December 4, 2013. Blu-rays also became available with the DVDs starting on January 8, 2014. In North America, Viz Media released the anime on DVD between February 28, 2006, and June 26, 2007. Funimation has re-released and continued the series since May 27, 2008. From March 23, 2021, the DVDs were accompanied by Blu-rays as well.\", 'studios': [{'id': 18, 'name': 'Toei Animation'}], 'statistics': {'status': {'watching': '1600402', 'completed': '44', 'on_hold': '268271', 'dropped': '182055', 'plan_to_watch': '213859'}, 'num_list_users': 2264631}}, {'id': 1312, 'title': 'Chikyuu Bouei Kigyou Dai-Guard', 'main_picture': {'medium': 'https://cdn.myanimelist.net/images/anime/1969/94093.jpg', 'large': 'https://cdn.myanimelist.net/images/anime/1969/94093l.jpg'}, 'start_date': '1999-10-05', 'end_date': '2000-03-28', 'synopsis': \"Thirteen years after their sudden disappearance, an alien race known as the Heterodyne resurface without warning. To combat the Heterodyne, three office workers from the 21st Century Security Corporation operate Dai-Guard - a giant robot no longer regarded as an oversized paperweight. Unfortunately, Dai-Guard is somewhat obsolete and in disrepair. It's a tough job, but salarymen can also save the world. \\n\\n(Source: ANN)\", 'mean': 7.15, 'rank': 3401, 'popularity': 6339, 'num_list_users': 9480, 'num_scoring_users': 3006, 'nsfw': 'white', 'created_at': '2006-08-11T21:48:49+00:00', 'updated_at': '2022-04-11T10:15:36+00:00', 'media_type': 'tv', 'status': 'finished_airing', 'genres': [{'id': 2, 'name': 'Adventure'}, {'id': 4, 'name': 'Comedy'}, {'id': 18, 'name': 'Mecha'}, {'id': 38, 'name': 'Military'}, {'id': 24, 'name': 'Sci-Fi'}], 'num_episodes': 26, 'start_season': {'year': 1999, 'season': 'fall'}, 'broadcast': {'day_of_the_week': 'tuesday', 'start_time': '18:00'}, 'source': 'original', 'average_episode_duration': 1500, 'rating': 'pg_13', 'background': '', 'studios': [{'id': 27, 'name': 'Xebec'}], 'statistics': {'status': {'watching': '507', 'completed': '3518', 'on_hold': '498', 'dropped': '543', 'plan_to_watch': '4411'}, 'num_list_users': 9477}}, {'id': 2907, 'title': 'Cyborg Kuro-chan', 'main_picture': {'medium': 'https://cdn.myanimelist.net/images/anime/11/17464.jpg', 'large': 'https://cdn.myanimelist.net/images/anime/11/17464l.jpg'}, 'start_date': '1999-10-02', 'end_date': '2001-01-06', 'synopsis': \"Kuro is just an ordinary cat who only wants to protect his owners who are an old couple that can't fend for themselves. One day while on a date with his girlfriend Pooly who is a dog, he is kidnapped by an evil scientist and turned into a robot. Kuro somehow removes the chip that controlled him and notices that people get scared with his new robotic appearance and that he can now talk like a human. He decides to disguise himself with the skin of a stuffed toy and to continue living as a pet.\\n\\n(Source: ANN)\", 'mean': 7.14, 'rank': 3464, 'popularity': 6509, 'num_list_users': 8863, 'num_scoring_users': 4206, 'nsfw': 'white', 'created_at': '2007-08-03T03:09:58+00:00', 'updated_at': '2022-04-07T01:43:06+00:00', 'media_type': 'tv', 'status': 'finished_airing', 'genres': [{'id': 4, 'name': 'Comedy'}, {'id': 24, 'name': 'Sci-Fi'}], 'num_episodes': 66, 'start_season': {'year': 1999, 'season': 'fall'}, 'broadcast': {'day_of_the_week': 'saturday', 'start_time': '08:00'}, 'source': 'manga', 'average_episode_duration': 1500, 'rating': 'pg', 'background': '', 'studios': [{'id': 338, 'name': 'Studio Bogey'}], 'statistics': {'status': {'watching': '482', 'completed': '5179', 'on_hold': '588', 'dropped': '743', 'plan_to_watch': '1870'}, 'num_list_users': 8862}}, {'id': 1199, 'title': 'Nintama Rantarou', 'main_picture': {'medium': 'https://cdn.myanimelist.net/images/anime/6/74028.jpg', 'large': 'https://cdn.myanimelist.net/images/anime/6/74028l.jpg'}, 'start_date': '1993-04-10', 'synopsis': 'Taking place in the Sengoku Period, Rantarou, Kirimaru and Shinbei are young students at Ninjutsu Academy, a school that teaches all kinds of youth how to become ninjas. Known as \"Nintamas\" (a contraction of ninja + tama [egg]), the main trio, and many other students at the school, must learn all sorts of unique skills to achieve their goal. Unfortunately, things aren\\'t that simple, since our protagonists constantly find themselves failing their classes. \\n\\nWith strict ninja teachers such as Doi-sensei and Yamada-sensei, the mischievous girls from the Kunoichi class, an entire crew of pirates and dozens more interesting characters, anything can happen in the crazy world of Nintama.\\n\\nThe episodes are 7 minutes and thirty seconds long each, and each season (which there\\'s currently 29 of) usually has a range of 60-90 episodes. ', 'mean': 7.09, 'rank': 3729, 'popularity': 6996, 'num_list_users': 7397, 'num_scoring_users': 2404, 'nsfw': 'white', 'created_at': '2006-07-10T06:45:35+00:00', 'updated_at': '2022-12-24T11:36:39+00:00', 'media_type': 'tv', 'status': 'currently_airing', 'genres': [{'id': 4, 'name': 'Comedy'}, {'id': 15, 'name': 'Kids'}], 'num_episodes': 0, 'start_season': {'year': 1993, 'season': 'spring'}, 'broadcast': {'day_of_the_week': 'other', 'start_time': '18:10'}, 'source': 'manga', 'average_episode_duration': 600, 'rating': 'g', 'background': '', 'studios': [{'id': 30, 'name': 'Ajia-do'}], 'statistics': {'status': {'watching': '2049', 'completed': 0, 'on_hold': '1154', 'dropped': '1597', 'plan_to_watch': '2596'}, 'num_list_users': 7396}}, {'id': 6560, 'title': 'Popee the Performer', 'main_picture': {'medium': 'https://cdn.myanimelist.net/images/anime/1682/110199.jpg', 'large': 'https://cdn.myanimelist.net/images/anime/1682/110199l.jpg'}, 'start_date': '2000-01-03', 'end_date': '2001-12-28', 'synopsis': 'Somewhere in the desert lies the Wolf Zirkus: a strange circus where Popee, a clown in a pink rabbit jumpsuit, shares the stage with Kedamono, a purple creature who wears a mask. Together, they juggle the whims of performing, practicing their acts, and poking fun at each other. In a world where anything seems possible, there is no telling what will happen next during this eccentric spectacle.\\n\\n[Written by MAL Rewrite]\\n', 'mean': 7.23, 'rank': 3009, 'popularity': 6063, 'num_list_users': 10536, 'num_scoring_users': 4447, 'nsfw': 'white', 'created_at': '2009-05-31T02:22:13+00:00', 'updated_at': '2023-09-01T02:52:58+00:00', 'media_type': 'tv', 'status': 'finished_airing', 'genres': [{'id': 5, 'name': 'Avant Garde'}, {'id': 4, 'name': 'Comedy'}, {'id': 57, 'name': 'Gag Humor'}], 'num_episodes': 39, 'start_season': {'year': 2000, 'season': 'winter'}, 'broadcast': {'day_of_the_week': 'monday', 'start_time': '20:53'}, 'source': 'original', 'average_episode_duration': 240, 'rating': 'r', 'background': \"Popee the Performer's 11th episode was banned from being rebroadcast on Kids Station in Japan due to complaints about excessive violence in a children's show. A related concern led to episode 27 being released only on DVD.\", 'studios': [{'id': 2812, 'name': 'Zuiyo'}], 'statistics': {'status': {'watching': '724', 'completed': '5125', 'on_hold': '488', 'dropped': '685', 'plan_to_watch': '3513'}, 'num_list_users': 10535}}, {'id': 1382, 'title': 'Yuusha-Ou GaoGaiGar Final', 'main_picture': {'medium': 'https://cdn.myanimelist.net/images/anime/1187/132740.jpg', 'large': 'https://cdn.myanimelist.net/images/anime/1187/132740l.jpg'}, 'start_date': '2000-01-21', 'end_date': '2003-03-21', 'synopsis': 'Following Gutsy Galaxy Guard\\'s victory over the Zonder Empire and the 31 Primevals, a new threat makes their appearance on Earth. GGG—with Guy Shishio and the newly-constructed GaoFighGar—team up with their French counterpart Chasseur to battle the evil organization BioNet. Among Chasseur\\'s ranks is Renais Cardiff Shishioh, a former BioNet cyborg with the relentless pursuit of destroying those who took away her humanity. But as GGG and Chasseur fight the BioNet, GGG\\'s bases around the world are suddenly attacked, and the recently-discovered \"Q-Parts\" and the original Gao Machines are stolen by Mamoru Amami, who has been abducted and cloned by an even greater threat known as the \"Eleven Kings of Sol.\" Evicted from Earth by the United Nations, GGG must now travel to the far reaches of the galaxy to battle the Eleven Kings of Sol and save Mamoru before it\\'s too late.\\n\\n(Source: ANN, edited)', 'mean': 8.08, 'rank': 511, 'popularity': 6176, 'num_list_users': 10068, 'num_scoring_users': 4178, 'nsfw': 'white', 'created_at': '2006-08-19T00:03:24+00:00', 'updated_at': '2023-09-02T22:31:51+00:00', 'media_type': 'ova', 'status': 'finished_airing', 'genres': [{'id': 2, 'name': 'Adventure'}, {'id': 8, 'name': 'Drama'}, {'id': 18, 'name': 'Mecha'}, {'id': 24, 'name': 'Sci-Fi'}, {'id': 31, 'name': 'Super Power'}], 'num_episodes': 8, 'start_season': {'year': 2000, 'season': 'winter'}, 'source': 'original', 'average_episode_duration': 1920, 'rating': 'pg_13', 'background': '', 'studios': [{'id': 14, 'name': 'Sunrise'}], 'statistics': {'status': {'watching': '360', 'completed': '5477', 'on_hold': '211', 'dropped': '266', 'plan_to_watch': '3752'}, 'num_list_users': 10066}}, {'id': 245, 'title': 'Great Teacher Onizuka', 'main_picture': {'medium': 'https://cdn.myanimelist.net/images/anime/13/11460.jpg', 'large': 'https://cdn.myanimelist.net/images/anime/13/11460l.jpg'}, 'start_date': '1999-06-30', 'end_date': '2000-09-17', 'synopsis': \"Twenty-two-year-old Eikichi Onizuka—ex-biker gang leader, conqueror of Shonan, and virgin—has a dream: to become the greatest high school teacher in all of Japan. This isn't because of a passion for teaching, but because he wants a loving teenage wife when he's old and gray. Still, for a perverted, greedy, and lazy delinquent, there is more to Onizuka than meets the eye. So when he lands a job as the homeroom teacher of the Class 3-4 at the prestigious Holy Forest Academy—despite suplexing the Vice Principal—all of his talents are put to the test, as this class is particularly infamous.\\n\\nDue to their utter contempt for all teachers, the class' students use psychological warfare to mentally break any new homeroom teacher they get, forcing them to quit and leave school. However, Onizuka isn't your average teacher, and he's ready for any challenge in his way.\\n\\nBullying, suicide, and sexual harassment are just a few of the issues his students face daily. By tackling the roots of their problems, Onizuka supports them with his unpredictable and unconventional methods—even if it means jumping off a building to save a suicidal child. Thanks to his eccentric charm and fun-loving nature, Class 3-4 slowly learns just how enjoyable school can be when you're the pupils of the Great Teacher Onizuka.\\n\\n[Written by MAL Rewrite]\", 'mean': 8.69, 'rank': 61, 'popularity': 218, 'num_list_users': 805182, 'num_scoring_users': 396101, 'nsfw': 'white', 'created_at': '2005-11-13T02:44:09+00:00', 'updated_at': '2023-06-25T06:57:35+00:00', 'media_type': 'tv', 'status': 'finished_airing', 'genres': [{'id': 4, 'name': 'Comedy'}, {'id': 55, 'name': 'Delinquents'}, {'id': 23, 'name': 'School'}, {'id': 27, 'name': 'Shounen'}, {'id': 48, 'name': 'Workplace'}], 'num_episodes': 43, 'start_season': {'year': 1999, 'season': 'summer'}, 'broadcast': {'day_of_the_week': 'wednesday', 'start_time': '19:30'}, 'source': 'manga', 'average_episode_duration': 1550, 'rating': 'r', 'background': '', 'studios': [{'id': 1, 'name': 'Pierrot'}], 'statistics': {'status': {'watching': '65326', 'completed': '440995', 'on_hold': '44777', 'dropped': '24835', 'plan_to_watch': '229237'}, 'num_list_users': 805170}}, {'id': 136, 'title': 'Hunter x Hunter', 'main_picture': {'medium': 'https://cdn.myanimelist.net/images/anime/1305/132237.jpg', 'large': 'https://cdn.myanimelist.net/images/anime/1305/132237l.jpg'}, 'start_date': '1999-10-16', 'end_date': '2001-03-31', 'synopsis': 'Hunters are specialized in a wide variety of fields, ranging from treasure hunting to cooking. They have access to otherwise unavailable funds and information that allow them to pursue their dreams and interests. However, being a hunter is a special privilege, only attained by taking a deadly exam with an extremely low success rate.\\n\\nGon Freecss, a 12-year-old boy with the hope of finding his missing father, sets out on a quest to take the Hunter Exam. Along the way, he picks up three companions who also aim to take the dangerous test: the revenge-seeking Kurapika, aspiring doctor Leorio Paladiknight, and a mischievous child the same age as Gon, Killua Zoldyck.\\n\\nAs the four aspiring hunters embark on a perilous adventure, they fight for their dreams while defying the odds.\\n\\n[Written by MAL Rewrite]', 'mean': 8.41, 'rank': 176, 'popularity': 361, 'num_list_users': 576571, 'num_scoring_users': 281138, 'nsfw': 'white', 'created_at': '2005-11-11T14:49:12+00:00', 'updated_at': '2023-01-24T00:38:36+00:00', 'media_type': 'tv', 'status': 'finished_airing', 'genres': [{'id': 1, 'name': 'Action'}, {'id': 2, 'name': 'Adventure'}, {'id': 10, 'name': 'Fantasy'}, {'id': 27, 'name': 'Shounen'}], 'num_episodes': 62, 'start_season': {'year': 1999, 'season': 'fall'}, 'broadcast': {'day_of_the_week': 'saturday', 'start_time': '18:00'}, 'source': 'manga', 'average_episode_duration': 1380, 'rating': 'pg_13', 'background': '', 'studios': [{'id': 22, 'name': 'Nippon Animation'}], 'statistics': {'status': {'watching': '41666', 'completed': '358781', 'on_hold': '22192', 'dropped': '21001', 'plan_to_watch': '132917'}, 'num_list_users': 576557}}, {'id': 744, 'title': 'Trouble Chocolate', 'main_picture': {'medium': 'https://cdn.myanimelist.net/images/anime/8/61293.jpg', 'large': 'https://cdn.myanimelist.net/images/anime/8/61293l.jpg'}, 'start_date': '1999-10-08', 'end_date': '2000-03-24', 'synopsis': \"Cacao, a student at Micro Grand Academy, wakes up one morning to find a girl made of wood sleeping in bed with him. She is Hinano, a tree spirit who possessed the body of a wooden puppet after Cacao messed up his magic teacher's spell. Having taken an instant liking to Cacao, Hinano enrolls in his school. Between Hinano, monsters, two strange twins and their four-eyed cat master, a demon boy, odd teachers and students, and the fact that he may have the potential to be one of the greatest magic users of all time, Cacao's life seems to have taken several turns for the worse...and the weird. \\n\\n(Source: ANN)\", 'mean': 6.51, 'rank': 6573, 'popularity': 7730, 'num_list_users': 5770, 'num_scoring_users': 2024, 'nsfw': 'white', 'created_at': '2006-02-17T23:44:01+00:00', 'updated_at': '2023-06-05T05:41:03+00:00', 'media_type': 'tv', 'status': 'finished_airing', 'genres': [{'id': 4, 'name': 'Comedy'}, {'id': 22, 'name': 'Romance'}, {'id': 24, 'name': 'Sci-Fi'}], 'num_episodes': 20, 'start_season': {'year': 1999, 'season': 'fall'}, 'broadcast': {'day_of_the_week': 'saturday', 'start_time': '02:00'}, 'source': 'radio', 'average_episode_duration': 1415, 'rating': 'g', 'background': '', 'studios': [{'id': 48, 'name': 'AIC'}], 'statistics': {'status': {'watching': '376', 'completed': '2355', 'on_hold': '293', 'dropped': '451', 'plan_to_watch': '2294'}, 'num_list_users': 5769}}, {'id': 783, 'title': 'Miami Guns', 'main_picture': {'medium': 'https://cdn.myanimelist.net/images/anime/1/783.jpg', 'large': 'https://cdn.myanimelist.net/images/anime/1/783l.jpg'}, 'start_date': '2000-02-05', 'end_date': '2000-05-20', 'synopsis': \" Spoiled rich girl Yao Sakurakouji decides to join the Miami police force to enjoy car chases, gunfights and wanton destruction. The psychotic and not-too-bright Yao is partnered with Lu Amano, the soft-spoken and sharp-tongued daughter of the police chief. Together the dirty duo clean up the streets of Miami and take on a mysterious crime syndicate known only as 'The Organization'. \\n\\n(Source: ANN)\", 'mean': 6.57, 'rank': 6251, 'popularity': 7191, 'num_list_users': 6898, 'num_scoring_users': 2195, 'nsfw': 'white', 'created_at': '2006-02-27T13:14:32+00:00', 'updated_at': '2021-12-01T11:16:26+00:00', 'media_type': 'tv', 'status': 'finished_airing', 'genres': [{'id': 4, 'name': 'Comedy'}, {'id': 39, 'name': 'Detective'}, {'id': 9, 'name': 'Ecchi'}, {'id': 27, 'name': 'Shounen'}], 'num_episodes': 13, 'start_season': {'year': 2000, 'season': 'winter'}, 'broadcast': {'day_of_the_week': 'sunday', 'start_time': '01:45'}, 'source': 'manga', 'average_episode_duration': 1442, 'rating': 'r', 'background': '', 'studios': [{'id': 86, 'name': 'Group TAC'}], 'statistics': {'status': {'watching': '413', 'completed': '2606', 'on_hold': '258', 'dropped': '459', 'plan_to_watch': '3159'}, 'num_list_users': 6895}}, {'id': 347, 'title': 'Wild Arms: Twilight Venom', 'main_picture': {'medium': 'https://cdn.myanimelist.net/images/anime/1532/94186.jpg', 'large': 'https://cdn.myanimelist.net/images/anime/1532/94186l.jpg'}, 'start_date': '1999-10-18', 'end_date': '2000-03-27', 'synopsis': \"This anime is based on a playstation game under the same title. The story is about four people who travel the desolated land of Filgaea and carve themselves a legendary story while they're at it. These adventurers are Sheyenne Rainstorm, a gunslinger who holds the legendary weapon called ARMs; Kiel Aromax, a scientist who looks like he should be carrying a sword; Roleta Oratorio the Crest Sorceress, a magic-user who uses cards called Crests to cast spells; and Mirabelle Graceland, one of the Noble Red, which are a family of vampiric creatures who live alongside human beings They also travel with cute little intelligent furry things, from the Popepi Pipepo Tribe, named Isaac and Jerusha.\\n\\n(Source: AniDB)\", 'mean': 6.67, 'rank': 5712, 'popularity': 6756, 'num_list_users': 8157, 'num_scoring_users': 3075, 'nsfw': 'white', 'created_at': '2005-11-20T03:04:07+00:00', 'updated_at': '2022-03-24T16:01:21+00:00', 'media_type': 'tv', 'status': 'finished_airing', 'genres': [{'id': 1, 'name': 'Action'}, {'id': 2, 'name': 'Adventure'}, {'id': 10, 'name': 'Fantasy'}, {'id': 24, 'name': 'Sci-Fi'}, {'id': 32, 'name': 'Vampire'}], 'num_episodes': 22, 'start_season': {'year': 1999, 'season': 'fall'}, 'broadcast': {'day_of_the_week': 'monday', 'start_time': '19:00'}, 'source': 'game', 'average_episode_duration': 1460, 'rating': 'pg_13', 'background': '', 'studios': [{'id': 5, 'name': 'Bee Train'}], 'statistics': {'status': {'watching': '398', 'completed': '3838', 'on_hold': '391', 'dropped': '529', 'plan_to_watch': '2999'}, 'num_list_users': 8155}}, {'id': 1658, 'title': 'Karakuri no Kimi', 'main_picture': {'medium': 'https://cdn.myanimelist.net/images/anime/1/1658.jpg', 'large': 'https://cdn.myanimelist.net/images/anime/1/1658l.jpg'}, 'start_date': '2000-03-24', 'end_date': '2000-03-24', 'synopsis': \"Princess Rangiku lost her entire family to Lord Karimata, who invaded her home seeking her father's life work, puppets with unique capabilities. As her duty, Rangiku sets out with three of her father's greatest puppet warriors to seek revenge. She can manipulate these to battle the strongest of warriors, however manipulating the puppets leaves her own self vulnerable to direct attacks, so she seeks a ninja warrior named Manajiri to aid and protect her in her quest.\\n\\n(Source: ANN)\", 'mean': 6.45, 'rank': 6910, 'popularity': 6692, 'num_list_users': 8282, 'num_scoring_users': 3110, 'nsfw': 'white', 'created_at': '2006-11-12T19:41:11+00:00', 'updated_at': '2022-03-31T17:44:55+00:00', 'media_type': 'ova', 'status': 'finished_airing', 'genres': [{'id': 1, 'name': 'Action'}, {'id': 4, 'name': 'Comedy'}, {'id': 10, 'name': 'Fantasy'}, {'id': 13, 'name': 'Historical'}, {'id': 14, 'name': 'Horror'}, {'id': 17, 'name': 'Martial Arts'}, {'id': 21, 'name': 'Samurai'}, {'id': 27, 'name': 'Shounen'}, {'id': 37, 'name': 'Supernatural'}], 'num_episodes': 1, 'start_season': {'year': 2000, 'season': 'winter'}, 'source': 'manga', 'average_episode_duration': 2505, 'rating': 'r+', 'background': '', 'studios': [{'id': 73, 'name': 'TMS Entertainment'}], 'statistics': {'status': {'watching': '290', 'completed': '3995', 'on_hold': '141', 'dropped': '102', 'plan_to_watch': '3750'}, 'num_list_users': 8278}}, {'id': 2204, 'title': 'Karakuri Zoushi Ayatsuri Sakon', 'main_picture': {'medium': 'https://cdn.myanimelist.net/images/anime/10/16022.jpg', 'large': 'https://cdn.myanimelist.net/images/anime/10/16022l.jpg'}, 'start_date': '1999-10-08', 'end_date': '2000-03-31', 'synopsis': 'The dark-haired bishounen is Sakon Tachibana, a puppeteer, and the other is Ukon, his favorite puppet, and best friend. Sakon is the (only) grandson of Saemon Tachibana, a national treasure of Japan famous for his manipulation of Bunraku puppets. Ukon is a child doll puppet made in the early Meiji era by the famous female dollmaker Unosuke. Together they run into murders and solve them.\\n\\n(Source: AnimeNfo)', 'mean': 7.36, 'rank': 2336, 'popularity': 5766, 'num_list_users': 11908, 'num_scoring_users': 3264, 'nsfw': 'white', 'created_at': '2007-03-25T17:15:02+00:00', 'updated_at': '2023-10-01T22:22:05+00:00', 'media_type': 'tv', 'status': 'finished_airing', 'genres': [{'id': 39, 'name': 'Detective'}, {'id': 7, 'name': 'Mystery'}, {'id': 27, 'name': 'Shounen'}, {'id': 41, 'name': 'Suspense'}], 'num_episodes': 26, 'start_season': {'year': 1999, 'season': 'fall'}, 'broadcast': {'day_of_the_week': 'tuesday', 'start_time': '18:30'}, 'source': 'manga', 'average_episode_duration': 1500, 'rating': 'r', 'background': '', 'studios': [{'id': 73, 'name': 'TMS Entertainment'}], 'statistics': {'status': {'watching': '661', 'completed': '3743', 'on_hold': '638', 'dropped': '634', 'plan_to_watch': '6230'}, 'num_list_users': 11906}}, {'id': 2330, 'title': 'Jibaku-kun', 'main_picture': {'medium': 'https://cdn.myanimelist.net/images/anime/1228/121087.jpg', 'large': 'https://cdn.myanimelist.net/images/anime/1228/121087l.jpg'}, 'start_date': '1999-10-05', 'end_date': '2000-03-28', 'synopsis': \"Bucky, the protagonist of the history, is a normal boy that lives in the first world. He lives with a single and humble ambition: to dominate the world (in the sense of the whole planet). He is very certain and he would certainly die to reach his dream. \\n\\nOne day he meets with Spark, the Great Child of Primas (World One). Spark is known as the strongest Great Child of all of the worlds, and he is a successor's search. After finding Bucky and talk a little with him, Spark without apparent reason choose Bucky his successor. Bucky has just become a Great Child and to win the company of Jibaki, the spirit of the first world.\\n\\n(Source: Wikipedia)\", 'mean': 7.34, 'rank': 2447, 'popularity': 5538, 'num_list_users': 13255, 'num_scoring_users': 6233, 'nsfw': 'white', 'created_at': '2007-04-22T01:15:39+00:00', 'updated_at': '2022-10-09T03:45:18+00:00', 'media_type': 'tv', 'status': 'finished_airing', 'genres': [{'id': 2, 'name': 'Adventure'}, {'id': 4, 'name': 'Comedy'}, {'id': 10, 'name': 'Fantasy'}], 'num_episodes': 26, 'start_season': {'year': 1999, 'season': 'fall'}, 'broadcast': {'day_of_the_week': 'tuesday', 'start_time': '18:30'}, 'source': 'manga', 'average_episode_duration': 1365, 'rating': 'pg_13', 'background': '', 'studios': [{'id': 80, 'name': 'Trans Arts'}], 'statistics': {'status': {'watching': '536', 'completed': '7646', 'on_hold': '460', 'dropped': '573', 'plan_to_watch': '4037'}, 'num_list_users': 13252}}, {'id': 7045, 'title': 'Doraemon Movie 21: Nobita no Taiyou Ou Densetsu', 'main_picture': {'medium': 'https://cdn.myanimelist.net/images/anime/7/72426.jpg', 'large': 'https://cdn.myanimelist.net/images/anime/7/72426l.jpg'}, 'start_date': '2000-03-04', 'end_date': '2000-03-04', 'synopsis': \"Doraemon and its friends open a hole in the time and they're travel to the Country of Mayana, a lost Mayan civilization in the jungle. There, Nobita will know its perfect double, prince Thio, heir to the throne. Both will decide to interchange papers to try to save to the Country of Mayana of the claws of the infernal Ledina witch and her evil forces.\\n\\n(Source: ANN)\", 'mean': 7.33, 'rank': 2460, 'popularity': 6025, 'num_list_users': 10717, 'num_scoring_users': 6867, 'nsfw': 'white', 'created_at': '2009-08-20T00:54:32+00:00', 'updated_at': '2021-12-20T18:14:32+00:00', 'media_type': 'movie', 'status': 'finished_airing', 'genres': [{'id': 2, 'name': 'Adventure'}, {'id': 4, 'name': 'Comedy'}, {'id': 10, 'name': 'Fantasy'}, {'id': 13, 'name': 'Historical'}, {'id': 15, 'name': 'Kids'}, {'id': 27, 'name': 'Shounen'}], 'num_episodes': 1, 'start_season': {'year': 2000, 'season': 'winter'}, 'average_episode_duration': 5460, 'rating': 'pg', 'background': '', 'studios': [{'id': 247, 'name': 'Shin-Ei Animation'}], 'statistics': {'status': {'watching': '126', 'completed': '9635', 'on_hold': '100', 'dropped': '146', 'plan_to_watch': '708'}, 'num_list_users': 10715}}, {'id': 6069, 'title': 'Gregory Horror Show', 'main_picture': {'medium': 'https://cdn.myanimelist.net/images/anime/1811/103252.jpg', 'large': 'https://cdn.myanimelist.net/images/anime/1811/103252l.jpg'}, 'start_date': '1999-10', 'end_date': '2001-06', 'synopsis': 'The first series is a set of 25 stories about a male businessman arriving at the hotel after taking a train home from work. He encounters the mysterious owner of the hotel, an old mouse known as Gregory, who suggests that he stay a while. Soon, the man becomes drawn into a bizarre series of events taking place within Gregory House as he tries desperately to escape from this bizarre purgatory.\\n\\n(Source: Wikipedia)', 'mean': 6.57, 'rank': 6236, 'popularity': 8631, 'num_list_users': 4342, 'num_scoring_users': 1678, 'nsfw': 'white', 'created_at': '2009-02-15T22:16:19+00:00', 'updated_at': '2022-04-10T05:05:04+00:00', 'media_type': 'tv', 'status': 'finished_airing', 'genres': [{'id': 4, 'name': 'Comedy'}, {'id': 14, 'name': 'Horror'}, {'id': 7, 'name': 'Mystery'}, {'id': 6, 'name': 'Mythology'}, {'id': 37, 'name': 'Supernatural'}], 'num_episodes': 25, 'start_season': {'year': 1999, 'season': 'fall'}, 'source': 'original', 'average_episode_duration': 146, 'rating': 'pg_13', 'background': '', 'studios': [{'id': 398, 'name': 'Milky Cartoon'}], 'statistics': {'status': {'watching': '172', 'completed': '2104', 'on_hold': '100', 'dropped': '193', 'plan_to_watch': '1772'}, 'num_list_users': 4341}}, {'id': 4459, 'title': 'Ojarumaru', 'main_picture': {'medium': 'https://cdn.myanimelist.net/images/anime/1839/132018.jpg', 'large': 'https://cdn.myanimelist.net/images/anime/1839/132018l.jpg'}, 'start_date': '1998-10-05', 'synopsis': 'In the Heian era, around 1000 years ago, a young boy of noble family named Ojarumaru is bored with his life of privilege. Meanwhile, three demons steal the power-stick of Enma, king of demons, and then lose it. Ojarumaru finds it, and uses it to transport himself to the present time. Here, he is befriended by a young boy named Kazuma, and becomes a member of his family. As time goes on, Ojarumaru makes many new friends, while dodging the comedic efforts of the three demons, Akane, Kisuke, and Aobee, as they try to recover the stick. (from ANN)', 'mean': 6.35, 'rank': 7435, 'popularity': 10934, 'num_list_users': 1995, 'num_scoring_users': 518, 'nsfw': 'white', 'created_at': '2008-05-06T14:32:54+00:00', 'updated_at': '2023-09-02T06:48:46+00:00', 'media_type': 'tv', 'status': 'currently_airing', 'genres': [{'id': 2, 'name': 'Adventure'}, {'id': 46, 'name': 'Award Winning'}, {'id': 4, 'name': 'Comedy'}, {'id': 10, 'name': 'Fantasy'}, {'id': 15, 'name': 'Kids'}], 'num_episodes': 0, 'start_season': {'year': 1998, 'season': 'fall'}, 'broadcast': {'day_of_the_week': 'other', 'start_time': '18:10'}, 'source': 'original', 'average_episode_duration': 600, 'rating': 'g', 'background': 'The second season that aired in 1999 (episodes 91-180) was awarded the Excellence Award on the 3rd Japan Media Arts Festival.', 'studios': [{'id': 36, 'name': 'Gallop'}], 'statistics': {'status': {'watching': '595', 'completed': 0, 'on_hold': '233', 'dropped': '561', 'plan_to_watch': '605'}, 'num_list_users': 1994}}, {'id': 2613, 'title': 'Mirai Shounen Conan 2: Taiga Daibouken', 'main_picture': {'medium': 'https://cdn.myanimelist.net/images/anime/12/40015.jpg', 'large': 'https://cdn.myanimelist.net/images/anime/12/40015l.jpg'}, 'start_date': '1999-10-16', 'end_date': '2000-04-01', 'synopsis': 'An adventure story about \"Ooparts Egg\" and a huge stone statue called \"Oobats\" which was excavated from the remains of ancient times around two thousand years ago.\\n\\nTaiga travels around the world with his father, archeologist Dr. Daino. They come to South America to investigate ancient ruins discovered by treasure hunters. There they find a stone statue of a gigantic bird which is more than 50 meters long. How was this statue made more than 20,000 years ago? Who made it and for what purpose? To their surprise, the stone bird wakes up and flies away before their very eyes. They discover that this stone bird is called \"Oobats\" and that when it has \"Ooparts Egg\", it becomes a dangerous weapon which could destroy the whole universe. The stone bird in the ruins wakes up and flies away to seek Ooparts Egg! Taiga must not allow this to happen...\\n\\n(Source: AnimeNfo)', 'mean': 6.38, 'rank': 7284, 'popularity': 10446, 'num_list_users': 2331, 'num_scoring_users': 573, 'nsfw': 'white', 'created_at': '2007-06-12T21:43:31+00:00', 'updated_at': '2022-01-23T09:14:32+00:00', 'media_type': 'tv', 'status': 'finished_airing', 'genres': [{'id': 2, 'name': 'Adventure'}, {'id': 8, 'name': 'Drama'}, {'id': 24, 'name': 'Sci-Fi'}], 'num_episodes': 24, 'start_season': {'year': 1999, 'season': 'fall'}, 'average_episode_duration': 1400, 'rating': 'pg_13', 'background': '', 'studios': [{'id': 22, 'name': 'Nippon Animation'}], 'statistics': {'status': {'watching': '99', 'completed': '822', 'on_hold': '65', 'dropped': '144', 'plan_to_watch': '1199'}, 'num_list_users': 2329}}, {'id': 2633, 'title': 'The☆Doraemons: Dokidoki Kikansha Daibakusou!', 'main_picture': {'medium': 'https://cdn.myanimelist.net/images/anime/4/59531.jpg', 'large': 'https://cdn.myanimelist.net/images/anime/4/59531l.jpg'}, 'start_date': '2000-03-04', 'end_date': '2000-03-04', 'synopsis': '', 'mean': 6.42, 'rank': 7072, 'popularity': 11288, 'num_list_users': 1745, 'num_scoring_users': 693, 'nsfw': 'white', 'created_at': '2007-06-17T19:17:31+00:00', 'updated_at': '2021-05-15T19:56:26+00:00', 'media_type': 'movie', 'status': 'finished_airing', 'genres': [{'id': 2, 'name': 'Adventure'}, {'id': 4, 'name': 'Comedy'}, {'id': 10, 'name': 'Fantasy'}, {'id': 15, 'name': 'Kids'}, {'id': 24, 'name': 'Sci-Fi'}, {'id': 27, 'name': 'Shounen'}], 'num_episodes': 1, 'start_season': {'year': 2000, 'season': 'winter'}, 'average_episode_duration': 1020, 'rating': 'pg', 'background': '', 'studios': [{'id': 247, 'name': 'Shin-Ei Animation'}], 'statistics': {'status': {'watching': '38', 'completed': '1099', 'on_hold': '35', 'dropped': '110', 'plan_to_watch': '462'}, 'num_list_users': 1744}}, {'id': 9810, 'title': 'Nyani ga Nyandaa Nyandaa Kamen', 'main_picture': {'medium': 'https://cdn.myanimelist.net/images/anime/8/27206.jpg', 'large': 'https://cdn.myanimelist.net/images/anime/8/27206l.jpg'}, 'start_date': '2000-02-06', 'end_date': '2001-09-30', 'synopsis': 'One day a normal cat boy got a power to transform into a super \"kamen cat.\" Whenever he heard people saying \"help\" he would dash right over there and help them fight against enemies.', 'mean': 6.57, 'rank': 6253, 'popularity': 12192, 'num_list_users': 1272, 'num_scoring_users': 576, 'nsfw': 'white', 'created_at': '2010-11-12T07:43:40+00:00', 'updated_at': '2023-09-11T06:40:49+00:00', 'media_type': 'tv', 'status': 'finished_airing', 'genres': [{'id': 4, 'name': 'Comedy'}, {'id': 15, 'name': 'Kids'}], 'num_episodes': 83, 'start_season': {'year': 2000, 'season': 'winter'}, 'broadcast': {'day_of_the_week': 'sunday', 'start_time': '07:00'}, 'source': 'picture_book', 'average_episode_duration': 1500, 'rating': 'pg', 'background': '', 'studios': [{'id': 14, 'name': 'Sunrise'}], 'statistics': {'status': {'watching': '56', 'completed': '686', 'on_hold': '64', 'dropped': '189', 'plan_to_watch': '276'}, 'num_list_users': 1271}}, {'id': 13551, 'title': 'Shuukan Storyland', 'main_picture': {'medium': 'https://cdn.myanimelist.net/images/anime/13/37873.jpg', 'large': 'https://cdn.myanimelist.net/images/anime/13/37873l.jpg'}, 'start_date': '1999-10-14', 'end_date': '2001-09-13', 'synopsis': \"This was an anthology program containing several different anime each week along with some non-animated segments. Several of the animated films were short series including: Nazo no Rouba [謎の老婆] (tvss), Meibugyou Bun-san [名奉行・文さん], Jo Keibu Jinguuji Youko [女警部・神宮寺葉子], Remon Suzumori's Soudanjo [鈴森なんでも相談所].\\n\\n(Source: animated-divots.net)\", 'mean': 6.52, 'rank': 6549, 'popularity': 13862, 'num_list_users': 773, 'num_scoring_users': 131, 'nsfw': 'white', 'created_at': '2012-03-28T00:36:13+00:00', 'updated_at': '2021-07-13T17:13:58+00:00', 'media_type': 'tv', 'status': 'finished_airing', 'genres': [{'id': 4, 'name': 'Comedy'}, {'id': 8, 'name': 'Drama'}, {'id': 42, 'name': 'Seinen'}, {'id': 36, 'name': 'Slice of Life'}], 'num_episodes': 56, 'start_season': {'year': 1999, 'season': 'fall'}, 'broadcast': {'day_of_the_week': 'thursday', 'start_time': '20:00'}, 'source': 'original', 'average_episode_duration': 1500, 'rating': 'pg_13', 'background': '', 'studios': [{'id': 41, 'name': 'Satelight'}], 'statistics': {'status': {'watching': '46', 'completed': '187', 'on_hold': '36', 'dropped': '96', 'plan_to_watch': '408'}, 'num_list_users': 773}}, {'id': 7643, 'title': 'Domo-kun', 'main_picture': {'medium': 'https://cdn.myanimelist.net/images/anime/3/18406.jpg', 'large': 'https://cdn.myanimelist.net/images/anime/3/18406l.jpg'}, 'start_date': '1998-12-22', 'end_date': '2008-01-01', 'synopsis': \"A strange monster hatches from a mysterious egg. He befriends various animals, and takes residence in Osajii's burrow. He discovers new and exciting things about everyday life.\\n\\nAs of 2008, there are at least 37 regular TV spot episodes of Domo-kun. These 37 episodes were released on DVD in Japan in July of 2009.\", 'mean': 6.32, 'rank': 7625, 'popularity': 9865, 'num_list_users': 2794, 'num_scoring_users': 863, 'nsfw': 'white', 'created_at': '2009-12-03T01:37:24+00:00', 'updated_at': '2021-10-11T04:25:45+00:00', 'media_type': 'tv', 'status': 'finished_airing', 'genres': [{'id': 4, 'name': 'Comedy'}, {'id': 15, 'name': 'Kids'}, {'id': 36, 'name': 'Slice of Life'}], 'num_episodes': 37, 'start_season': {'year': 1999, 'season': 'winter'}, 'broadcast': {'day_of_the_week': 'other'}, 'source': 'original', 'average_episode_duration': 39, 'rating': 'g', 'background': '', 'studios': [{'id': 1133, 'name': 'dwarf'}], 'statistics': {'status': {'watching': '328', 'completed': '923', 'on_hold': '190', 'dropped': '328', 'plan_to_watch': '1024'}, 'num_list_users': 2793}}, {'id': 4375, 'title': 'Kyoro-chan', 'main_picture': {'medium': 'https://cdn.myanimelist.net/images/anime/1172/101184.jpg', 'large': 'https://cdn.myanimelist.net/images/anime/1172/101184l.jpg'}, 'start_date': '1999-07-01', 'end_date': '2001-03-29', 'synopsis': 'While exploring ruins on Angel Island, a doctor finds a myserious newborn bird called Kyoro-chan. Together they form a bond and decide to travel the world together. Three years later when the Doctor and Kyoro-chan try to return to Angel Island they become shipwrecked from a storm. Kyoro-chan was able to make it safely to the island but the Doctor was nowhere to be found. Kyoro-chan prays for his safety and hope he returns as he now starts his new life on Angel Island.', 'mean': 7.24, 'rank': 2935, 'popularity': 9768, 'num_list_users': 2902, 'num_scoring_users': 1363, 'nsfw': 'white', 'created_at': '2008-04-20T21:37:58+00:00', 'updated_at': '2021-10-16T20:22:00+00:00', 'media_type': 'tv', 'status': 'finished_airing', 'genres': [{'id': 2, 'name': 'Adventure'}, {'id': 4, 'name': 'Comedy'}, {'id': 10, 'name': 'Fantasy'}], 'num_episodes': 91, 'start_season': {'year': 1999, 'season': 'summer'}, 'broadcast': {'day_of_the_week': 'thursday', 'start_time': '18:00'}, 'source': 'other', 'average_episode_duration': 1500, 'rating': 'pg', 'background': '', 'studios': [{'id': 86, 'name': 'Group TAC'}], 'statistics': {'status': {'watching': '141', 'completed': '1731', 'on_hold': '150', 'dropped': '337', 'plan_to_watch': '542'}, 'num_list_users': 2901}}, {'id': 1300, 'title': 'Omishi Mahou Gekijou: Risky★Safety', 'main_picture': {'medium': 'https://cdn.myanimelist.net/images/anime/13/14714.jpg', 'large': 'https://cdn.myanimelist.net/images/anime/13/14714l.jpg'}, 'start_date': '1999-10-05', 'end_date': '2000-04-04', 'synopsis': \"An apprentice shinigami (Japanese Death God), Risky, is determined to take Moe's life. However, Risky is magically joined with an apprentice angel, Safety, so Risky turns into Safety whenever someone says something nice. As an apprentice shinigami can only take someone's life when that person is really depressed, Risky has quite a problem taking Moe's soul, while dealing with Safety, who often cheers Moe up.\\n\\n(Source: ANN)\", 'mean': 6.55, 'rank': 6351, 'popularity': 8729, 'num_list_users': 4204, 'num_scoring_users': 1244, 'nsfw': 'white', 'created_at': '2006-08-11T10:11:04+00:00', 'updated_at': '2022-03-30T05:46:31+00:00', 'media_type': 'tv', 'status': 'finished_airing', 'genres': [{'id': 4, 'name': 'Comedy'}, {'id': 27, 'name': 'Shounen'}], 'num_episodes': 24, 'start_season': {'year': 1999, 'season': 'fall'}, 'broadcast': {'day_of_the_week': 'tuesday', 'start_time': '19:00'}, 'source': 'manga', 'average_episode_duration': 600, 'rating': 'pg', 'background': '', 'studios': [{'id': 77, 'name': 'APPP'}], 'statistics': {'status': {'watching': '210', 'completed': '1472', 'on_hold': '246', 'dropped': '340', 'plan_to_watch': '1935'}, 'num_list_users': 4203}}, {'id': 1021, 'title': 'Kaikan Phrase', 'main_picture': {'medium': 'https://cdn.myanimelist.net/images/anime/1625/114978.jpg', 'large': 'https://cdn.myanimelist.net/images/anime/1625/114978l.jpg'}, 'start_date': '1999-04-20', 'end_date': '2000-03-26', 'synopsis': 'After the break up of their old band, guitarist Yuki & drummer Santa decide to form a new one. They recruit bass player Towa, young guitarist Atsuro, and after much persuasion, vocalist Sakuya. Together they form Lucifer and they struggle to make it in the music business, and also to stay together. As well, they have to deal with personal issues, such as parental objections, and watching their old bands succeed ahead of them. Sakuya is the most troubled band member, as he has to deal with his tragic past, and his relationship with teenaged lyricist Aine.\\n', 'mean': 7.31, 'rank': 2604, 'popularity': 5484, 'num_list_users': 13513, 'num_scoring_users': 4034, 'nsfw': 'white', 'created_at': '2006-06-01T18:40:26+00:00', 'updated_at': '2022-05-25T07:46:48+00:00', 'media_type': 'tv', 'status': 'finished_airing', 'genres': [{'id': 8, 'name': 'Drama'}, {'id': 19, 'name': 'Music'}, {'id': 22, 'name': 'Romance'}, {'id': 25, 'name': 'Shoujo'}, {'id': 75, 'name': 'Showbiz'}], 'num_episodes': 44, 'start_season': {'year': 1999, 'season': 'spring'}, 'source': 'manga', 'average_episode_duration': 1440, 'rating': 'pg_13', 'background': '', 'studios': [{'id': 101, 'name': 'Studio Hibari'}], 'statistics': {'status': {'watching': '803', 'completed': '4608', 'on_hold': '706', 'dropped': '963', 'plan_to_watch': '6431'}, 'num_list_users': 13511}}, {'id': 1960, 'title': 'Sore Ike! Anpanman', 'main_picture': {'medium': 'https://cdn.myanimelist.net/images/anime/1902/111797.jpg', 'large': 'https://cdn.myanimelist.net/images/anime/1902/111797l.jpg'}, 'start_date': '1988-10-03', 'synopsis': 'One night, a Star of Life falls down the chimney of a bakery nestled deep in the forest, causing the dough in the oven to come to life. The dough becomes Anpanman, a superhero made of anpan (a sweet roll with bean jam filling). Together with his friends, Anpanman fights his rival Baikinman and helps the malnourished. \\n\\n(Source: ANN)', 'mean': 6.56, 'rank': 6277, 'popularity': 9065, 'num_list_users': 3716, 'num_scoring_users': 1189, 'nsfw': 'white', 'created_at': '2007-02-18T18:45:21+00:00', 'updated_at': '2023-05-28T10:41:02+00:00', 'media_type': 'tv', 'status': 'currently_airing', 'genres': [{'id': 4, 'name': 'Comedy'}, {'id': 10, 'name': 'Fantasy'}, {'id': 15, 'name': 'Kids'}], 'num_episodes': 0, 'start_season': {'year': 1988, 'season': 'fall'}, 'broadcast': {'day_of_the_week': 'friday', 'start_time': '16:20'}, 'source': 'picture_book', 'average_episode_duration': 1440, 'rating': 'pg', 'background': '', 'studios': [{'id': 73, 'name': 'TMS Entertainment'}], 'statistics': {'status': {'watching': '1001', 'completed': 0, 'on_hold': '503', 'dropped': '1078', 'plan_to_watch': '1133'}, 'num_list_users': 3715}}, {'id': 6246, 'title': 'Black Jack: Sora kara Kita Kodomo', 'main_picture': {'medium': 'https://cdn.myanimelist.net/images/anime/9/88341.jpg', 'large': 'https://cdn.myanimelist.net/images/anime/9/88341l.jpg'}, 'start_date': '2000-03-22', 'end_date': '2000-03-22', 'synopsis': \"An army plane defects from the U-ran (Uranium) Union and lands in Black Jack's garden carrying a family. Their purpose is to have their son, who is suffering from an incurable disease, treated by Black Jack. But it is beyond even BJ's ability to cure the disease.\", 'mean': 6.7, 'rank': 5536, 'popularity': 9191, 'num_list_users': 3550, 'num_scoring_users': 1299, 'nsfw': 'white', 'created_at': '2009-03-22T18:55:35+00:00', 'updated_at': '2022-11-17T06:50:29+00:00', 'media_type': 'ova', 'status': 'finished_airing', 'genres': [{'id': 8, 'name': 'Drama'}, {'id': 67, 'name': 'Medical'}, {'id': 27, 'name': 'Shounen'}], 'num_episodes': 1, 'start_season': {'year': 2000, 'season': 'winter'}, 'source': 'manga', 'average_episode_duration': 1320, 'rating': 'pg_13', 'background': '', 'studios': [{'id': 200, 'name': 'Tezuka Productions'}], 'statistics': {'status': {'watching': '108', 'completed': '1924', 'on_hold': '77', 'dropped': '107', 'plan_to_watch': '1332'}, 'num_list_users': 3548}}, {'id': 2649, 'title': 'Doraemon: Obaachan no Omoide', 'main_picture': {'medium': 'https://cdn.myanimelist.net/images/anime/6/27416.jpg', 'large': 'https://cdn.myanimelist.net/images/anime/6/27416l.jpg'}, 'start_date': '2000-03-04', 'end_date': '2000-03-04', 'synopsis': \"Nobita misses his granny that died a few years ago, so Doraemon takes Nobita to the past to see his grandmother one more time. But they face through a lot of things such as the younger selves of Nobita and his friends, and young Nobita's mother that doesn't recognize Nobita or Doraemon. \\n\\n(Source: Wikipedia)\", 'mean': 7.26, 'rank': 2824, 'popularity': 9383, 'num_list_users': 3330, 'num_scoring_users': 1698, 'nsfw': 'white', 'created_at': '2007-06-17T19:32:03+00:00', 'updated_at': '2022-10-12T15:23:58+00:00', 'media_type': 'movie', 'status': 'finished_airing', 'genres': [{'id': 46, 'name': 'Award Winning'}, {'id': 4, 'name': 'Comedy'}, {'id': 10, 'name': 'Fantasy'}, {'id': 15, 'name': 'Kids'}, {'id': 24, 'name': 'Sci-Fi'}, {'id': 27, 'name': 'Shounen'}], 'num_episodes': 1, 'start_season': {'year': 2000, 'season': 'winter'}, 'average_episode_duration': 1620, 'rating': 'pg', 'background': 'The movie won the 2000 Mainichi Film Award for animation.', 'studios': [], 'statistics': {'status': {'watching': '55', 'completed': '2566', 'on_hold': '40', 'dropped': '116', 'plan_to_watch': '552'}, 'num_list_users': 3329}}, {'id': 4962, 'title': 'Rokumon Tengai Mon Colle Knights', 'main_picture': {'medium': 'https://cdn.myanimelist.net/images/anime/3/17055.jpg', 'large': 'https://cdn.myanimelist.net/images/anime/3/17055l.jpg'}, 'start_date': '2000-01-10', 'end_date': '2000-12-25', 'synopsis': 'Two mad scientists, Professor Hiiragi and Count Collection, simultaneously manage to open a dream hole to an alternate world where myths are real, the Sixgate world. Professor Hiiragi recruits his daughter Rokuna and her friend Mondo to be the Mon Colle Knights and help him in obtaining six magical items before Count Collection does. These items which can alter the barriers of dimensions when combined, allowing them to be used to either peacefully have the magic of the Sixgate world cross over in the human world, take over the minds of all monsters, or worse, reformat reality.\\n\\nWhile this entry only has details based on the Japanese version, it also includes the version aired on Jetix.', 'mean': 6.53, 'rank': 6458, 'popularity': 8153, 'num_list_users': 5099, 'num_scoring_users': 1913, 'nsfw': 'white', 'created_at': '2008-07-23T12:20:25+00:00', 'updated_at': '2022-03-18T19:36:10+00:00', 'media_type': 'tv', 'status': 'finished_airing', 'genres': [{'id': 2, 'name': 'Adventure'}, {'id': 4, 'name': 'Comedy'}, {'id': 10, 'name': 'Fantasy'}, {'id': 15, 'name': 'Kids'}, {'id': 20, 'name': 'Parody'}], 'num_episodes': 51, 'start_season': {'year': 2000, 'season': 'winter'}, 'broadcast': {'day_of_the_week': 'monday', 'start_time': '18:00'}, 'source': 'card_game', 'average_episode_duration': 1500, 'rating': 'g', 'background': '', 'studios': [{'id': 37, 'name': 'Studio Deen'}], 'statistics': {'status': {'watching': '221', 'completed': '2264', 'on_hold': '338', 'dropped': '625', 'plan_to_watch': '1649'}, 'num_list_users': 5097}}, {'id': 6149, 'title': 'Chibi Maruko-chan (1995)', 'main_picture': {'medium': 'https://cdn.myanimelist.net/images/anime/1108/100604.jpg', 'large': 'https://cdn.myanimelist.net/images/anime/1108/100604l.jpg'}, 'start_date': '1995-01-08', 'synopsis': 'Momoko Sakura is an elementary school student who likes popular idol Momoe Yamaguchi and mangas. She is often called \"Chibi Maruko-chan\" due to her young age and small size. She lives together with her parents, her grandparents and her elder sister in a little town. In school, she has many friends with whom she studies and plays together everyday, including her close pal, Tama-chan; the student committee members, Maruo-kun and Migiwa-san; and the B-class trio: \\'little master\\' Hanawa-kun, Hamaji-Bu Taro and Sekiguchi-kun. This is a fun-loving and enjoyable anime that portrays the simple things in life.\\n\\n(Source: ANN)', 'mean': 7.28, 'rank': 2748, 'popularity': 7835, 'num_list_users': 5598, 'num_scoring_users': 1777, 'nsfw': 'white', 'created_at': '2009-03-04T11:45:35+00:00', 'updated_at': '2023-04-27T10:13:31+00:00', 'media_type': 'tv', 'status': 'currently_airing', 'genres': [{'id': 4, 'name': 'Comedy'}, {'id': 23, 'name': 'School'}, {'id': 25, 'name': 'Shoujo'}, {'id': 36, 'name': 'Slice of Life'}], 'num_episodes': 0, 'start_season': {'year': 1995, 'season': 'winter'}, 'broadcast': {'day_of_the_week': 'sunday', 'start_time': '18:00'}, 'source': 'manga', 'average_episode_duration': 1380, 'rating': 'g', 'background': '', 'studios': [{'id': 22, 'name': 'Nippon Animation'}], 'statistics': {'status': {'watching': '1921', 'completed': 0, 'on_hold': '830', 'dropped': '1128', 'plan_to_watch': '1718'}, 'num_list_users': 5597}}, {'id': 2397, 'title': 'Digimon Adventure: Bokura no War Game!', 'main_picture': {'medium': 'https://cdn.myanimelist.net/images/anime/12/72451.jpg', 'large': 'https://cdn.myanimelist.net/images/anime/12/72451l.jpg'}, 'start_date': '2000-03-04', 'end_date': '2000-03-04', 'synopsis': \"This movie takes place after the Adventure series ends. It begins when a new Digimon Egg is found on the internet, and manages to penetrate into almost every computer system in Japan. When the egg hatches, it's identified as a new kind of Digimon, a Virus-type. It sustains itself by eating data from various system, and starts wreaking havok in Japan. As it consumes more and more data, it continues to evolve. And Taichi and Koushiro decide it's time to stop it.\\n\\nThey're off, sending Agumon and Tentomon through the internet to fight off this new enemy. But, with the Virus controlling systems like the American military, all too soon, this digital menace may become all too real. Calling in the help of Yamato and Takeru, they hope that they can stop what's already begun, and maybe save this world a second time.\\n\\n(Source: AniDB)\", 'mean': 7.79, 'rank': 978, 'popularity': 2356, 'num_list_users': 77312, 'num_scoring_users': 47976, 'nsfw': 'white', 'created_at': '2007-04-28T20:51:12+00:00', 'updated_at': '2022-04-16T16:09:44+00:00', 'media_type': 'movie', 'status': 'finished_airing', 'genres': [{'id': 2, 'name': 'Adventure'}, {'id': 4, 'name': 'Comedy'}, {'id': 15, 'name': 'Kids'}, {'id': 24, 'name': 'Sci-Fi'}], 'num_episodes': 1, 'start_season': {'year': 2000, 'season': 'winter'}, 'source': 'original', 'average_episode_duration': 2460, 'rating': 'pg', 'background': \"Digimon Adventure: Bokura no War Game was aired in theaters as a double feature alongside the One Piece movie as part of Toei's Spring 2000 Anime fair. \\n\\nIn the US release titled Digimon: The Movie, three of the Digimon films were edited together into one single film due to the low individual run time of them. It was released nationwide on October 6, 2000. Several heavy changes were made in this edit such as plot changes to make the story connected and a soundtrack featuring insert songs from artists such as Smash Mouth. Cumulatively, over 40 minutes was cut  from the original releases. The movie was divided into three parts, which are respective of the original films.\", 'studios': [{'id': 18, 'name': 'Toei Animation'}], 'statistics': {'status': {'watching': '797', 'completed': '69751', 'on_hold': '322', 'dropped': '360', 'plan_to_watch': '6081'}, 'num_list_users': 77311}}, {'id': 58, 'title': 'Blue Gender', 'main_picture': {'medium': 'https://cdn.myanimelist.net/images/anime/1/2023.jpg', 'large': 'https://cdn.myanimelist.net/images/anime/1/2023l.jpg'}, 'start_date': '1999-10-08', 'end_date': '2000-03-31', 'synopsis': 'Blue Gender takes place in the not too distant future in a world where things have gone terribly wrong for humanity. Humans have been replaced at the top of the food chain by the Blue, a race of bug-like aliens that have colonized Earth and pushed humans aside. A space station, Second Earth, has been constructed as a safe haven for humans, with the hope of one day reclaiming the Earth once more.\\n\\nYuji Kaido was cryogenically frozen, having been suffering from a disease known as B-Cells. Once awakened, he joins a team of soldiers that have come to Earth to extract him. Unfortunately, nothing goes according to plan as they make their way back to Second Earth.\\n\\nYuji will have to deal with the horrors of fighting a bloody war as he and the fighters from Second Earth look to survive. Will they be able to win back Earth without losing their humanity?', 'mean': 7.02, 'rank': 4048, 'popularity': 2308, 'num_list_users': 79707, 'num_scoring_users': 29973, 'nsfw': 'white', 'created_at': '2005-11-11T06:09:19+00:00', 'updated_at': '2023-09-14T23:52:16+00:00', 'media_type': 'tv', 'status': 'finished_airing', 'genres': [{'id': 1, 'name': 'Action'}, {'id': 2, 'name': 'Adventure'}, {'id': 8, 'name': 'Drama'}, {'id': 58, 'name': 'Gore'}, {'id': 14, 'name': 'Horror'}, {'id': 18, 'name': 'Mecha'}, {'id': 38, 'name': 'Military'}, {'id': 24, 'name': 'Sci-Fi'}, {'id': 29, 'name': 'Space'}], 'num_episodes': 26, 'start_season': {'year': 1999, 'season': 'fall'}, 'broadcast': {'day_of_the_week': 'thursday', 'start_time': '01:55'}, 'source': 'original', 'average_episode_duration': 1380, 'rating': 'r+', 'background': '', 'studios': [{'id': 48, 'name': 'AIC'}], 'statistics': {'status': {'watching': '3612', 'completed': '36260', 'on_hold': '2937', 'dropped': '3689', 'plan_to_watch': '33201'}, 'num_list_users': 79699}}, {'id': 966, 'title': 'Crayon Shin-chan', 'main_picture': {'medium': 'https://cdn.myanimelist.net/images/anime/10/59897.jpg', 'large': 'https://cdn.myanimelist.net/images/anime/10/59897l.jpg'}, 'start_date': '1992-04-13', 'synopsis': 'There is no such thing as an uneventful day in the life of kindergartener Shinnosuke \"Shin-chan\" Nohara. The five-year-old is a cut above the most troublesome, perverted, and shameless kid one can imagine. Shin-chan is almost always engaged in questionable activities such as forgetting about a friend during hide and seek, sumo wrestling for love, performing various gags including the notorious \"elephant\" in public, and flirting with college girls. The exemplary troublemaker has done it all and has no plans to stop anytime soon.\\n\\nCrayon Shin-chan follows the daily shenanigans of Shin-chan with his group of friends, parading around as the self-proclaimed \"Kasukabe Defense Force.\" The adults witnessing these shenanigans unfold can\\'t help but adore Shin-chan, as he keeps them entertained while unintentionally solving their daily troubles through his mindless antics—leaving himself as the only problem they do not know what to do with.\\n\\n[Written by MAL Rewrite]', 'mean': 7.78, 'rank': 986, 'popularity': 2277, 'num_list_users': 81565, 'num_scoring_users': 39618, 'nsfw': 'white', 'created_at': '2006-05-09T06:45:29+00:00', 'updated_at': '2022-12-24T12:11:49+00:00', 'media_type': 'tv', 'status': 'currently_airing', 'genres': [{'id': 4, 'name': 'Comedy'}, {'id': 9, 'name': 'Ecchi'}, {'id': 23, 'name': 'School'}, {'id': 42, 'name': 'Seinen'}], 'num_episodes': 0, 'start_season': {'year': 1992, 'season': 'spring'}, 'broadcast': {'day_of_the_week': 'friday', 'start_time': '19:30'}, 'source': 'manga', 'average_episode_duration': 1260, 'rating': 'g', 'background': 'The first English dubbed version was produced with many famous voice actors through 2001–2002 by Vitello Productions. In 2004, Phuuz Entertainment produced a continuation of the Vitello dub with different Los Angeles-based voice actors. The Phuuz and Vitello dub aired in the United Kingdom, Australia, and Republic of Ireland, and translations of these dubs aired in Europe and Latin America. The dubs were close to the original but had seen some censorship. The English dubbed version by Funimation was produced in 2005, featuring a Texas-based cast of voice actors, and was altered in comparison to the original—sexual references, dark humor, and references to popular American culture were added later on. Additionally, many non-existent backstories and different personalities were created.\\n\\nCrayon Shin-chan has also been adapted into video games, mobile games and tons of anime movies.', 'studios': [{'id': 247, 'name': 'Shin-Ei Animation'}], 'statistics': {'status': {'watching': '32165', 'completed': '5', 'on_hold': '16990', 'dropped': '17794', 'plan_to_watch': '14608'}, 'num_list_users': 81562}}, {'id': 235, 'title': 'Detective Conan', 'main_picture': {'medium': 'https://cdn.myanimelist.net/images/anime/7/75199.jpg', 'large': 'https://cdn.myanimelist.net/images/anime/7/75199l.jpg'}, 'start_date': '1996-01-08', 'synopsis': \"Shinichi Kudou, a high school student of astounding talent in detective work, is well known for having solved several challenging cases. One day, when Shinichi spots two suspicious men and decides to follow them, he inadvertently becomes witness to a disturbing illegal activity. Unfortunately, he is caught in the act, so the men dose him with an experimental drug formulated by their criminal organization, leaving him to his death. However, to his own astonishment, Shinichi lives to see another day, but now in the body of a seven-year-old child.\\n\\nPerfectly preserving his original intelligence, he hides his real identity from everyone, including his childhood friend Ran Mouri and her father, private detective Kogorou Mouri. To this end, he takes on the alias of Conan Edogawa, inspired by the mystery writers Arthur Conan Doyle and Ranpo Edogawa.\\n\\nDetective Conan follows Shinichi who, as Conan, starts secretly solving the senior Mouri's cases from behind the scenes with his still exceptional sleuthing skills, while covertly investigating the organization responsible for his current state, hoping to reverse the drug's effects someday.\\n\\n[Written by MAL Rewrite]\", 'mean': 8.17, 'rank': 391, 'popularity': 664, 'num_list_users': 341395, 'num_scoring_users': 156766, 'nsfw': 'white', 'created_at': '2005-11-13T02:32:28+00:00', 'updated_at': '2023-09-30T16:28:25+00:00', 'media_type': 'tv', 'status': 'currently_airing', 'genres': [{'id': 2, 'name': 'Adventure'}, {'id': 4, 'name': 'Comedy'}, {'id': 39, 'name': 'Detective'}, {'id': 7, 'name': 'Mystery'}, {'id': 27, 'name': 'Shounen'}], 'num_episodes': 0, 'start_season': {'year': 1996, 'season': 'winter'}, 'broadcast': {'day_of_the_week': 'saturday', 'start_time': '18:00'}, 'source': 'manga', 'average_episode_duration': 1500, 'rating': 'pg_13', 'background': 'In 2003, FUNimation licensed the first 104 episodes of the series for North American production under the name Case Closed. They later decided to stop pursuing more episodes past episode 123 due to poor sales. In 2014, Crunchyroll obtained a license to stream simulcast episodes of Detective Conan on their website starting with episode 754. \\n\\nWinner of the Animation Award (DIVE Award) of the 2010 Japanese Movie Critics Awards.', 'studios': [{'id': 73, 'name': 'TMS Entertainment'}], 'statistics': {'status': {'watching': '157574', 'completed': '5', 'on_hold': '71758', 'dropped': '46818', 'plan_to_watch': '65230'}, 'num_list_users': 341385}}, {'id': 2471, 'title': 'Doraemon (1979)', 'main_picture': {'medium': 'https://cdn.myanimelist.net/images/anime/3/3953.jpg', 'large': 'https://cdn.myanimelist.net/images/anime/3/3953l.jpg'}, 'start_date': '1979-04-02', 'end_date': '2005-03-18', 'synopsis': 'Nobita Nobi is a normal fourth grade student. This all changes, however, when a blue robotic cat appears from his desk drawer. Calling himself Doraemon, this robot tells Nobita that his future descendants from the 22nd century live in poverty because of all the mistakes he made. Therefore, they have sent Doraemon to serve as a guide and mentor to Nobita, so that their future may change for the better. What Doraemon comes to learn, though, is that Nobita is the weakest and laziest student in the whole school.\\n\\nTo assist in his quest, Doraemon has a four-dimensional pocket with him, in which he keeps various machines and gadgets from the future. Unfortunately, these often result in even more trouble for Nobita. Will Doraemon really be able to achieve his mission of changing Nobita, or will he remain as he is?\\n\\n[Written by MAL Rewrite]', 'mean': 7.81, 'rank': 926, 'popularity': 2703, 'num_list_users': 61108, 'num_scoring_users': 36608, 'nsfw': 'white', 'created_at': '2007-05-11T22:02:20+00:00', 'updated_at': '2023-01-05T18:31:29+00:00', 'media_type': 'tv', 'status': 'finished_airing', 'genres': [{'id': 2, 'name': 'Adventure'}, {'id': 51, 'name': 'Anthropomorphic'}, {'id': 4, 'name': 'Comedy'}, {'id': 10, 'name': 'Fantasy'}, {'id': 15, 'name': 'Kids'}, {'id': 24, 'name': 'Sci-Fi'}, {'id': 27, 'name': 'Shounen'}], 'num_episodes': 1787, 'start_season': {'year': 1979, 'season': 'spring'}, 'broadcast': {'day_of_the_week': 'friday', 'start_time': '19:00'}, 'source': 'manga', 'average_episode_duration': 660, 'rating': 'pg', 'background': '', 'studios': [{'id': 247, 'name': 'Shin-Ei Animation'}], 'statistics': {'status': {'watching': '5782', 'completed': '34595', 'on_hold': '5346', 'dropped': '8912', 'plan_to_watch': '6471'}, 'num_list_users': 61106}}, {'id': 232, 'title': 'Cardcaptor Sakura', 'main_picture': {'medium': 'https://cdn.myanimelist.net/images/anime/8/60781.jpg', 'large': 'https://cdn.myanimelist.net/images/anime/8/60781l.jpg'}, 'start_date': '1998-04-07', 'end_date': '2000-03-21', 'synopsis': 'Ten-year-old Sakura Kinomoto is an ordinary fourth-grade student living in Tomoeda until, one day, she stumbles upon a mysterious book of cards titled \"The Clow.\" Pondering over her discovery, she unintentionally causes a magical gust of wind to scatter the cards all over town.\\n\\nThe accident awakens the Beast of the Seal—Keroberos, nicknamed \"Kero\"—who tells Sakura that she has released the mystical \"Clow Cards\" created by the sorcerer Clow Reed. Due to each Card\\'s ability to act independently and their incredible power, Clow had sealed them away. Now that they have been set free, the Cards pose great danger to the world, and it is up to Sakura to put an end to them.\\n\\nAppointing Sakura as the \"Cardcaptor\" and granting her the Sealed Key, Kero tasks her with finding and recapturing all the Clow Cards. Alongside her best friend Tomoyo Daidouji, and with Kero\\'s guidance, Sakura must learn to balance her new secret duty with the everyday troubles as she takes flight on her magical adventures as Cardcaptor Sakura.\\n\\n[Written by MAL Rewrite]\\n', 'mean': 8.16, 'rank': 405, 'popularity': 509, 'num_list_users': 428080, 'num_scoring_users': 215835, 'nsfw': 'white', 'created_at': '2005-11-13T02:28:29+00:00', 'updated_at': '2023-03-04T20:05:58+00:00', 'media_type': 'tv', 'status': 'finished_airing', 'genres': [{'id': 2, 'name': 'Adventure'}, {'id': 4, 'name': 'Comedy'}, {'id': 8, 'name': 'Drama'}, {'id': 10, 'name': 'Fantasy'}, {'id': 66, 'name': 'Mahou Shoujo'}, {'id': 22, 'name': 'Romance'}, {'id': 23, 'name': 'School'}, {'id': 25, 'name': 'Shoujo'}], 'num_episodes': 70, 'start_season': {'year': 1998, 'season': 'spring'}, 'broadcast': {'day_of_the_week': 'tuesday', 'start_time': '18:00'}, 'source': 'manga', 'average_episode_duration': 1500, 'rating': 'pg', 'background': 'Cardcaptor Sakura won the Animage Grand Prix award for Best Anime in 1999.', 'studios': [{'id': 11, 'name': 'Madhouse'}], 'statistics': {'status': {'watching': '31973', 'completed': '261767', 'on_hold': '26966', 'dropped': '17798', 'plan_to_watch': '89570'}, 'num_list_users': 428074}}, {'id': 1138, 'title': 'Medarot', 'main_picture': {'medium': 'https://cdn.myanimelist.net/images/anime/1778/133514.jpg', 'large': 'https://cdn.myanimelist.net/images/anime/1778/133514l.jpg'}, 'start_date': '1999-07-02', 'end_date': '2000-06-30', 'synopsis': 'Medabots—powerful robots granted artificial intelligence through special \"medals\"—serve at the whims of their owner. They are more commonly used in \"Robbatling,\" a popular combat sport where two medabots face off against one another. In its professional form, Medafighters use their Medabots to qualify for the World Tournament and fight amongst the elite to gain the title of champion.\\n\\nElementary schooler Ikki Tenryou has just gained his first Medabot: Metabee, an outdated model with no medal. Fortunately, however, Ikki manages to find a medal in the nearby river; but when Ikki places it into Metabee\\'s head, the latter starts to exhibit strange behaviour. Short-tempered and rebellious, he refuses to obey Ikki\\'s orders. However, to climb the ranks to the World Tournament, Ikki and Metabee must first learn to work together, no matter how difficult the prospect may seem…\\n\\n[Written by MAL Rewrite]', 'mean': 7.08, 'rank': 3782, 'popularity': 2777, 'num_list_users': 58181, 'num_scoring_users': 32496, 'nsfw': 'white', 'created_at': '2006-07-02T12:03:12+00:00', 'updated_at': '2022-12-13T12:42:10+00:00', 'media_type': 'tv', 'status': 'finished_airing', 'genres': [{'id': 2, 'name': 'Adventure'}, {'id': 4, 'name': 'Comedy'}, {'id': 24, 'name': 'Sci-Fi'}], 'num_episodes': 52, 'start_season': {'year': 1999, 'season': 'summer'}, 'broadcast': {'day_of_the_week': 'friday', 'start_time': '18:00'}, 'source': 'game', 'average_episode_duration': 1475, 'rating': 'pg', 'background': 'The anime combines the details and plot of the first two video games into the adaptation.', 'studios': [{'id': 5, 'name': 'Bee Train'}], 'statistics': {'status': {'watching': '2416', 'completed': '41516', 'on_hold': '2615', 'dropped': '3505', 'plan_to_watch': '8125'}, 'num_list_users': 58177}}, {'id': 567, 'title': 'The Big O', 'main_picture': {'medium': 'https://cdn.myanimelist.net/images/anime/1/567.jpg', 'large': 'https://cdn.myanimelist.net/images/anime/1/567l.jpg'}, 'start_date': '1999-10-13', 'end_date': '2003-03-27', 'synopsis': \"Paradigm City, a city of amnesia and a place of belonging. It remains populated by forgotten pasts and the ruins of their labors due to a calamity 40 years ago. Shrouded in a fog-like mystery, it is up to people like Roger Smith to shine a light through the mist. Acting as a professional negotiator and suave agent, Roger is a self-tailored ladies man whose only love is for funeral black. However, as he gets deeply involved with his clients, what often starts as a simple negotiation evolves into Roger saving Paradigm from crime and peril.\\n\\nIn the process, Roger stumbles even deeper into the untold folds of the city. As a rule, things are hardly ever as they appear. Serving as gray knight in a gray world, Roger is not without allies. By his side are Norman, a loyal and widely skilled butler, and Dorothy, a human-like android with deadpan snark. Together with the relic Big O, a jet-black mecha of gargantuan size and weight, they help Roger serve iron justice to Paradigm's lurking villains as he discovers the truth about 40 years ago.\\n\\n[Written by MAL Rewrite]\", 'mean': 7.53, 'rank': 1663, 'popularity': 2078, 'num_list_users': 94557, 'num_scoring_users': 37479, 'nsfw': 'white', 'created_at': '2006-01-13T00:05:08+00:00', 'updated_at': '2022-04-16T17:50:23+00:00', 'media_type': 'tv', 'status': 'finished_airing', 'genres': [{'id': 1, 'name': 'Action'}, {'id': 18, 'name': 'Mecha'}, {'id': 7, 'name': 'Mystery'}, {'id': 40, 'name': 'Psychological'}, {'id': 24, 'name': 'Sci-Fi'}], 'num_episodes': 26, 'start_season': {'year': 1999, 'season': 'fall'}, 'source': 'original', 'average_episode_duration': 1440, 'rating': 'pg_13', 'background': '', 'studios': [{'id': 14, 'name': 'Sunrise'}], 'statistics': {'status': {'watching': '4730', 'completed': '45405', 'on_hold': '4923', 'dropped': '3673', 'plan_to_watch': '35818'}, 'num_list_users': 94549}}, {'id': 459, 'title': 'One Piece Movie 01', 'main_picture': {'medium': 'https://cdn.myanimelist.net/images/anime/1770/97704.jpg', 'large': 'https://cdn.myanimelist.net/images/anime/1770/97704l.jpg'}, 'start_date': '2000-03-04', 'end_date': '2000-03-04', 'synopsis': \"Many years ago, Woonan, a legendary pirate, plundered one-third of the world's gold and stashed it away on his secret island shrouded in mystery. \\n\\nIn the present, Luffy and the rest of the Straw Hats continue on their journey to the Grand Line. They are robbed by a group of bandits. Led by their captain, El Drago, these same bandits are headed towards Woonan's famed island. Even though the Straw Hat Pirates must now recover their stolen treasure, they have gained another objective: to discover the lost island, its treasures, and learn about the legend of Woonan.\\n\\n[Written by MAL Rewrite]\", 'mean': 7.09, 'rank': 3731, 'popularity': 1642, 'num_list_users': 130587, 'num_scoring_users': 74821, 'nsfw': 'white', 'created_at': '2005-12-31T04:21:34+00:00', 'updated_at': '2023-09-22T03:18:12+00:00', 'media_type': 'movie', 'status': 'finished_airing', 'genres': [{'id': 1, 'name': 'Action'}, {'id': 2, 'name': 'Adventure'}, {'id': 10, 'name': 'Fantasy'}, {'id': 27, 'name': 'Shounen'}], 'num_episodes': 1, 'start_season': {'year': 2000, 'season': 'winter'}, 'source': 'manga', 'average_episode_duration': 3052, 'rating': 'pg_13', 'background': \"One Piece Movie 01 was aired in theaters as a double feature alongside Digimon Adventure: Bokura no War Game as part of Toei's Spring 2000 Anime fair. \", 'studios': [{'id': 18, 'name': 'Toei Animation'}], 'statistics': {'status': {'watching': '3948', 'completed': '110975', 'on_hold': '699', 'dropped': '610', 'plan_to_watch': '14347'}, 'num_list_users': 130579}}, {'id': 1137, 'title': 'Mushrambo', 'main_picture': {'medium': 'https://cdn.myanimelist.net/images/anime/4/87702.jpg', 'large': 'https://cdn.myanimelist.net/images/anime/4/87702l.jpg'}, 'start_date': '2000-02-05', 'end_date': '2000-09-23', 'synopsis': \"In the world of Mushrambo, human life has all but come to an end. After a deadly virus threatened the extinction of mankind, a new race called the Enterrans was created to preserve life on Earth. However, relations between the Enterrans and their creators did not remain peaceful. Soon a war broke out with the Enterrans fighting against the humans and their robots. Ultimately the Enterrans were the victors of this conflict, renaming Earth as Enterra in honor of their victory.\\n\\nBefore the last vestiges of humanity fell, one of the few remaining scientists put his daughter, Yakumo Shindou, into a sleep chamber. His hope was that his daughter would one day reawaken and find the human sanctuary known as Shinzo, reviving humanity and restoring peace between humans and Enterrans. Centuries have passed since the war; Yakumo now awakens and meets an Enterran named Mashura who pledges to assist in her quest. Also joined by the Enterrans Sago and Kutal, the group must now work to locate Yakumo's missing memories and locate Shinzo. But not every Enterran is as kind as Yakumo's new friends and some are prepared to commit any atrocity to prevent the return of humanity.\", 'mean': 6.93, 'rank': 4433, 'popularity': 5138, 'num_list_users': 15907, 'num_scoring_users': 7968, 'nsfw': 'white', 'created_at': '2006-07-02T12:01:08+00:00', 'updated_at': '2022-12-15T22:08:57+00:00', 'media_type': 'tv', 'status': 'finished_airing', 'genres': [{'id': 2, 'name': 'Adventure'}, {'id': 8, 'name': 'Drama'}, {'id': 10, 'name': 'Fantasy'}, {'id': 24, 'name': 'Sci-Fi'}], 'num_episodes': 32, 'start_season': {'year': 2000, 'season': 'winter'}, 'broadcast': {'day_of_the_week': 'saturday', 'start_time': '18:28'}, 'source': 'original', 'average_episode_duration': 1397, 'rating': 'pg', 'background': 'Mushrambo was based on the famous 16th century Chinese novel Journey to the West, but adapted to a futuristic science fiction setting. Mashura is based on Sun Wukong, Yakumo on Xuanzang, Sago on Sha Wujing, and Kutal on Zhu Bajie. \\n\\nThe series first aired on TV Asahi. The US adaption originally aired on Fox Kids and later re-aired on Jetix and ABC Family.', 'studios': [{'id': 18, 'name': 'Toei Animation'}], 'statistics': {'status': {'watching': '584', 'completed': '10366', 'on_hold': '640', 'dropped': '782', 'plan_to_watch': '3533'}, 'num_list_users': 15905}}, {'id': 552, 'title': 'Digimon Adventure', 'main_picture': {'medium': 'https://cdn.myanimelist.net/images/anime/1471/99249.jpg', 'large': 'https://cdn.myanimelist.net/images/anime/1471/99249l.jpg'}, 'start_date': '1999-03-07', 'end_date': '2000-03-26', 'synopsis': 'When a group of seven children go to summer camp, the last thing that they expect is snow falling in July. In the confusion that follows this phenomenon, they each receive an odd device that transports them to another world. As soon as they wake up in this new world, they encounter strange creatures who call themselves \"Digimon.\" The Digimon tell them that they\\'ve landed in the \"Digital World,\" far from home.\\n\\nWith only the Digimon and the \"Digivices\" as protection, the seven children set off to find their way home and learn the reason why they were brought here. Led by the impulsive Taichi Yagami and his hungry Digimon partner Agumon, this group will have to fight unknown evils as they discover more about this outlandish Digital World.\\n\\n[Written by MAL Rewrite]', 'mean': 7.77, 'rank': 1008, 'popularity': 558, 'num_list_users': 394993, 'num_scoring_users': 253271, 'nsfw': 'white', 'created_at': '2006-01-06T00:30:29+00:00', 'updated_at': '2022-04-18T04:19:20+00:00', 'media_type': 'tv', 'status': 'finished_airing', 'genres': [{'id': 1, 'name': 'Action'}, {'id': 2, 'name': 'Adventure'}, {'id': 4, 'name': 'Comedy'}, {'id': 10, 'name': 'Fantasy'}, {'id': 62, 'name': 'Isekai'}, {'id': 15, 'name': 'Kids'}], 'num_episodes': 54, 'start_season': {'year': 1999, 'season': 'spring'}, 'broadcast': {'day_of_the_week': 'sunday', 'start_time': '09:00'}, 'source': 'other', 'average_episode_duration': 1440, 'rating': 'pg', 'background': 'Digimon Adventure was originally planned to be a short film, but it was expanded into a full-fledged series before production could begin.', 'studios': [{'id': 18, 'name': 'Toei Animation'}], 'statistics': {'status': {'watching': '11966', 'completed': '341158', 'on_hold': '8677', 'dropped': '10216', 'plan_to_watch': '22972'}, 'num_list_users': 394989}}, {'id': 369, 'title': 'Boogiepop wa Warawanai', 'main_picture': {'medium': 'https://cdn.myanimelist.net/images/anime/1327/95777.jpg', 'large': 'https://cdn.myanimelist.net/images/anime/1327/95777l.jpg'}, 'start_date': '2000-01-05', 'end_date': '2000-03-22', 'synopsis': 'Five years ago, a string of grisly murders shook the city to its core and now the rumors have begun once more. Boogiepop... Everyone knows about Boogiepop: meet her one dark night and you are taken. People tell each other the stories and laugh: no one believes that she can possibly exist in this day and age. Still, strange things appear to be going on and the darkness is taking on many forms. Something is out there. Are you safe?\\n\\n(Source: RightStuf)', 'mean': 7.16, 'rank': 3381, 'popularity': 1620, 'num_list_users': 132112, 'num_scoring_users': 33461, 'nsfw': 'white', 'created_at': '2005-11-25T10:26:13+00:00', 'updated_at': '2022-04-17T23:15:07+00:00', 'media_type': 'tv', 'status': 'finished_airing', 'genres': [{'id': 5, 'name': 'Avant Garde'}, {'id': 8, 'name': 'Drama'}, {'id': 14, 'name': 'Horror'}, {'id': 7, 'name': 'Mystery'}, {'id': 40, 'name': 'Psychological'}, {'id': 37, 'name': 'Supernatural'}], 'num_episodes': 12, 'start_season': {'year': 2000, 'season': 'winter'}, 'broadcast': {'day_of_the_week': 'thursday', 'start_time': '01:45'}, 'source': 'light_novel', 'average_episode_duration': 1440, 'rating': 'r+', 'background': '', 'studios': [{'id': 11, 'name': 'Madhouse'}], 'statistics': {'status': {'watching': '7697', 'completed': '38539', 'on_hold': '5633', 'dropped': '5505', 'plan_to_watch': '74734'}, 'num_list_users': 132108}}, {'id': 95, 'title': 'Turn A Gundam', 'main_picture': {'medium': 'https://cdn.myanimelist.net/images/anime/4/78330.jpg', 'large': 'https://cdn.myanimelist.net/images/anime/4/78330l.jpg'}, 'start_date': '1999-04-09', 'end_date': '2000-04-14', 'synopsis': 'It is the Correct Century, two millennia after a devastating conflict which left the world broken. Earth is now mostly uninhabitable, and thus a remnant of humanity has resided on the Moon while the Earth and its few survivors recover. For years, the \"Moonrace,\" the people of the Moon, have continued to check if Earth is fit for resettlement.\\n\\nA boy named Loran Cehack and two others are sent down to Earth for a reconnaissance mission. Loran ends up spending a year on the planet working for the Heim Family, aristocrats living in a Victorian-like society. This family, like others of similar wealthy status, celebrates one\\'s coming of age with a ceremony involving a giant stone statue known as the \"White Doll.\"\\n\\nTo Loran\\'s surprise, the Moonrace suddenly touches down on Earth with the intent of taking it by force. During the attack, the White Doll is broken apart, revealing a mobile suit called the \"Turn A Gundam\" inside. With Loran in its cockpit, the Turn A causes a standoff between the forces of Earth and Moon. The young pilot, along with the people of both sides, must keep the peace and avoid another all-out, catastrophic war.\\n\\n[Written by MAL Rewrite]', 'mean': 7.76, 'rank': 1037, 'popularity': 3107, 'num_list_users': 47001, 'num_scoring_users': 16565, 'nsfw': 'white', 'created_at': '2005-11-11T13:54:05+00:00', 'updated_at': '2023-07-20T13:57:49+00:00', 'media_type': 'tv', 'status': 'finished_airing', 'genres': [{'id': 1, 'name': 'Action'}, {'id': 2, 'name': 'Adventure'}, {'id': 46, 'name': 'Award Winning'}, {'id': 8, 'name': 'Drama'}, {'id': 18, 'name': 'Mecha'}, {'id': 38, 'name': 'Military'}, {'id': 22, 'name': 'Romance'}, {'id': 24, 'name': 'Sci-Fi'}, {'id': 29, 'name': 'Space'}], 'num_episodes': 50, 'start_season': {'year': 1999, 'season': 'spring'}, 'broadcast': {'day_of_the_week': 'friday', 'start_time': '17:00'}, 'source': 'original', 'average_episode_duration': 1445, 'rating': 'pg_13', 'background': '', 'studios': [{'id': 14, 'name': 'Sunrise'}], 'statistics': {'status': {'watching': '3349', 'completed': '19229', 'on_hold': '2793', 'dropped': '1809', 'plan_to_watch': '19818'}, 'num_list_users': 46998}}, {'id': 379, 'title': 'Heppoko Jikken Animation Excel♥Saga', 'main_picture': {'medium': 'https://cdn.myanimelist.net/images/anime/1728/97423.jpg', 'large': 'https://cdn.myanimelist.net/images/anime/1728/97423l.jpg'}, 'start_date': '1999-10-08', 'end_date': '2000-03-31', 'synopsis': \"It's hard to take over the world, and the enigmatic Il Palazzo, head of the ACROSS organization, knows this, so he aims to start small by conquering the city of Fukuoka. Two young officers, the Excel and her partner Hyatt, are tasked with executing this plan, but standing in their way are the City Security workers, a group consisting of three (mostly) normal guys, a very severe girl, and some robots. Regardless of simplicity, Excel and Hyatt always manage to screw up their missions, which usually result in death and lots of destruction.\\n\\nHeppoko Jikken Animation Excel♥Saga chronicles the elaborate troubles that the ACROSS officers get themselves into, as Excel and Hyatt never fail to do their jobs improperly.\\n\\n[Written by MAL Rewrite]\\n\", 'mean': 7.49, 'rank': 1841, 'popularity': 1899, 'num_list_users': 108109, 'num_scoring_users': 48415, 'nsfw': 'white', 'created_at': '2005-11-25T10:37:19+00:00', 'updated_at': '2023-10-04T19:55:34+00:00', 'media_type': 'tv', 'status': 'finished_airing', 'genres': [{'id': 50, 'name': 'Adult Cast'}, {'id': 4, 'name': 'Comedy'}, {'id': 57, 'name': 'Gag Humor'}, {'id': 20, 'name': 'Parody'}, {'id': 24, 'name': 'Sci-Fi'}, {'id': 42, 'name': 'Seinen'}], 'num_episodes': 26, 'start_season': {'year': 1999, 'season': 'fall'}, 'broadcast': {'day_of_the_week': 'friday', 'start_time': '01:45'}, 'source': 'manga', 'average_episode_duration': 1470, 'rating': 'r', 'background': \"At the publisher's request, the anime series follows a different storyline from the manga.\\n\\nThe twenty-sixth episode Going Too Far was deliberately created to be too violent and obscene for broadcast in Japan and was instead included as a DVD bonus.\\n\\n(Source: Wikipedia)\", 'studios': [{'id': 7, 'name': 'J.C.Staff'}], 'statistics': {'status': {'watching': '5808', 'completed': '52719', 'on_hold': '7500', 'dropped': '8082', 'plan_to_watch': '33996'}, 'num_list_users': 108105}}, {'id': 763, 'title': 'Zoids', 'main_picture': {'medium': 'https://cdn.myanimelist.net/images/anime/2/15412.jpg', 'large': 'https://cdn.myanimelist.net/images/anime/2/15412l.jpg'}, 'start_date': '1999-09-04', 'end_date': '2000-12-23', 'synopsis': 'In a remote desert on the Planet Zi, a boy named Van discovers an abandoned, dilapidated facility. Inside, he finds an opaque cocoon that breaks on its own, and a dinosaur-like robot known as an \"Organoid\" emerges from the shell. Van names the creature Zeke and claims it for himself, but a group of bandits come after him to seize the Organoid. The bandits are equipped with \"Zoids,\" beast-like mechanical units that are used for combat. Van is able to fend off his pursuers by reviving and fusing with an old Zoid dubbed the \"Shield Liger.\"\\n\\nVan returns to the facility with Zeke in tow and finds a new cocoon. He is ecstatic that he may have obtained another Organoid, but when the cocoon breaks, a girl emerges from it instead. Unaware of her origins, the girl only remembers that her name is Fiona and that she has to locate an object called the \"Zoid Eve.\" Determined to solve the mystery behind her existence, Fiona ventures out alongside Van and Zeke to uncover what the Zoid Eve truly is. The trio runs across many friends and foes in their adventure, encountering various dangers and experiencing slices of light-heartedness as they travel.\\n\\n[Written by MAL Rewrite]\\n', 'mean': 7.36, 'rank': 2359, 'popularity': 3023, 'num_list_users': 49323, 'num_scoring_users': 25653, 'nsfw': 'white', 'created_at': '2006-02-18T18:36:04+00:00', 'updated_at': '2022-04-14T13:44:07+00:00', 'media_type': 'tv', 'status': 'finished_airing', 'genres': [{'id': 1, 'name': 'Action'}, {'id': 2, 'name': 'Adventure'}, {'id': 4, 'name': 'Comedy'}, {'id': 18, 'name': 'Mecha'}, {'id': 24, 'name': 'Sci-Fi'}], 'num_episodes': 67, 'start_season': {'year': 1999, 'season': 'fall'}, 'broadcast': {'day_of_the_week': 'saturday', 'start_time': '18:00'}, 'source': 'other', 'average_episode_duration': 1500, 'rating': 'pg_13', 'background': '', 'studios': [{'id': 27, 'name': 'Xebec'}], 'statistics': {'status': {'watching': '1879', 'completed': '34132', 'on_hold': '2085', 'dropped': '2888', 'plan_to_watch': '8338'}, 'num_list_users': 49322}}, {'id': 606, 'title': 'Kazemakase Tsukikage Ran', 'main_picture': {'medium': 'https://cdn.myanimelist.net/images/anime/5/16745.jpg', 'large': 'https://cdn.myanimelist.net/images/anime/5/16745l.jpg'}, 'start_date': '2000-01-26', 'end_date': '2000-04-19', 'synopsis': 'In the Edo or Tokugawa period (1600–1868), Ran, a female wandering samurai whose skill with the katana is only matched by her taste for sake (rice wine), is joined by a chinese martial artist who calls herself Lady Meow of the Iron Cat Fist. Tsukikage Ran has individual episodes that are just short stories of their adventures.', 'mean': 7.21, 'rank': 3091, 'popularity': 5038, 'num_list_users': 16866, 'num_scoring_users': 5602, 'nsfw': 'white', 'created_at': '2006-01-29T17:05:44+00:00', 'updated_at': '2022-04-14T09:55:21+00:00', 'media_type': 'tv', 'status': 'finished_airing', 'genres': [{'id': 2, 'name': 'Adventure'}, {'id': 4, 'name': 'Comedy'}, {'id': 13, 'name': 'Historical'}, {'id': 17, 'name': 'Martial Arts'}, {'id': 21, 'name': 'Samurai'}], 'num_episodes': 13, 'start_season': {'year': 2000, 'season': 'winter'}, 'broadcast': {'day_of_the_week': 'wednesday', 'start_time': '19:00'}, 'source': 'original', 'average_episode_duration': 1440, 'rating': 'pg_13', 'background': '', 'studios': [{'id': 11, 'name': 'Madhouse'}], 'statistics': {'status': {'watching': '865', 'completed': '6719', 'on_hold': '642', 'dropped': '610', 'plan_to_watch': '8028'}, 'num_list_users': 16864}}, {'id': 3545, 'title': 'Kochira Katsushikaku Kameari Kouenmae Hashutsujo', 'main_picture': {'medium': 'https://cdn.myanimelist.net/images/anime/5/21196.jpg', 'large': 'https://cdn.myanimelist.net/images/anime/5/21196l.jpg'}, 'start_date': '1996-06-16', 'end_date': '2004-12-19', 'synopsis': 'Ryoutsu, being an underpaid policeman, is always coming up with underhanded schemes in order to make a quick buck. But in the end, his plans (which are ridiculous to begin with) always go wrong and land him in big trouble with the chief.', 'mean': 7.78, 'rank': 994, 'popularity': 4903, 'num_list_users': 18194, 'num_scoring_users': 6666, 'nsfw': 'white', 'created_at': '2007-12-08T14:00:09+00:00', 'updated_at': '2022-11-06T09:33:13+00:00', 'media_type': 'tv', 'status': 'finished_airing', 'genres': [{'id': 50, 'name': 'Adult Cast'}, {'id': 4, 'name': 'Comedy'}, {'id': 39, 'name': 'Detective'}, {'id': 57, 'name': 'Gag Humor'}, {'id': 27, 'name': 'Shounen'}], 'num_episodes': 373, 'start_season': {'year': 1996, 'season': 'summer'}, 'broadcast': {'day_of_the_week': 'sunday', 'start_time': '19:00'}, 'source': 'manga', 'average_episode_duration': 1500, 'rating': 'pg_13', 'background': '', 'studios': [{'id': 36, 'name': 'Gallop'}], 'statistics': {'status': {'watching': '1410', 'completed': '6660', 'on_hold': '1369', 'dropped': '1433', 'plan_to_watch': '7320'}, 'num_list_users': 18192}}, {'id': 351, 'title': 'Ojamajo Doremi Sharp', 'main_picture': {'medium': 'https://cdn.myanimelist.net/images/anime/1215/121240.jpg', 'large': 'https://cdn.myanimelist.net/images/anime/1215/121240l.jpg'}, 'start_date': '2000-02-06', 'end_date': '2001-01-28', 'synopsis': \"At the end of the first season, Doremi and her friends all had to give up their witch powers and be normal girls again. This also meant that they couldn't see Majorika, Lala, and the fairies again. The MAHO-Dou was also deserted and the door to the Majokai was locked.\\n\\nThe Queen, having seen all this through her crystal ball, secretly makes it so that Doremi and co. all end up heading into the Majokai again, with the excuse to return Majorika's hair dryer. However they end up stumbling into a garden, and one of the roses reveals a baby!\\n\\nThe Queen tells the girls that they must raise the baby for a whole year. To help them, they receive newer and stronger witch powers than before! The adventure isn't over yet!\", 'mean': 7.46, 'rank': 1906, 'popularity': 4573, 'num_list_users': 21330, 'num_scoring_users': 10454, 'nsfw': 'white', 'created_at': '2005-11-20T03:07:06+00:00', 'updated_at': '2023-06-02T21:30:55+00:00', 'media_type': 'tv', 'status': 'finished_airing', 'genres': [{'id': 53, 'name': 'Childcare'}, {'id': 4, 'name': 'Comedy'}, {'id': 10, 'name': 'Fantasy'}, {'id': 66, 'name': 'Mahou Shoujo'}], 'num_episodes': 49, 'start_season': {'year': 2000, 'season': 'winter'}, 'broadcast': {'day_of_the_week': 'sunday', 'start_time': '08:30'}, 'source': 'original', 'average_episode_duration': 1450, 'rating': 'g', 'background': '', 'studios': [{'id': 18, 'name': 'Toei Animation'}], 'statistics': {'status': {'watching': '841', 'completed': '15773', 'on_hold': '669', 'dropped': '591', 'plan_to_watch': '3455'}, 'num_list_users': 21329}}, {'id': 3665, 'title': 'Ginga Eiyuu Densetsu Gaiden (1999)', 'main_picture': {'medium': 'https://cdn.myanimelist.net/images/anime/1682/134157.jpg', 'large': 'https://cdn.myanimelist.net/images/anime/1682/134157l.jpg'}, 'start_date': '1999-12-24', 'end_date': '2000-07-21', 'synopsis': \"Ginga Eiyuu Densetsu Gaiden (1999) is the second of two OVA adaptations of side stories from the Ginga Eiyuu Densetsu novel series. This second adaptation follows the achievements of Yang Wen-li of the Free Planets Alliance before the fateful Battle of Astarte, and continues the tales of Reinhard von Müsel and Siegfried Kircheis of the Galactic Empire.\\n\\nSpiral Labyrinth\\nYang is propelled to the spotlight after his famous evacuation of civilians from El Facil. Following an unofficial double promotion and a flurry of media attention, he chronicles his research of the Year 730 Mafia—a close-knit group of Alliance military officers centered around the famed tactician Bruce Ashbey. He investigates a startling claim by Ashbey's deceased widow that may have enormous political ramifications: that the great war hero was not killed in action but murdered.\\n\\nThe Mutineer\\nReinhard and Kircheis are posted on the destroyer Hameln II, docked at Iserlohn Fortress. After gaining the respect of the crew, Reinhard's leadership is tested when the captain is severely wounded and passes command authority to Reinhard, the next-highest ranking officer on deck.\\n\\nThe Duelist\\nWhile Reinhard and Kircheis are working in the Imperial capital Odin, Reinhard learns of a mining rights dispute involving Dorothea von Schaffhausen, a friend of his sister Annerose von Grünewald. Upon hearing that Count Herxheimer intends to settle the matter with a duel, Reinhard volunteers to represent the Schaffhausen family.\\n\\nThe Retriever\\nAfter falling out of favor with the nobility, Count Herxheimer is trying to escape to the Free Planets Alliance with a stolen Seffle particle generator prototype. Reinhard is tasked with retrieving both the prototype and the defector, but is only assigned the cruiser Hässliche Entlein due to the confidential nature of the mission.\\n\\nThe Third Battle of Tiamat\\nTo commemorate the 30th year of the reign of Kaiser Friedrich IV, the Empire announces a large-scale military campaign against the Free Planets Alliance. In the ensuing clash between the Imperial expeditionary force and three Alliance fleets, Reinhard's timely intervention shapes the tides of war.\\n\\n[Written by MAL Rewrite]\", 'mean': 8.05, 'rank': 537, 'popularity': 4719, 'num_list_users': 19898, 'num_scoring_users': 7383, 'nsfw': 'white', 'created_at': '2008-01-02T21:05:12+00:00', 'updated_at': '2022-03-18T19:39:11+00:00', 'media_type': 'ova', 'status': 'finished_airing', 'genres': [{'id': 1, 'name': 'Action'}, {'id': 50, 'name': 'Adult Cast'}, {'id': 8, 'name': 'Drama'}, {'id': 38, 'name': 'Military'}, {'id': 24, 'name': 'Sci-Fi'}, {'id': 29, 'name': 'Space'}], 'num_episodes': 28, 'start_season': {'year': 1999, 'season': 'fall'}, 'source': 'novel', 'average_episode_duration': 1560, 'rating': 'r', 'background': '', 'studios': [{'id': 1269, 'name': 'K-Factory'}], 'statistics': {'status': {'watching': '927', 'completed': '9065', 'on_hold': '710', 'dropped': '365', 'plan_to_watch': '8828'}, 'num_list_users': 19895}}, {'id': 111, 'title': 'Corrector Yui', 'main_picture': {'medium': 'https://cdn.myanimelist.net/images/anime/1696/105659.jpg', 'large': 'https://cdn.myanimelist.net/images/anime/1696/105659l.jpg'}, 'start_date': '1999-04-09', 'end_date': '2000-10-20', 'synopsis': \"Yui is an average schoolgirl who lives in a future where all computers are supported by a single global network known as COMNET. Yui is a computer-illiterate girl who after a computer-lab accident is approached by IR, a raccoon looking corrector computer program, which tells her she must save COMNET. She must stop the rogue A.I. (Artificial Intelligence) computer program known as Grosser and his hench-programs from taking over the world. Grosser was originally designed to be that manager of all of COMNET. At first she's very reluctant to play the heroine because of her complete lack of knowledge and ability with computers. To save COMNET she must find and gain the trust of the other seven wayward corrector programs. They must also find the creator or COMNET Professor Inukai, to help stop Grosser for good.\\n\\n(Source: ANN)\", 'mean': 7.02, 'rank': 4052, 'popularity': 5104, 'num_list_users': 16328, 'num_scoring_users': 6856, 'nsfw': 'white', 'created_at': '2005-11-11T14:21:48+00:00', 'updated_at': '2022-09-03T08:49:10+00:00', 'media_type': 'tv', 'status': 'finished_airing', 'genres': [{'id': 2, 'name': 'Adventure'}, {'id': 4, 'name': 'Comedy'}, {'id': 24, 'name': 'Sci-Fi'}], 'num_episodes': 52, 'start_season': {'year': 1999, 'season': 'spring'}, 'broadcast': {'day_of_the_week': 'friday', 'start_time': '18:00'}, 'source': 'original', 'average_episode_duration': 1500, 'rating': 'g', 'background': '', 'studios': [{'id': 22, 'name': 'Nippon Animation'}], 'statistics': {'status': {'watching': '707', 'completed': '8770', 'on_hold': '868', 'dropped': '1144', 'plan_to_watch': '4837'}, 'num_list_users': 16326}}, {'id': 2076, 'title': 'Kindaichi Shounen no Jikenbo', 'main_picture': {'medium': 'https://cdn.myanimelist.net/images/anime/1702/120440.jpg', 'large': 'https://cdn.myanimelist.net/images/anime/1702/120440l.jpg'}, 'start_date': '1997-04-07', 'end_date': '2000-09-11', 'synopsis': \"Hajime Kindaichi's unorganized appearance and lax nature may give the impression of an average high school student, but a book should never be judged by its cover. Hajime is the grandson of the man who was once Japan's greatest detective, and he is also a remarkable sleuth himself.\\n\\nWith the help of his best friend, Miyuki Nanase, and the peculiar inspector Isamu Kenmochi, Hajime travels to remote islands, ominous towns, abysmal seas, and other hostile environments. His life's mission is to uncover the truth behind some of the most cunning, grueling, and disturbing mysteries the world has ever faced.\\n\\n[Written by MAL Rewrite]\", 'mean': 7.94, 'rank': 686, 'popularity': 3914, 'num_list_users': 30190, 'num_scoring_users': 7525, 'nsfw': 'white', 'created_at': '2007-03-10T00:31:59+00:00', 'updated_at': '2022-04-10T20:38:05+00:00', 'media_type': 'tv', 'status': 'finished_airing', 'genres': [{'id': 7, 'name': 'Mystery'}, {'id': 27, 'name': 'Shounen'}], 'num_episodes': 148, 'start_season': {'year': 1997, 'season': 'spring'}, 'broadcast': {'day_of_the_week': 'monday', 'start_time': '19:00'}, 'source': 'manga', 'average_episode_duration': 1460, 'rating': 'r', 'background': '', 'studios': [{'id': 18, 'name': 'Toei Animation'}], 'statistics': {'status': {'watching': '3307', 'completed': '7059', 'on_hold': '2486', 'dropped': '1476', 'plan_to_watch': '15860'}, 'num_list_users': 30188}}, {'id': 527, 'title': 'Pokemon', 'main_picture': {'medium': 'https://cdn.myanimelist.net/images/anime/13/73834.jpg', 'large': 'https://cdn.myanimelist.net/images/anime/13/73834l.jpg'}, 'start_date': '1997-04-01', 'end_date': '2002-11-14', 'synopsis': 'Pokémon are peculiar creatures with a vast array of different abilities and appearances; many people, known as Pokémon trainers, capture and train them, often with the intent of battling others. Young Satoshi has not only dreamed of becoming a Pokémon trainer but also a \"Pokémon Master,\" and on the arrival of his 10th birthday, he finally has a chance to make that dream a reality. Unfortunately for him, all three Pokémon available to beginning trainers have already been claimed and only Pikachu, a rebellious Electric-type Pokémon, remains. However, this chance encounter would mark the start of a lifelong friendship and an epic adventure!\\n\\nSetting off on a journey to become the very best, Satoshi and Pikachu travel across beautiful, sprawling regions with their friends Kasumi, a Water-type trainer, and Takeshi, a Rock-type trainer. But danger lurks around every corner. The infamous Team Rocket is always nearby, seeking to steal powerful Pokémon through nefarious schemes. It\\'ll be up to Satoshi and his friends to thwart their efforts as he also strives to earn the eight Pokémon Gym Badges he\\'ll need to challenge the Pokémon League, and eventually claim the title of Pokémon Master. \\n\\n[Written by MAL Rewrite]', 'mean': 7.38, 'rank': 2270, 'popularity': 333, 'num_list_users': 617853, 'num_scoring_users': 392535, 'nsfw': 'white', 'created_at': '2006-01-05T16:54:57+00:00', 'updated_at': '2023-08-08T19:54:21+00:00', 'media_type': 'tv', 'status': 'finished_airing', 'genres': [{'id': 1, 'name': 'Action'}, {'id': 2, 'name': 'Adventure'}, {'id': 4, 'name': 'Comedy'}, {'id': 10, 'name': 'Fantasy'}, {'id': 15, 'name': 'Kids'}], 'num_episodes': 276, 'start_season': {'year': 1997, 'season': 'spring'}, 'broadcast': {'day_of_the_week': 'thursday', 'start_time': '19:00'}, 'source': 'game', 'average_episode_duration': 1440, 'rating': 'pg', 'background': '', 'studios': [{'id': 28, 'name': 'OLM'}], 'statistics': {'status': {'watching': '44853', 'completed': '448596', 'on_hold': '37834', 'dropped': '58997', 'plan_to_watch': '27564'}, 'num_list_users': 617844}}, {'id': 593, 'title': 'Mugen no Ryvius', 'main_picture': {'medium': 'https://cdn.myanimelist.net/images/anime/3/16734.jpg', 'large': 'https://cdn.myanimelist.net/images/anime/3/16734l.jpg'}, 'start_date': '1999-10-06', 'end_date': '2000-03-29', 'synopsis': ' The year is AD 2225. Kouji Aiba and Aoi Housen are serving as astronauts in-training in Liebe Delta which is located on the edge of the Geduld Sea. When saboteurs with unknown intents suddenly strike during a routine dive procedure, the space station plummets into the Geduld, a plasma field that links all the planets like a nervous system and crushes any ship that strays too far into it. With all the adults onboard killed, the young astronauts will have to survive this long journey home in midst of the growing tension amongst each other. Meanwhile the organizers of the sabotage look on and prepare to attack once more. \\n', 'mean': 7.43, 'rank': 2032, 'popularity': 3226, 'num_list_users': 43796, 'num_scoring_users': 12262, 'nsfw': 'white', 'created_at': '2006-01-26T12:51:50+00:00', 'updated_at': '2023-01-26T04:21:33+00:00', 'media_type': 'tv', 'status': 'finished_airing', 'genres': [{'id': 46, 'name': 'Award Winning'}, {'id': 8, 'name': 'Drama'}, {'id': 18, 'name': 'Mecha'}, {'id': 38, 'name': 'Military'}, {'id': 40, 'name': 'Psychological'}, {'id': 24, 'name': 'Sci-Fi'}, {'id': 29, 'name': 'Space'}], 'num_episodes': 26, 'start_season': {'year': 1999, 'season': 'fall'}, 'broadcast': {'day_of_the_week': 'wednesday', 'start_time': '18:00'}, 'source': 'original', 'average_episode_duration': 1425, 'rating': 'pg_13', 'background': 'The series won the Television Award in the 5th Animation Kobe Awards in 2000.', 'studios': [{'id': 14, 'name': 'Sunrise'}], 'statistics': {'status': {'watching': '2100', 'completed': '14104', 'on_hold': '1851', 'dropped': '1694', 'plan_to_watch': '24043'}, 'num_list_users': 43792}}, {'id': 9768, 'title': 'Shima Shima Tora no Shimajirou', 'main_picture': {'medium': 'https://cdn.myanimelist.net/images/anime/4/27049.jpg', 'large': 'https://cdn.myanimelist.net/images/anime/4/27049l.jpg'}, 'start_date': '1993-12-13', 'end_date': '2008-03-31', 'synopsis': 'Shimajiro a tiger boy, Mimirin a rabbit girl, Torippii a parrot boy, Ramurin a sheep girl has an adventure in challenge island where they live.', 'mean': 6.08, 'rank': 8869, 'popularity': 13173, 'num_list_users': 942, 'num_scoring_users': 285, 'nsfw': 'white', 'created_at': '2010-11-02T01:04:16+00:00', 'updated_at': '2023-10-15T05:27:40+00:00', 'media_type': 'tv', 'status': 'finished_airing', 'genres': [{'id': 2, 'name': 'Adventure'}, {'id': 51, 'name': 'Anthropomorphic'}, {'id': 4, 'name': 'Comedy'}, {'id': 10, 'name': 'Fantasy'}, {'id': 15, 'name': 'Kids'}], 'num_episodes': 726, 'start_season': {'year': 1994, 'season': 'winter'}, 'broadcast': {'day_of_the_week': 'monday', 'start_time': '18:00'}, 'source': 'original', 'average_episode_duration': 1410, 'rating': 'g', 'background': '', 'studios': [{'id': 256, 'name': 'Studio Kikan'}], 'statistics': {'status': {'watching': '64', 'completed': '387', 'on_hold': '45', 'dropped': '184', 'plan_to_watch': '261'}, 'num_list_users': 941}}, {'id': 40078, 'title': 'Popolocrois Monogatari Pilot', 'main_picture': {'medium': 'https://cdn.myanimelist.net/images/anime/1382/105387.jpg', 'large': 'https://cdn.myanimelist.net/images/anime/1382/105387l.jpg'}, 'start_date': '2000-03-23', 'end_date': '2000-03-23', 'synopsis': \"A pilot for a proposed Popolocrois Monogatari animation project in 1993. It was publicly released 7 years later on the first DVD volume of Popolocrois Monogatari. The pilot's main purpose was to find funding for a theatrical film that was quickly morphed into a possible TV anime instead (which finally happened half a decade later).\", 'mean': 5.85, 'rank': 9968, 'popularity': 16817, 'num_list_users': 372, 'num_scoring_users': 108, 'nsfw': 'white', 'created_at': '2019-07-09T14:36:18+00:00', 'updated_at': '2020-03-25T06:12:59+00:00', 'media_type': 'special', 'status': 'finished_airing', 'genres': [{'id': 2, 'name': 'Adventure'}, {'id': 10, 'name': 'Fantasy'}], 'num_episodes': 1, 'start_season': {'year': 2000, 'season': 'winter'}, 'source': 'game', 'average_episode_duration': 202, 'rating': 'g', 'background': '', 'studios': [], 'statistics': {'status': {'watching': '16', 'completed': '177', 'on_hold': '4', 'dropped': '41', 'plan_to_watch': '134'}, 'num_list_users': 372}}, {'id': 44588, 'title': 'The Gregory Gallery Tour Special', 'main_picture': {'medium': 'https://cdn.myanimelist.net/images/anime/1473/110701.jpg', 'large': 'https://cdn.myanimelist.net/images/anime/1473/110701l.jpg'}, 'start_date': '2000-03-03', 'end_date': '2000-06-21', 'synopsis': 'Three unbroadcasted exclusive Special shorts of Gregory Horror Show (presented as bonus videos on the first series DVDs volumes 1-3 in Japan only), containing stories featuring Gregory himself as a guide, giving his commentary and thoughts on each of the guests in the hotel, also displaying paintings based around the said guests.\\n\\n(Source: Wikipedia)', 'mean': 5.71, 'rank': 10550, 'popularity': 15784, 'num_list_users': 462, 'num_scoring_users': 172, 'nsfw': 'white', 'created_at': '2020-12-13T12:16:04+00:00', 'updated_at': '2021-04-09T02:44:23+00:00', 'media_type': 'special', 'status': 'finished_airing', 'genres': [{'id': 4, 'name': 'Comedy'}, {'id': 14, 'name': 'Horror'}, {'id': 7, 'name': 'Mystery'}, {'id': 6, 'name': 'Mythology'}, {'id': 37, 'name': 'Supernatural'}], 'num_episodes': 3, 'start_season': {'year': 2000, 'season': 'winter'}, 'source': 'original', 'average_episode_duration': 600, 'rating': 'pg_13', 'background': '', 'studios': [{'id': 398, 'name': 'Milky Cartoon'}], 'statistics': {'status': {'watching': '27', 'completed': '230', 'on_hold': '3', 'dropped': '39', 'plan_to_watch': '163'}, 'num_list_users': 462}}, {'id': 5189, 'title': 'Chou Tokkyuu Hikarian', 'main_picture': {'medium': 'https://cdn.myanimelist.net/images/anime/7/74463.jpg', 'large': 'https://cdn.myanimelist.net/images/anime/7/74463l.jpg'}, 'start_date': '1997-04-02', 'end_date': '2000-03-29', 'synopsis': 'Chou Tokkyuu Hikarian is about a series of bullet trains that are turned into robots. The robots, along with two humans named Tetsuyuki Shinbashi and Minayo Kanda, have to stop an alien invasion.\\n\\n(Source: Wikipedia)', 'mean': 6.11, 'rank': 8734, 'popularity': 13302, 'num_list_users': 907, 'num_scoring_users': 342, 'nsfw': 'white', 'created_at': '2008-09-04T06:21:08+00:00', 'updated_at': '2021-02-08T06:51:50+00:00', 'media_type': 'tv', 'status': 'finished_airing', 'genres': [{'id': 1, 'name': 'Action'}, {'id': 2, 'name': 'Adventure'}, {'id': 15, 'name': 'Kids'}], 'num_episodes': 156, 'start_season': {'year': 1997, 'season': 'spring'}, 'average_episode_duration': 420, 'rating': 'g', 'background': '', 'studios': [], 'statistics': {'status': {'watching': '51', 'completed': '420', 'on_hold': '38', 'dropped': '144', 'plan_to_watch': '252'}, 'num_list_users': 905}}, {'id': 18533, 'title': 'Jungle Taitei Leo: Hon-o-ji', 'main_picture': {'medium': 'https://cdn.myanimelist.net/images/anime/12/49585.jpg', 'large': 'https://cdn.myanimelist.net/images/anime/12/49585l.jpg'}, 'start_date': '2000-03-18', 'end_date': '2000-03-18', 'synopsis': \"This is one of a number of original animated short films made for viewing at Tezuka Osamu World's Tezuka Osamu Animation Theater in Kyoto.\\n\\n(Source: ANN)\", 'mean': 6.08, 'rank': 8903, 'popularity': 13429, 'num_list_users': 876, 'num_scoring_users': 309, 'nsfw': 'white', 'created_at': '2013-04-28T09:46:41+00:00', 'updated_at': '2020-11-14T16:48:35+00:00', 'media_type': 'movie', 'status': 'finished_airing', 'genres': [{'id': 2, 'name': 'Adventure'}, {'id': 8, 'name': 'Drama'}], 'num_episodes': 1, 'start_season': {'year': 2000, 'season': 'winter'}, 'source': 'manga', 'average_episode_duration': 540, 'rating': 'g', 'background': '', 'studios': [], 'statistics': {'status': {'watching': '28', 'completed': '488', 'on_hold': '21', 'dropped': '70', 'plan_to_watch': '269'}, 'num_list_users': 876}}, {'id': 10077, 'title': 'Sango no Umi to Ouji', 'main_picture': {'medium': 'https://cdn.myanimelist.net/images/anime/3/28054.jpg', 'large': 'https://cdn.myanimelist.net/images/anime/3/28054l.jpg'}, 'start_date': '2000-02', 'end_date': '2000-02', 'synopsis': \"On the island of Okinawa, driven by his kindhearted nature, a boy named Ray determines to stop the destruction of the island's natural forests and coral reef, no matter what he has to give. What will he give to stop a tidal wave from killing the island's people?\", 'mean': 5.37, 'rank': 11755, 'popularity': 14205, 'num_list_users': 693, 'num_scoring_users': 238, 'nsfw': 'white', 'created_at': '2010-12-22T18:09:03+00:00', 'updated_at': '2021-08-31T14:03:23+00:00', 'media_type': 'ova', 'status': 'finished_airing', 'genres': [{'id': 10, 'name': 'Fantasy'}], 'num_episodes': 1, 'start_season': {'year': 2000, 'season': 'winter'}, 'source': 'original', 'average_episode_duration': 1895, 'rating': 'pg_13', 'background': '', 'studios': [{'id': 18, 'name': 'Toei Animation'}], 'statistics': {'status': {'watching': '34', 'completed': '319', 'on_hold': '15', 'dropped': '66', 'plan_to_watch': '259'}, 'num_list_users': 693}}, {'id': 36528, 'title': 'Kakyuusei (TV): Hajimemashite Tina!', 'main_picture': {'medium': 'https://cdn.myanimelist.net/images/anime/5/88233.jpg', 'large': 'https://cdn.myanimelist.net/images/anime/5/88233l.jpg'}, 'start_date': '2000-03-24', 'end_date': '2000-03-24', 'synopsis': \"An unreleased episode of Kakyuusei (1999) that was available on the 7th VHS/DVD. It is set in an alternate universe where Ai and Miko aren't the main heroines. It focuses on Tina's (an alien who can fly) love conquest of Tsuyoshi. Tina, along with several other characters featured, were absent from the main series.\", 'mean': 5.51, 'rank': 11308, 'popularity': 12807, 'num_list_users': 1043, 'num_scoring_users': 323, 'nsfw': 'white', 'created_at': '2017-10-07T00:00:21+00:00', 'updated_at': '2018-10-14T19:02:08+00:00', 'media_type': 'special', 'status': 'finished_airing', 'genres': [{'id': 22, 'name': 'Romance'}, {'id': 23, 'name': 'School'}, {'id': 24, 'name': 'Sci-Fi'}], 'num_episodes': 1, 'start_season': {'year': 2000, 'season': 'winter'}, 'source': 'visual_novel', 'average_episode_duration': 1581, 'rating': 'r+', 'background': '', 'studios': [{'id': 2342, 'name': 'PP Project'}], 'statistics': {'status': {'watching': '80', 'completed': '467', 'on_hold': '31', 'dropped': '51', 'plan_to_watch': '414'}, 'num_list_users': 1043}}, {'id': 5477, 'title': 'Gozonji! Gekkou Kamen-kun', 'main_picture': {'medium': 'https://cdn.myanimelist.net/images/anime/9/11367.jpg', 'large': 'https://cdn.myanimelist.net/images/anime/9/11367l.jpg'}, 'start_date': '1999-10-03', 'end_date': '2000-03-26', 'synopsis': 'Gekkou Kamen is retired on the moon, so his trusty motorbike returns to Earth to find a new hero to take over the job of defending the Earth from alien invaders.', 'mean': 6.24, 'rank': 8055, 'popularity': 14238, 'num_list_users': 684, 'num_scoring_users': 146, 'nsfw': 'white', 'created_at': '2008-11-06T18:43:04+00:00', 'updated_at': '2021-12-07T07:17:24+00:00', 'media_type': 'tv', 'status': 'finished_airing', 'genres': [{'id': 4, 'name': 'Comedy'}, {'id': 20, 'name': 'Parody'}, {'id': 24, 'name': 'Sci-Fi'}], 'num_episodes': 25, 'start_season': {'year': 1999, 'season': 'fall'}, 'source': 'other', 'average_episode_duration': 1500, 'rating': 'g', 'background': '', 'studios': [{'id': 60, 'name': 'Actas'}, {'id': 73, 'name': 'TMS Entertainment'}], 'statistics': {'status': {'watching': '40', 'completed': '206', 'on_hold': '21', 'dropped': '98', 'plan_to_watch': '318'}, 'num_list_users': 683}}, {'id': 9947, 'title': 'Lan Mao', 'main_picture': {'medium': 'https://cdn.myanimelist.net/images/anime/5/27512.jpg', 'large': 'https://cdn.myanimelist.net/images/anime/5/27512l.jpg'}, 'start_date': '1999-10-08', 'end_date': '2001-08', 'synopsis': \"Adventures include going into deep sea and accompanying dinosaurs. The shows are mainly based on science or science fiction. It has been popular in China, one reason might be the fact that many of the Chinese youth have been sending questions to the studio, and the studio answers them with one of Lan Mao's adventures. Lan Mao is sometimes impulsive, and in the end gets nothing but trouble.\\n\\n(Source: Wikipedia)\", 'mean': 5.99, 'rank': 9301, 'popularity': 13592, 'num_list_users': 837, 'num_scoring_users': 207, 'nsfw': 'white', 'created_at': '2010-12-03T08:49:39+00:00', 'updated_at': '2021-08-04T22:29:37+00:00', 'media_type': 'tv', 'status': 'finished_airing', 'genres': [{'id': 2, 'name': 'Adventure'}, {'id': 4, 'name': 'Comedy'}], 'num_episodes': 3057, 'start_season': {'year': 1999, 'season': 'fall'}, 'broadcast': {'day_of_the_week': 'other'}, 'source': 'original', 'average_episode_duration': 690, 'rating': 'pg', 'background': '', 'studios': [], 'statistics': {'status': {'watching': '96', 'completed': '196', 'on_hold': '44', 'dropped': '269', 'plan_to_watch': '231'}, 'num_list_users': 836}}, {'id': 5478, 'title': 'Bikkuriman 2000', 'main_picture': {'medium': 'https://cdn.myanimelist.net/images/anime/1477/96439.jpg', 'large': 'https://cdn.myanimelist.net/images/anime/1477/96439l.jpg'}, 'start_date': '1999-11-01', 'end_date': '2001-02-22', 'synopsis': 'More adventures of Bikkuriman.', 'mean': 6.03, 'rank': 9130, 'popularity': 14866, 'num_list_users': 576, 'num_scoring_users': 151, 'nsfw': 'white', 'created_at': '2008-11-06T18:53:21+00:00', 'updated_at': '2010-11-21T22:54:03+00:00', 'media_type': 'tv', 'status': 'finished_airing', 'genres': [{'id': 2, 'name': 'Adventure'}, {'id': 10, 'name': 'Fantasy'}, {'id': 15, 'name': 'Kids'}], 'num_episodes': 68, 'start_season': {'year': 1999, 'season': 'fall'}, 'broadcast': {'day_of_the_week': 'monday', 'start_time': '18:30'}, 'average_episode_duration': 1470, 'rating': 'g', 'background': '', 'studios': [], 'statistics': {'status': {'watching': '34', 'completed': '214', 'on_hold': '20', 'dropped': '113', 'plan_to_watch': '193'}, 'num_list_users': 574}}, {'id': 10607, 'title': 'Rerere no Tensai Bakabon', 'main_picture': {'medium': 'https://cdn.myanimelist.net/images/anime/5/60847.jpg', 'large': 'https://cdn.myanimelist.net/images/anime/5/60847l.jpg'}, 'start_date': '1999-10-19', 'end_date': '2000-03-21', 'synopsis': \"This story contains a lot of humor and edgy jokes that attract an audience ranging from toddlers to adults. Bakabon and his father turn common sense on its head. After all, common sense, that we take for granted, is frequently nonsensical, but comical. Bakabon's father has his own philosophy and he leaves no stone unturned in his quest for answers. Bakabon joins him in his philosophical quests which drive the people in their town crazy. \\n\\n(Source: pierrot.jp)\", 'mean': 6.16, 'rank': 8457, 'popularity': 13801, 'num_list_users': 787, 'num_scoring_users': 221, 'nsfw': 'white', 'created_at': '2011-04-16T12:54:30+00:00', 'updated_at': '2018-07-12T23:03:37+00:00', 'media_type': 'tv', 'status': 'finished_airing', 'genres': [{'id': 4, 'name': 'Comedy'}, {'id': 57, 'name': 'Gag Humor'}], 'num_episodes': 24, 'start_season': {'year': 1999, 'season': 'fall'}, 'source': 'manga', 'average_episode_duration': 1500, 'rating': 'g', 'background': '', 'studios': [{'id': 1, 'name': 'Pierrot'}], 'statistics': {'status': {'watching': '41', 'completed': '314', 'on_hold': '38', 'dropped': '136', 'plan_to_watch': '258'}, 'num_list_users': 787}}, {'id': 12361, 'title': 'Track City', 'main_picture': {'medium': 'https://cdn.myanimelist.net/images/anime/6/34761.jpg', 'large': 'https://cdn.myanimelist.net/images/anime/6/34761l.jpg'}, 'start_date': '2000-01-05', 'end_date': '2002-05-30', 'synopsis': 'Jimmy was a typical boy who liked to play computer games. One day he was playing a game called \\'Track City\\' when suddenly he got transported into the game world! Once he regained consciousness, a woman who apparently is the mayoress of the city explains to him that the world is threaten by a powerful malign virus and her allies and their only hope is to ask for the help of the \"Legendary racer\", the best player of \\'Track City\". Things get complicated when Jimmy learns that the game made a mistake and confused him with the Legendary racer! Will Jimmy learn the necessary skills to defeat the viruses that threaten the world? Or will he be erased by the \\'big head\\', the heavenly punisher that annihilates those who cannot achieve victory?', 'mean': 5.92, 'rank': 9675, 'popularity': 12008, 'num_list_users': 1355, 'num_scoring_users': 511, 'nsfw': 'white', 'created_at': '2011-12-13T23:27:19+00:00', 'updated_at': '2021-12-31T01:59:53+00:00', 'media_type': 'tv', 'status': 'finished_airing', 'genres': [{'id': 1, 'name': 'Action'}, {'id': 3, 'name': 'Racing'}], 'num_episodes': 26, 'start_season': {'year': 2000, 'season': 'winter'}, 'average_episode_duration': 1440, 'rating': 'pg', 'background': '', 'studios': [{'id': 523, 'name': 'SBS TV Production'}], 'statistics': {'status': {'watching': '65', 'completed': '690', 'on_hold': '34', 'dropped': '160', 'plan_to_watch': '406'}, 'num_list_users': 1355}}, {'id': 1469, 'title': 'Monster Farm: Enbanseki no Himitsu', 'main_picture': {'medium': 'https://cdn.myanimelist.net/images/anime/1044/113641.jpg', 'large': 'https://cdn.myanimelist.net/images/anime/1044/113641l.jpg'}, 'start_date': '1999-04-17', 'end_date': '2000-03-25', 'synopsis': \"Genki is a boy who loves playing video games. One day he's zapped into the world of Monster Rancher and meets the girl Holly and the monsters Mochi, Suezo, Golem, Tiger and Hare. Together, they are searching for a way to revive the Phoenix, which is the only monster capable of stopping the evil Moo.\\n\\n(Source: ANN)\", 'mean': 6.79, 'rank': 5070, 'popularity': 3215, 'num_list_users': 44012, 'num_scoring_users': 23015, 'nsfw': 'white', 'created_at': '2006-08-30T15:03:36+00:00', 'updated_at': '2022-04-13T10:47:55+00:00', 'media_type': 'tv', 'status': 'finished_airing', 'genres': [{'id': 1, 'name': 'Action'}, {'id': 2, 'name': 'Adventure'}, {'id': 4, 'name': 'Comedy'}, {'id': 10, 'name': 'Fantasy'}, {'id': 62, 'name': 'Isekai'}], 'num_episodes': 48, 'start_season': {'year': 1999, 'season': 'spring'}, 'broadcast': {'day_of_the_week': 'saturday', 'start_time': '07:30'}, 'source': 'game', 'average_episode_duration': 1440, 'rating': 'pg_13', 'background': '', 'studios': [{'id': 73, 'name': 'TMS Entertainment'}], 'statistics': {'status': {'watching': '1564', 'completed': '30101', 'on_hold': '2177', 'dropped': '3585', 'plan_to_watch': '6581'}, 'num_list_users': 44008}}, {'id': 1018, 'title': 'Majutsushi Orphen: Revenge', 'main_picture': {'medium': 'https://cdn.myanimelist.net/images/anime/8/61841.jpg', 'large': 'https://cdn.myanimelist.net/images/anime/8/61841l.jpg'}, 'start_date': '1999-10-02', 'end_date': '2000-03-25', 'synopsis': 'Orphen and his gang has set out on an all new adventure with many monsters to battle and no peace and quiet. But a new friend has joined the group. Her name Lycorus who was sent to find Orphen. Many mysterious shadows are overhanging over head. \\n\\n(Source: ANN)', 'mean': 6.76, 'rank': 5226, 'popularity': 4895, 'num_list_users': 18251, 'num_scoring_users': 7178, 'nsfw': 'white', 'created_at': '2006-05-31T16:48:12+00:00', 'updated_at': '2022-12-13T12:56:43+00:00', 'media_type': 'tv', 'status': 'finished_airing', 'genres': [{'id': 2, 'name': 'Adventure'}, {'id': 4, 'name': 'Comedy'}, {'id': 10, 'name': 'Fantasy'}], 'num_episodes': 23, 'start_season': {'year': 1999, 'season': 'fall'}, 'broadcast': {'day_of_the_week': 'saturday', 'start_time': '17:00'}, 'source': 'light_novel', 'average_episode_duration': 1454, 'rating': 'pg_13', 'background': '', 'studios': [{'id': 7, 'name': 'J.C.Staff'}], 'statistics': {'status': {'watching': '822', 'completed': '9955', 'on_hold': '618', 'dropped': '704', 'plan_to_watch': '6150'}, 'num_list_users': 18249}}, {'id': 2406, 'title': 'Sazae-san', 'main_picture': {'medium': 'https://cdn.myanimelist.net/images/anime/1008/98996.jpg', 'large': 'https://cdn.myanimelist.net/images/anime/1008/98996l.jpg'}, 'start_date': '1969-10-05', 'synopsis': 'The main character is a mother named Sazae-san. She lives in a house with her husband, her kids and her parents. The show is the ultimate family program and tends to follow traditional themes. Think of this show as the Japanese equivalent to \"The Partridge Family\" and you\\'ll get a good feel for this show\\'s atmosphere. Don\\'t expect to see things like violence, swearing, kung-fu action or magical girls. The plots are more like \"Today, Sazae-san goes to the new mall and gets lost\". Such \"boring\" plotlines and the simplistic art are often a turn-off to non-Japanese audiences, but most Japanese find the show incredibly good. As a result, it continues to be one of the top ratings grabbers on TV and is one of the few anime that is considered \"acceptable\" by adults. \\n\\n(Source: AniDB)', 'mean': 6.11, 'rank': 8709, 'popularity': 6769, 'num_list_users': 8135, 'num_scoring_users': 1829, 'nsfw': 'white', 'created_at': '2007-04-29T21:39:08+00:00', 'updated_at': '2022-04-12T14:04:58+00:00', 'media_type': 'tv', 'status': 'currently_airing', 'genres': [{'id': 4, 'name': 'Comedy'}, {'id': 36, 'name': 'Slice of Life'}], 'num_episodes': 0, 'start_season': {'year': 1969, 'season': 'fall'}, 'broadcast': {'day_of_the_week': 'sunday', 'start_time': '18:30'}, 'source': '4_koma_manga', 'average_episode_duration': 1440, 'rating': 'g', 'background': 'Sazae-san currently holds the Guinness World Record for the longest running animated television series.', 'studios': [{'id': 191, 'name': 'Eiken'}], 'statistics': {'status': {'watching': '2116', 'completed': 0, 'on_hold': '713', 'dropped': '1779', 'plan_to_watch': '3526'}, 'num_list_users': 8134}}, {'id': 554, 'title': 'Koutetsu Tenshi Kurumi', 'main_picture': {'medium': 'https://cdn.myanimelist.net/images/anime/1036/97570.jpg', 'large': 'https://cdn.myanimelist.net/images/anime/1036/97570l.jpg'}, 'start_date': '1999-10-05', 'end_date': '2000-04-04', 'synopsis': 'During Japan\\'s Taisho Era (1912-1926), a scientist named Ayanokoji developed the Steel Angel - an artificial humanoid with superhuman physical abilities. While the Imperial Army wanted to use the Steel Angel as a new means of modern warfare, Ayanokoji wanted his creation to be a new step in the future of mankind. Thus, he defied orders from the Army and secretly made the Steel Angel codenamed \"Kurumi\". Then one day, a young boy named Nakahito Kagura snuck into Ayanokoji\\'s house as a dare by his friends and stumbled upon Kurumi\\'s lifeless body. A sudden attack by the Imperial Army shook the house, causing Kurumi to fall on Nakahito. At that moment, their lips met, and Kurumi woke up from \"the kiss that started a miracle\". \\n\\n(Source: ANN)', 'mean': 6.75, 'rank': 5292, 'popularity': 4312, 'num_list_users': 24606, 'num_scoring_users': 10167, 'nsfw': 'white', 'created_at': '2006-01-07T08:55:17+00:00', 'updated_at': '2023-01-13T12:05:43+00:00', 'media_type': 'tv', 'status': 'finished_airing', 'genres': [{'id': 1, 'name': 'Action'}, {'id': 2, 'name': 'Adventure'}, {'id': 4, 'name': 'Comedy'}, {'id': 8, 'name': 'Drama'}, {'id': 13, 'name': 'Historical'}, {'id': 18, 'name': 'Mecha'}, {'id': 38, 'name': 'Military'}, {'id': 22, 'name': 'Romance'}], 'num_episodes': 24, 'start_season': {'year': 1999, 'season': 'fall'}, 'broadcast': {'day_of_the_week': 'tuesday', 'start_time': '19:00'}, 'source': 'original', 'average_episode_duration': 900, 'rating': 'r+', 'background': '', 'studios': [{'id': 28, 'name': 'OLM'}], 'statistics': {'status': {'watching': '1151', 'completed': '13463', 'on_hold': '963', 'dropped': '1324', 'plan_to_watch': '7698'}, 'num_list_users': 24599}}, {'id': 1769, 'title': 'Oh! Super Milk-chan', 'main_picture': {'medium': 'https://cdn.myanimelist.net/images/anime/1189/134405.jpg', 'large': 'https://cdn.myanimelist.net/images/anime/1189/134405l.jpg'}, 'start_date': '2000-01-27', 'end_date': '2000-04-13', 'synopsis': \"Milk-chan is a drooling, potty-mouthed baby who lives in an apartment with an obsolete robot named Tetsuko, a slug named Hanage, and an uncontrollable pet named Robodog. Whenever the President calls, Milk-chan and the gang rush to the scene to solve any type of problem - whether it's stopping a money counterfeiter hungry for Belgian waffles or counselling a school of drunk fish. At the same time, they have to avoid a nagging landlord, as they're six months behind their rent.\\n\\n(Source: ANN)\", 'mean': 6.02, 'rank': 9167, 'popularity': 7812, 'num_list_users': 5632, 'num_scoring_users': 2477, 'nsfw': 'white', 'created_at': '2006-12-18T19:25:59+00:00', 'updated_at': '2022-04-17T04:20:10+00:00', 'media_type': 'tv', 'status': 'finished_airing', 'genres': [{'id': 1, 'name': 'Action'}, {'id': 4, 'name': 'Comedy'}, {'id': 20, 'name': 'Parody'}, {'id': 24, 'name': 'Sci-Fi'}], 'num_episodes': 12, 'start_season': {'year': 2000, 'season': 'winter'}, 'broadcast': {'day_of_the_week': 'thursday', 'start_time': '18:30'}, 'source': 'original', 'average_episode_duration': 1260, 'rating': 'r', 'background': '', 'studios': [{'id': 1, 'name': 'Pierrot'}], 'statistics': {'status': {'watching': '251', 'completed': '2981', 'on_hold': '241', 'dropped': '745', 'plan_to_watch': '1412'}, 'num_list_users': 5630}}, {'id': 2536, 'title': 'Angelique: Shiroi Tsubasa no Memoire', 'main_picture': {'medium': 'https://cdn.myanimelist.net/images/anime/5/17872.jpg', 'large': 'https://cdn.myanimelist.net/images/anime/5/17872l.jpg'}, 'start_date': '2000-03-25', 'end_date': '2000-06-27', 'synopsis': \"Angelique...\\n...started as a dating simulation game for girls back in 1994 on the Super Famicom. The player took on the role of Angelique Limoges, an ordinary schoolgirl summoned to the Sanctuary of the Queen of the Cosmos. She had been chosen to compete in a contest to determine the next Queen. Angelique was clumsy and foolish in comparison to her rival, Rosalia de Cartagena, a refined girl who had been training since birth to compete in the Queen Examination.\\n\\nWhat was this Examination, anyway? The girls had to use the powers, or Sacrea, of the Queen's nine Guardians to cultivate a barren continent. The girl whose population reached the center island connecting the two continents would become the next Queen. But with the nine handsome Guardians around, it was hard to decide between power or love...\\n\\nMade up of 4 OVAs, each of which has multiple parts.\\n\\n(Source: Neo-Romance)\", 'mean': 5.75, 'rank': 10394, 'popularity': 9382, 'num_list_users': 3330, 'num_scoring_users': 1047, 'nsfw': 'white', 'created_at': '2007-05-27T17:12:48+00:00', 'updated_at': '2023-06-26T07:25:39+00:00', 'media_type': 'ova', 'status': 'finished_airing', 'genres': [{'id': 8, 'name': 'Drama'}, {'id': 10, 'name': 'Fantasy'}, {'id': 22, 'name': 'Romance'}, {'id': 24, 'name': 'Sci-Fi'}, {'id': 25, 'name': 'Shoujo'}], 'num_episodes': 2, 'start_season': {'year': 2000, 'season': 'winter'}, 'source': 'visual_novel', 'average_episode_duration': 1800, 'rating': 'pg_13', 'background': '', 'studios': [{'id': 96, 'name': 'Yumeta Company'}], 'statistics': {'status': {'watching': '108', 'completed': '1562', 'on_hold': '90', 'dropped': '168', 'plan_to_watch': '1401'}, 'num_list_users': 3329}}, {'id': 6385, 'title': 'Pokemon: Yadoking no Ichinichi', 'main_picture': {'medium': 'https://cdn.myanimelist.net/images/anime/4/26239.jpg', 'large': 'https://cdn.myanimelist.net/images/anime/4/26239l.jpg'}, 'start_date': '2000-01-01', 'end_date': '2000-01-01', 'synopsis': \"It consists of nothing but Pokémon-speak--similar to the mini-movies that air with each theatrical movie. It's a short special based on life of the Pokémon Slowking.\\n\\n(Source: Bulbapedia and Graffitti studio) \", 'mean': 6.14, 'rank': 8542, 'popularity': 5528, 'num_list_users': 13320, 'num_scoring_users': 6442, 'nsfw': 'white', 'created_at': '2009-04-19T07:26:49+00:00', 'updated_at': '2021-05-16T03:19:08+00:00', 'media_type': 'special', 'status': 'finished_airing', 'genres': [{'id': 10, 'name': 'Fantasy'}, {'id': 15, 'name': 'Kids'}], 'num_episodes': 1, 'start_season': {'year': 2000, 'season': 'winter'}, 'source': 'game', 'average_episode_duration': 180, 'rating': 'pg', 'background': '', 'studios': [{'id': 28, 'name': 'OLM'}], 'statistics': {'status': {'watching': '124', 'completed': '10969', 'on_hold': '116', 'dropped': '187', 'plan_to_watch': '1923'}, 'num_list_users': 13319}}, {'id': 7505, 'title': 'Knyacki!', 'main_picture': {'medium': 'https://cdn.myanimelist.net/images/anime/2/55107.jpg', 'large': 'https://cdn.myanimelist.net/images/anime/2/55107l.jpg'}, 'start_date': '1995-04-07', 'synopsis': \"Two caterpillars investigate objects on a kitchen counter while searching for food. One of them finds a piece of pasta and is intrigued by the fact that there's a hole in the middle.\\n\\nThey are having fun until a big mean caterpillar arrives. It's time for a major show down...\", 'mean': 6.16, 'rank': 8443, 'popularity': 12711, 'num_list_users': 1075, 'num_scoring_users': 253, 'nsfw': 'white', 'created_at': '2009-11-13T22:40:46+00:00', 'updated_at': '2021-10-17T23:54:54+00:00', 'media_type': 'tv', 'status': 'currently_airing', 'genres': [{'id': 4, 'name': 'Comedy'}, {'id': 8, 'name': 'Drama'}, {'id': 10, 'name': 'Fantasy'}, {'id': 15, 'name': 'Kids'}], 'num_episodes': 0, 'start_season': {'year': 1995, 'season': 'spring'}, 'average_episode_duration': 300, 'rating': 'pg', 'background': 'Two episodes are released on a yearly basis.', 'studios': [{'id': 375, 'name': 'I.Toon'}], 'statistics': {'status': {'watching': '300', 'completed': 0, 'on_hold': '91', 'dropped': '271', 'plan_to_watch': '412'}, 'num_list_users': 1074}}, {'id': 888, 'title': 'Megami Kouhosei', 'main_picture': {'medium': 'https://cdn.myanimelist.net/images/anime/11/75472.jpg', 'large': 'https://cdn.myanimelist.net/images/anime/11/75472l.jpg'}, 'start_date': '2000-01-20', 'end_date': '2000-03-27', 'synopsis': 'In the future humankind has expanded and colonized other planets. Then an alien species, Victim, attacks the human colonies leaving only one planet, Zion. In an effort to stop Victim from destroying the last planet a training school, GOA, is set up to gather boys from the Zion colonies and train them to become pilots of the Ingrids AKA The Goddesses, five fighting robots that protect Zion. The boys must possess a rare blood type, EO, as well as a special ability, or EX. Zero (Candidate 88) has just arrived in GOA when he falls into the cockpit of the Ingrid Eeva-Leena. Since the synch between pilot and Ingrid are very sensitive everyone believes the Goddess will kill Zero in an attempt to synch. Just before Zero passes out he makes a full synch with the Goddess. Before he can find out more about the incident, his pilot training begins.\\n\\n(Source: ANN)', 'mean': 6.34, 'rank': 7502, 'popularity': 4505, 'num_list_users': 22109, 'num_scoring_users': 10472, 'nsfw': 'white', 'created_at': '2006-04-14T12:04:00+00:00', 'updated_at': '2021-12-07T03:22:43+00:00', 'media_type': 'tv', 'status': 'finished_airing', 'genres': [{'id': 1, 'name': 'Action'}, {'id': 18, 'name': 'Mecha'}, {'id': 38, 'name': 'Military'}, {'id': 24, 'name': 'Sci-Fi'}, {'id': 29, 'name': 'Space'}], 'num_episodes': 12, 'start_season': {'year': 2000, 'season': 'winter'}, 'broadcast': {'day_of_the_week': 'monday', 'start_time': '18:00'}, 'source': 'manga', 'average_episode_duration': 1440, 'rating': 'pg_13', 'background': '', 'studios': [{'id': 27, 'name': 'Xebec'}], 'statistics': {'status': {'watching': '732', 'completed': '13771', 'on_hold': '818', 'dropped': '1312', 'plan_to_watch': '5473'}, 'num_list_users': 22106}}, {'id': 39038, 'title': 'Anon Sentai Ranger 5', 'main_picture': {'medium': 'https://cdn.myanimelist.net/images/anime/1250/98338.jpg', 'large': 'https://cdn.myanimelist.net/images/anime/1250/98338l.jpg'}, 'start_date': '2000-01-26', 'end_date': '2000-01-26', 'synopsis': \"Anon Pictures' parody of Super Sentai opening sequences.\", 'mean': 4.62, 'rank': 12932, 'popularity': 16408, 'num_list_users': 402, 'num_scoring_users': 211, 'nsfw': 'white', 'created_at': '2019-01-19T07:21:11+00:00', 'updated_at': '2019-01-26T08:31:08+00:00', 'media_type': 'ona', 'status': 'finished_airing', 'genres': [{'id': 19, 'name': 'Music'}, {'id': 20, 'name': 'Parody'}, {'id': 31, 'name': 'Super Power'}], 'num_episodes': 1, 'start_season': {'year': 2000, 'season': 'winter'}, 'source': 'original', 'average_episode_duration': 121, 'rating': 'g', 'background': '', 'studios': [{'id': 1949, 'name': 'Anon Pictures'}], 'statistics': {'status': {'watching': '13', 'completed': '282', 'on_hold': '3', 'dropped': '38', 'plan_to_watch': '66'}, 'num_list_users': 402}}, {'id': 12393, 'title': 'Oyako Club', 'main_picture': {'medium': 'https://cdn.myanimelist.net/images/anime/8/34817.jpg', 'large': 'https://cdn.myanimelist.net/images/anime/8/34817l.jpg'}, 'start_date': '1994-10-03', 'end_date': '2013-03-30', 'synopsis': 'This anime was running almost 20 years and has over 1800 episodes.', 'mean': 5.46, 'rank': 11491, 'popularity': 12595, 'num_list_users': 1113, 'num_scoring_users': 419, 'nsfw': 'white', 'created_at': '2011-12-17T00:18:34+00:00', 'updated_at': '2021-10-26T14:37:24+00:00', 'media_type': 'tv', 'status': 'finished_airing', 'genres': [{'id': 4, 'name': 'Comedy'}, {'id': 36, 'name': 'Slice of Life'}], 'num_episodes': 1818, 'start_season': {'year': 1994, 'season': 'fall'}, 'source': 'original', 'average_episode_duration': 300, 'rating': 'g', 'background': '', 'studios': [{'id': 191, 'name': 'Eiken'}], 'statistics': {'status': {'watching': '59', 'completed': '646', 'on_hold': '25', 'dropped': '172', 'plan_to_watch': '211'}, 'num_list_users': 1113}}, {'id': 3463, 'title': 'A.LI.CE', 'main_picture': {'medium': 'https://cdn.myanimelist.net/images/anime/1401/112244.jpg', 'large': 'https://cdn.myanimelist.net/images/anime/1401/112244l.jpg'}, 'start_date': '2000-02-05', 'end_date': '2000-02-05', 'synopsis': \"In the year 2000, Alice Hayashi wins a trip to the moon in a sweepstake. However, when her shuttle launches, something goes terribly wrong, and the next thing she knows, she has crashed somewhere in a frozen wasteland. Before she can get her bearings, strange soldiers begin to attack her, forcing her to flee.\\n\\nEventually, Alice meets a young man called Yuan, who tells her that she is in Lapland in the year 2030. The soldiers pursuing her belong to Nero, an enigmatic leader who controls the world through his supercomputer. He is also responsible for reducing the Earth's population by over seven billion. Convinced that Nero has something to do with her time jump, Alice, Yuan, and the android maid Maria journey to Kingdom, the shadowy fortress that Nero rules from.\\n\\n[Written by MAL Rewrite]\", 'mean': 4.64, 'rank': 12910, 'popularity': 10442, 'num_list_users': 2332, 'num_scoring_users': 731, 'nsfw': 'white', 'created_at': '2007-11-25T06:48:12+00:00', 'updated_at': '2021-10-19T05:34:47+00:00', 'media_type': 'movie', 'status': 'finished_airing', 'genres': [{'id': 24, 'name': 'Sci-Fi'}], 'num_episodes': 1, 'start_season': {'year': 2000, 'season': 'winter'}, 'source': 'original', 'average_episode_duration': 5100, 'rating': 'pg_13', 'background': 'A.LI.CE was the first ever anime to be entirely computer-animated.', 'studios': [], 'statistics': {'status': {'watching': '105', 'completed': '1036', 'on_hold': '57', 'dropped': '156', 'plan_to_watch': '977'}, 'num_list_users': 2331}}, {'id': 725, 'title': 'First Kiss Monogatari', 'main_picture': {'medium': 'https://cdn.myanimelist.net/images/anime/1937/113697.jpg', 'large': 'https://cdn.myanimelist.net/images/anime/1937/113697l.jpg'}, 'start_date': '2000-02-14', 'end_date': '2000-02-14', 'synopsis': \"Moments before her upperclassman, Yoshihiko, left for college, Kana Orikura finally built up the courage to confess her love to him. Sharing their first kiss, the two decided to enter a relationship—a dream come true for Kana. \\n\\nSince that first moment, however, Kana and Yoshihiko have struggled with their relationship, resulting in Kana feeling lonely and depressed. But things take an unexpected turn when Shougo Hayakawa—the young and attractive teacher assigned to Kana's class—starts living in her house! Will Kana betray Yoshihiko for this new contender, or remain loyal to the man who took her first kiss? \\n\\n[Written by MAL Rewrite]\", 'mean': 4.89, 'rank': 12645, 'popularity': 9707, 'num_list_users': 2973, 'num_scoring_users': 1394, 'nsfw': 'white', 'created_at': '2006-02-17T22:19:30+00:00', 'updated_at': '2021-09-23T05:54:25+00:00', 'media_type': 'ova', 'status': 'finished_airing', 'genres': [{'id': 8, 'name': 'Drama'}, {'id': 22, 'name': 'Romance'}], 'num_episodes': 1, 'start_season': {'year': 2000, 'season': 'winter'}, 'source': 'visual_novel', 'average_episode_duration': 1860, 'rating': 'pg_13', 'background': '', 'studios': [{'id': 2553, 'name': 'Garyuu Studio'}], 'statistics': {'status': {'watching': '81', 'completed': '1875', 'on_hold': '40', 'dropped': '74', 'plan_to_watch': '902'}, 'num_list_users': 2972}}, {'id': 29369, 'title': 'Tick & Tack', 'main_picture': {'medium': 'https://cdn.myanimelist.net/images/anime/7/70631.jpg', 'large': 'https://cdn.myanimelist.net/images/anime/7/70631l.jpg'}, 'start_date': '1998-08-02', 'end_date': '2010-04-23', 'synopsis': 'Tick & Tack are very good friends who get caught up in mysterious events that let them make friends along the way.', 'rank': 13660, 'popularity': 17715, 'num_list_users': 304, 'num_scoring_users': 56, 'nsfw': 'white', 'created_at': '2015-01-10T09:44:19+00:00', 'updated_at': '2018-04-14T10:07:45+00:00', 'media_type': 'tv', 'status': 'finished_airing', 'genres': [{'id': 10, 'name': 'Fantasy'}, {'id': 15, 'name': 'Kids'}], 'num_episodes': 18, 'start_season': {'year': 1998, 'season': 'summer'}, 'source': 'original', 'average_episode_duration': 300, 'rating': 'pg', 'background': '', 'studios': [], 'statistics': {'status': {'watching': '24', 'completed': '83', 'on_hold': '17', 'dropped': '98', 'plan_to_watch': '82'}, 'num_list_users': 304}}, {'id': 42399, 'title': 'Honnouji no Hen', 'main_picture': {'medium': 'https://cdn.myanimelist.net/images/anime/1074/108395.jpg', 'large': 'https://cdn.myanimelist.net/images/anime/1074/108395l.jpg'}, 'start_date': '2000-03-18', 'end_date': '2000-03-18', 'synopsis': '', 'rank': 17261, 'popularity': 19187, 'num_list_users': 216, 'num_scoring_users': 42, 'nsfw': 'white', 'created_at': '2020-07-07T00:50:27+00:00', 'updated_at': '2021-04-28T02:16:06+00:00', 'media_type': 'movie', 'status': 'finished_airing', 'genres': [{'id': 13, 'name': 'Historical'}, {'id': 21, 'name': 'Samurai'}], 'num_episodes': 1, 'start_season': {'year': 2000, 'season': 'winter'}, 'average_episode_duration': 362, 'rating': 'pg_13', 'background': '', 'studios': [], 'statistics': {'status': {'watching': '10', 'completed': '71', 'on_hold': '6', 'dropped': '40', 'plan_to_watch': '89'}, 'num_list_users': 216}}, {'id': 29487, 'title': 'Paniponi', 'main_picture': {'medium': 'https://cdn.myanimelist.net/images/anime/5/70847.jpg', 'large': 'https://cdn.myanimelist.net/images/anime/5/70847l.jpg'}, 'start_date': '1998-05-07', 'end_date': '2003-02-21', 'synopsis': 'A slice of life anime about a bunch of animals living in Paniponi village.', 'rank': 19534, 'popularity': 17950, 'num_list_users': 291, 'num_scoring_users': 42, 'nsfw': 'white', 'created_at': '2015-01-12T05:12:11+00:00', 'updated_at': '2022-04-02T17:27:49+00:00', 'media_type': 'tv', 'status': 'finished_airing', 'genres': [{'id': 15, 'name': 'Kids'}, {'id': 36, 'name': 'Slice of Life'}], 'num_episodes': 48, 'start_season': {'year': 1998, 'season': 'spring'}, 'average_episode_duration': 300, 'rating': 'pg', 'background': '', 'studios': [{'id': 101, 'name': 'Studio Hibari'}], 'statistics': {'status': {'watching': '19', 'completed': '76', 'on_hold': '11', 'dropped': '81', 'plan_to_watch': '104'}, 'num_list_users': 291}}, {'id': 48197, 'title': 'Mailloui Daemoheom', 'main_picture': {'medium': 'https://cdn.myanimelist.net/images/anime/1272/125167.jpg', 'large': 'https://cdn.myanimelist.net/images/anime/1272/125167l.jpg'}, 'start_date': '1999-11-26', 'end_date': '2000-05-12', 'synopsis': '', 'rank': 18552, 'popularity': 21201, 'num_list_users': 104, 'num_scoring_users': 21, 'nsfw': 'white', 'created_at': '2021-02-21T09:37:02+00:00', 'updated_at': '2022-07-07T17:51:35+00:00', 'media_type': 'tv', 'status': 'finished_airing', 'genres': [{'id': 2, 'name': 'Adventure'}, {'id': 10, 'name': 'Fantasy'}, {'id': 15, 'name': 'Kids'}], 'num_episodes': 26, 'start_season': {'year': 1999, 'season': 'fall'}, 'source': 'original', 'average_episode_duration': 1500, 'rating': 'pg', 'background': '', 'studios': [], 'statistics': {'status': {'watching': '6', 'completed': '33', 'on_hold': '5', 'dropped': '22', 'plan_to_watch': '38'}, 'num_list_users': 104}}, {'id': 55285, 'title': 'Stray Sheep no Daibouken', 'main_picture': {'medium': 'https://cdn.myanimelist.net/images/anime/1094/135846.jpg', 'large': 'https://cdn.myanimelist.net/images/anime/1094/135846l.jpg'}, 'start_date': '1994-12-24', 'end_date': '2000-12-23', 'synopsis': '', 'rank': 13349, 'popularity': 22393, 'num_list_users': 75, 'num_scoring_users': 12, 'nsfw': 'white', 'created_at': '2023-05-14T01:08:38+00:00', 'updated_at': '2023-05-14T07:35:07+00:00', 'media_type': 'tv', 'status': 'finished_airing', 'genres': [{'id': 2, 'name': 'Adventure'}, {'id': 15, 'name': 'Kids'}], 'num_episodes': 12, 'start_season': {'year': 1995, 'season': 'winter'}, 'broadcast': {'day_of_the_week': 'other'}, 'source': 'other', 'average_episode_duration': 342, 'rating': 'g', 'background': '', 'studios': [{'id': 249, 'name': 'Robot Communications'}], 'statistics': {'status': {'watching': '3', 'completed': '24', 'on_hold': '3', 'dropped': '13', 'plan_to_watch': '32'}, 'num_list_users': 75}}, {'id': 52140, 'title': 'Hello Kitty-tachi to Utaou! Kodomo no Uta Best Album: Timing', 'main_picture': {'medium': 'https://cdn.myanimelist.net/images/anime/1617/124616.jpg', 'large': 'https://cdn.myanimelist.net/images/anime/1617/124616l.jpg'}, 'start_date': '2000-02-19', 'end_date': '2000-02-19', 'synopsis': '', 'popularity': 21729, 'num_list_users': 87, 'num_scoring_users': 15, 'nsfw': 'white', 'created_at': '2022-06-19T17:41:35+00:00', 'updated_at': '2022-09-02T07:05:04+00:00', 'media_type': 'music', 'status': 'finished_airing', 'genres': [{'id': 15, 'name': 'Kids'}, {'id': 19, 'name': 'Music'}], 'num_episodes': 3, 'start_season': {'year': 2000, 'season': 'winter'}, 'average_episode_duration': 150, 'rating': 'g', 'background': '', 'studios': [], 'statistics': {'status': {'watching': '6', 'completed': '34', 'on_hold': '7', 'dropped': '17', 'plan_to_watch': '23'}, 'num_list_users': 87}}, {'id': 30116, 'title': 'Yancharu Moncha', 'main_picture': {'medium': 'https://cdn.myanimelist.net/images/anime/13/72124.jpg', 'large': 'https://cdn.myanimelist.net/images/anime/13/72124l.jpg'}, 'start_date': '1999-04-05', 'end_date': '2002-03-30', 'synopsis': \"An NHK toddler's anime following a green tea monkey and his mischief.\", 'rank': 14678, 'popularity': 17696, 'num_list_users': 306, 'num_scoring_users': 80, 'nsfw': 'white', 'created_at': '2015-02-20T05:39:37+00:00', 'updated_at': '2015-02-20T07:09:50+00:00', 'media_type': 'tv', 'status': 'finished_airing', 'genres': [{'id': 15, 'name': 'Kids'}], 'num_episodes': 80, 'start_season': {'year': 1999, 'season': 'spring'}, 'average_episode_duration': 60, 'rating': 'pg', 'background': '', 'studios': [], 'statistics': {'status': {'watching': '16', 'completed': '121', 'on_hold': '10', 'dropped': '82', 'plan_to_watch': '77'}, 'num_list_users': 306}}, {'id': 52646, 'title': 'Shounen Sunday CM: Monkey Turn', 'main_picture': {'medium': 'https://cdn.myanimelist.net/images/anime/1188/126642.jpg', 'large': 'https://cdn.myanimelist.net/images/anime/1188/126642l.jpg'}, 'start_date': '2000-03', 'end_date': '2000-03', 'synopsis': 'Monkey Turn television commercial for the Shounen Sunday magazine.', 'rank': 20555, 'popularity': 19780, 'num_list_users': 183, 'num_scoring_users': 84, 'nsfw': 'white', 'created_at': '2022-08-07T02:14:21+00:00', 'updated_at': '2022-08-10T06:29:45+00:00', 'media_type': 'special', 'status': 'finished_airing', 'genres': [{'id': 1, 'name': 'Action'}, {'id': 3, 'name': 'Racing'}, {'id': 27, 'name': 'Shounen'}], 'num_episodes': 1, 'start_season': {'year': 2000, 'season': 'winter'}, 'source': 'manga', 'average_episode_duration': 30, 'rating': 'g', 'background': '', 'studios': [], 'statistics': {'status': {'watching': '9', 'completed': '123', 'on_hold': '1', 'dropped': '17', 'plan_to_watch': '33'}, 'num_list_users': 183}}, {'id': 21975, 'title': 'Sore Ike! Anpanman: Outa to Teasobi Tanoshii ne', 'main_picture': {'medium': 'https://cdn.myanimelist.net/images/anime/4/57691.jpg', 'large': 'https://cdn.myanimelist.net/images/anime/4/57691l.jpg'}, 'start_date': '2000-03-20', 'end_date': '2000-11-22', 'synopsis': '', 'rank': 13289, 'popularity': 16908, 'num_list_users': 366, 'num_scoring_users': 86, 'nsfw': 'white', 'created_at': '2014-01-04T20:35:29+00:00', 'updated_at': '2014-01-10T09:48:15+00:00', 'media_type': 'ova', 'status': 'finished_airing', 'genres': [{'id': 4, 'name': 'Comedy'}, {'id': 10, 'name': 'Fantasy'}, {'id': 15, 'name': 'Kids'}], 'num_episodes': 2, 'start_season': {'year': 2000, 'season': 'winter'}, 'average_episode_duration': 2460, 'rating': 'pg', 'background': '', 'studios': [], 'statistics': {'status': {'watching': '18', 'completed': '146', 'on_hold': '10', 'dropped': '88', 'plan_to_watch': '104'}, 'num_list_users': 366}}, {'id': 29375, 'title': 'Robot Pulta', 'main_picture': {'medium': 'https://cdn.myanimelist.net/images/anime/9/70637.jpg', 'large': 'https://cdn.myanimelist.net/images/anime/9/70637l.jpg'}, 'start_date': '1995-04-04', 'synopsis': 'Stop-motion animation about robots; though mainly focusing on Pulta a white square robot.', 'rank': 19952, 'popularity': 15914, 'num_list_users': 449, 'num_scoring_users': 49, 'nsfw': 'white', 'created_at': '2015-01-10T09:46:03+00:00', 'updated_at': '2019-06-03T14:12:05+00:00', 'media_type': 'tv', 'status': 'currently_airing', 'genres': [{'id': 2, 'name': 'Adventure'}, {'id': 4, 'name': 'Comedy'}, {'id': 15, 'name': 'Kids'}, {'id': 18, 'name': 'Mecha'}], 'num_episodes': 0, 'start_season': {'year': 1995, 'season': 'spring'}, 'average_episode_duration': 300, 'rating': 'g', 'background': '', 'studios': [], 'statistics': {'status': {'watching': '113', 'completed': 0, 'on_hold': '32', 'dropped': '160', 'plan_to_watch': '144'}, 'num_list_users': 449}}, {'id': 32136, 'title': 'Narara Superboard', 'main_picture': {'medium': 'https://cdn.myanimelist.net/images/anime/7/77220.jpg', 'large': 'https://cdn.myanimelist.net/images/anime/7/77220l.jpg'}, 'start_date': '1990-08-21', 'end_date': '2002-01-11', 'synopsis': \"As a punishment for causing havoc in Heaven, Sonogong is locked in a huge iron mass for 500 years until Samjang Bupsa, an old priest embarking on a mission to rid the world of evil and spread peace throughout the land, rescues him. Sonogong becomes Samjang's disciple. He meets Saojung who enviously eyes Sonogong's amazing Superboard, and a brute swine oil seller Jopalgye. After several twists and turns, they join on Samjang's journey. Wherever they go, they meet overwhelming enemies and get into trouble. But they don't get frustrated and find ingenious way to defeat monsters.\\n\\n(Source: AniDB)\", 'rank': 19168, 'popularity': 15712, 'num_list_users': 468, 'num_scoring_users': 108, 'nsfw': 'white', 'created_at': '2015-11-24T05:29:56+00:00', 'updated_at': '2021-04-28T14:37:31+00:00', 'media_type': 'tv', 'status': 'finished_airing', 'genres': [{'id': 1, 'name': 'Action'}, {'id': 2, 'name': 'Adventure'}, {'id': 4, 'name': 'Comedy'}], 'num_episodes': 54, 'start_season': {'year': 1990, 'season': 'summer'}, 'broadcast': {'day_of_the_week': 'tuesday'}, 'source': 'manga', 'average_episode_duration': 1340, 'rating': 'pg', 'background': '', 'studios': [], 'statistics': {'status': {'watching': '34', 'completed': '166', 'on_hold': '12', 'dropped': '109', 'plan_to_watch': '147'}, 'num_list_users': 468}}, {'id': 2701, 'title': 'Susie-chan to Marvy', 'main_picture': {'medium': 'https://cdn.myanimelist.net/images/anime/10/3640.jpg', 'large': 'https://cdn.myanimelist.net/images/anime/10/3640l.jpg'}, 'start_date': '1999-04-05', 'end_date': '2000-02-03', 'synopsis': '', 'rank': 13396, 'popularity': 16483, 'num_list_users': 397, 'num_scoring_users': 87, 'nsfw': 'white', 'created_at': '2007-06-23T02:13:17+00:00', 'updated_at': '2010-11-24T13:30:54+00:00', 'media_type': 'tv', 'status': 'finished_airing', 'genres': [{'id': 4, 'name': 'Comedy'}, {'id': 15, 'name': 'Kids'}], 'num_episodes': 104, 'start_season': {'year': 1999, 'season': 'spring'}, 'average_episode_duration': 900, 'background': '', 'studios': [{'id': 27, 'name': 'Xebec'}], 'statistics': {'status': {'watching': '22', 'completed': '133', 'on_hold': '17', 'dropped': '97', 'plan_to_watch': '127'}, 'num_list_users': 396}}, {'id': 29367, 'title': 'Jam the Housnail', 'main_picture': {'medium': 'https://cdn.myanimelist.net/images/anime/9/70629.jpg', 'large': 'https://cdn.myanimelist.net/images/anime/9/70629l.jpg'}, 'start_date': '1996-06-10', 'end_date': '2006-04-17', 'synopsis': 'Claymation series about a family of \"housnails\" (portmanteau of house and snail) focusing on Jam, the elementary school aged housnail.\\n', 'rank': 17504, 'popularity': 16508, 'num_list_users': 396, 'num_scoring_users': 95, 'nsfw': 'white', 'created_at': '2015-01-10T09:42:59+00:00', 'updated_at': '2018-01-12T19:51:58+00:00', 'media_type': 'tv', 'status': 'finished_airing', 'genres': [{'id': 2, 'name': 'Adventure'}, {'id': 15, 'name': 'Kids'}], 'num_episodes': 15, 'start_season': {'year': 1996, 'season': 'summer'}, 'source': 'original', 'average_episode_duration': 305, 'rating': 'g', 'background': '', 'studios': [{'id': 249, 'name': 'Robot Communications'}], 'statistics': {'status': {'watching': '28', 'completed': '145', 'on_hold': '15', 'dropped': '80', 'plan_to_watch': '128'}, 'num_list_users': 396}}, {'id': 8195, 'title': 'Guruguru Town Hanamaru-kun', 'main_picture': {'medium': 'https://cdn.myanimelist.net/images/anime/1592/94260.jpg', 'large': 'https://cdn.myanimelist.net/images/anime/1592/94260l.jpg'}, 'start_date': '1999-10-03', 'end_date': '2001-09-29', 'synopsis': 'Guruguru Town Hanamaru-kun follows the life of some children in a fictional town.', 'rank': 16933, 'popularity': 15284, 'num_list_users': 514, 'num_scoring_users': 116, 'nsfw': 'white', 'created_at': '2010-02-17T11:49:16+00:00', 'updated_at': '2023-10-13T02:47:17+00:00', 'media_type': 'tv', 'status': 'finished_airing', 'genres': [{'id': 51, 'name': 'Anthropomorphic'}, {'id': 4, 'name': 'Comedy'}, {'id': 15, 'name': 'Kids'}], 'num_episodes': 101, 'start_season': {'year': 1999, 'season': 'fall'}, 'broadcast': {'day_of_the_week': 'sunday', 'start_time': '09:30'}, 'source': 'original', 'average_episode_duration': 1500, 'rating': 'g', 'background': '', 'studios': [{'id': 1, 'name': 'Pierrot'}], 'statistics': {'status': {'watching': '33', 'completed': '177', 'on_hold': '21', 'dropped': '95', 'plan_to_watch': '187'}, 'num_list_users': 513}}, {'id': 27497, 'title': 'Sore Ike! Anpanman: Kieta Jam Ojisan', 'main_picture': {'medium': 'https://cdn.myanimelist.net/images/anime/4/66667.jpg', 'large': 'https://cdn.myanimelist.net/images/anime/4/66667l.jpg'}, 'start_date': '2000-02-21', 'end_date': '2000-02-21', 'synopsis': '', 'rank': 13277, 'popularity': 16548, 'num_list_users': 392, 'num_scoring_users': 84, 'nsfw': 'white', 'created_at': '2014-09-09T14:22:55+00:00', 'updated_at': '2017-07-28T22:38:06+00:00', 'media_type': 'special', 'status': 'finished_airing', 'genres': [{'id': 2, 'name': 'Adventure'}, {'id': 10, 'name': 'Fantasy'}, {'id': 15, 'name': 'Kids'}], 'num_episodes': 1, 'start_season': {'year': 2000, 'season': 'winter'}, 'average_episode_duration': 3000, 'rating': 'pg', 'background': '', 'studios': [{'id': 73, 'name': 'TMS Entertainment'}], 'statistics': {'status': {'watching': '22', 'completed': '160', 'on_hold': '12', 'dropped': '88', 'plan_to_watch': '110'}, 'num_list_users': 392}}, {'id': 23799, 'title': 'Dango San Kyoudai Attoiuma Gekijou', 'main_picture': {'medium': 'https://cdn.myanimelist.net/images/anime/8/61589.jpg', 'large': 'https://cdn.myanimelist.net/images/anime/8/61589l.jpg'}, 'start_date': '1999-10', 'end_date': '2004-03', 'synopsis': \"The hit Danga San Kyoudai song was adapted into shorts that aired on NHK during commercial breaks in Okaasan to Issho's timeslot. The cheery series about three dango brothers was meant to give children quick lessons about sharing and humbleness.\", 'rank': 16205, 'popularity': 17475, 'num_list_users': 324, 'num_scoring_users': 65, 'nsfw': 'white', 'created_at': '2014-04-14T03:30:42+00:00', 'updated_at': '2014-04-14T03:30:42+00:00', 'media_type': 'tv', 'status': 'finished_airing', 'genres': [{'id': 15, 'name': 'Kids'}, {'id': 19, 'name': 'Music'}], 'num_episodes': 50, 'start_season': {'year': 1999, 'season': 'fall'}, 'average_episode_duration': 180, 'rating': 'g', 'background': '', 'studios': [], 'statistics': {'status': {'watching': '16', 'completed': '108', 'on_hold': '14', 'dropped': '93', 'plan_to_watch': '93'}, 'num_list_users': 324}}]\n"
          ]
        }
      ],
      "source": [
        "anime_list = []\n",
        "def get_anime(year, season, anime_list):\n",
        "    # fetch 250 animes from a particular {season} of a particular {year}\n",
        "    response = requests.get(f'https://api.myanimelist.net/v2/anime/season/{year}/{season}?limit=100',\n",
        "                            headers={'X-MAL-CLIENT-ID': '6114d00ca681b7701d1e15fe11a4987e'})\n",
        "    print(f'Status ({year}/{season})', response.status_code)\n",
        "    for anime in response.json()['data']:\n",
        "      anime_id = anime['node']['id']\n",
        "      # query for anime details\n",
        "      response_details = requests.get(f'https://api.myanimelist.net/v2/anime/{anime_id}?fields=id,title,start_date,end_date,synopsis,mean,rank,popularity,num_list_users,num_scoring_users,nsfw,created_at,updated_at,media_type,status,genres,my_list_status,num_episodes,start_season,broadcast,source,average_episode_duration,rating,background,studios,statistics',\n",
        "                          headers={'X-MAL-CLIENT-ID': '6114d00ca681b7701d1e15fe11a4987e'})\n",
        "      # add anime details to list\n",
        "      anime_list.append(response_details.json())\n",
        "    print(f'({year}/{season}) done!')\n",
        "    print('---')\n",
        "    return anime_list\n",
        "anime_list = get_anime(2000, seasons[0], anime_list)\n",
        "print(anime_list)"
      ]
    },
    {
      "cell_type": "code",
      "execution_count": 19,
      "metadata": {},
      "outputs": [
        {
          "name": "stdout",
          "output_type": "stream",
          "text": [
            "Status (2000/winter) 200\n",
            "(2000/winter) done!\n",
            "---\n",
            "Status (2000/spring) 200\n",
            "(2000/spring) done!\n",
            "---\n",
            "Status (2000/summer) 200\n",
            "(2000/summer) done!\n",
            "---\n",
            "Status (2000/fall) 200\n",
            "(2000/fall) done!\n",
            "---\n",
            "        id                           title  \\\n",
            "0       21                       One Piece   \n",
            "1     1312  Chikyuu Bouei Kigyou Dai-Guard   \n",
            "2     2907                Cyborg Kuro-chan   \n",
            "3     1199                Nintama Rantarou   \n",
            "4     6560             Popee the Performer   \n",
            "..     ...                             ...   \n",
            "386  45344                      Happy Fuzi   \n",
            "387  52158                     Minna Unchi   \n",
            "388  49009     Yuki Terai no Dancing Queen   \n",
            "389   8195      Guruguru Town Hanamaru-kun   \n",
            "390  11203                   Hero Hero-kun   \n",
            "\n",
            "                                          main_picture  start_date  \\\n",
            "0    {'medium': 'https://cdn.myanimelist.net/images...  1999-10-20   \n",
            "1    {'medium': 'https://cdn.myanimelist.net/images...  1999-10-05   \n",
            "2    {'medium': 'https://cdn.myanimelist.net/images...  1999-10-02   \n",
            "3    {'medium': 'https://cdn.myanimelist.net/images...  1993-04-10   \n",
            "4    {'medium': 'https://cdn.myanimelist.net/images...  2000-01-03   \n",
            "..                                                 ...         ...   \n",
            "386  {'medium': 'https://cdn.myanimelist.net/images...     2000-08   \n",
            "387  {'medium': 'https://cdn.myanimelist.net/images...  2000-10-25   \n",
            "388  {'medium': 'https://cdn.myanimelist.net/images...  2000-11-22   \n",
            "389  {'medium': 'https://cdn.myanimelist.net/images...  1999-10-03   \n",
            "390  {'medium': 'https://cdn.myanimelist.net/images...  2000-04-03   \n",
            "\n",
            "                                              synopsis  mean     rank  \\\n",
            "0    Barely surviving in a barrel after passing thr...  8.71     54.0   \n",
            "1    Thirteen years after their sudden disappearanc...  7.15   3401.0   \n",
            "2    Kuro is just an ordinary cat who only wants to...  7.14   3464.0   \n",
            "3    Taking place in the Sengoku Period, Rantarou, ...  7.09   3729.0   \n",
            "4    Somewhere in the desert lies the Wolf Zirkus: ...  7.23   3009.0   \n",
            "..                                                 ...   ...      ...   \n",
            "386                                                      NaN  17039.0   \n",
            "387  Episode 1 - Kakakakaka\\nEpisode 2 - Kakushitan...   NaN  18893.0   \n",
            "388      Collections of music videos by virtual idols.   NaN      NaN   \n",
            "389  Guruguru Town Hanamaru-kun follows the life of...   NaN  16933.0   \n",
            "390  It's a comedy about children in elementary sch...   NaN  17148.0   \n",
            "\n",
            "     popularity  num_list_users  num_scoring_users  ... num_episodes  \\\n",
            "0            19         2264688            1282098  ...            0   \n",
            "1          6339            9480               3006  ...           26   \n",
            "2          6509            8863               4206  ...           66   \n",
            "3          6996            7397               2404  ...            0   \n",
            "4          6063           10536               4447  ...           39   \n",
            "..          ...             ...                ...  ...          ...   \n",
            "386       21424              96                 14  ...          104   \n",
            "387       21394              97                 30  ...            4   \n",
            "388       20991             114                 36  ...           12   \n",
            "389       15284             514                116  ...          101   \n",
            "390       15801             460                124  ...          104   \n",
            "\n",
            "                           start_season  \\\n",
            "0      {'year': 1999, 'season': 'fall'}   \n",
            "1      {'year': 1999, 'season': 'fall'}   \n",
            "2      {'year': 1999, 'season': 'fall'}   \n",
            "3    {'year': 1993, 'season': 'spring'}   \n",
            "4    {'year': 2000, 'season': 'winter'}   \n",
            "..                                  ...   \n",
            "386  {'year': 2000, 'season': 'summer'}   \n",
            "387    {'year': 2000, 'season': 'fall'}   \n",
            "388    {'year': 2000, 'season': 'fall'}   \n",
            "389    {'year': 1999, 'season': 'fall'}   \n",
            "390  {'year': 2000, 'season': 'spring'}   \n",
            "\n",
            "                                             broadcast        source  \\\n",
            "0    {'day_of_the_week': 'sunday', 'start_time': '0...         manga   \n",
            "1    {'day_of_the_week': 'tuesday', 'start_time': '...      original   \n",
            "2    {'day_of_the_week': 'saturday', 'start_time': ...         manga   \n",
            "3    {'day_of_the_week': 'other', 'start_time': '18...         manga   \n",
            "4    {'day_of_the_week': 'monday', 'start_time': '2...      original   \n",
            "..                                                 ...           ...   \n",
            "386                                                NaN      original   \n",
            "387                                                NaN  picture_book   \n",
            "388                                                NaN           NaN   \n",
            "389  {'day_of_the_week': 'sunday', 'start_time': '0...      original   \n",
            "390                                                NaN         manga   \n",
            "\n",
            "    average_episode_duration rating  \\\n",
            "0                       1440  pg_13   \n",
            "1                       1500  pg_13   \n",
            "2                       1500     pg   \n",
            "3                        600      g   \n",
            "4                        240      r   \n",
            "..                       ...    ...   \n",
            "386                      380     pg   \n",
            "387                      450      g   \n",
            "388                      160  pg_13   \n",
            "389                     1500      g   \n",
            "390                      300     pg   \n",
            "\n",
            "                                            background  \\\n",
            "0    Several anime-original arcs have been adapted ...   \n",
            "1                                                        \n",
            "2                                                        \n",
            "3                                                        \n",
            "4    Popee the Performer's 11th episode was banned ...   \n",
            "..                                                 ...   \n",
            "386                                                      \n",
            "387                                                      \n",
            "388                                                      \n",
            "389                                                      \n",
            "390                                                      \n",
            "\n",
            "                                               studios  \\\n",
            "0               [{'id': 18, 'name': 'Toei Animation'}]   \n",
            "1                        [{'id': 27, 'name': 'Xebec'}]   \n",
            "2                [{'id': 338, 'name': 'Studio Bogey'}]   \n",
            "3                      [{'id': 30, 'name': 'Ajia-do'}]   \n",
            "4                      [{'id': 2812, 'name': 'Zuiyo'}]   \n",
            "..                                                 ...   \n",
            "386                                                 []   \n",
            "387                                                 []   \n",
            "388                                                 []   \n",
            "389                     [{'id': 1, 'name': 'Pierrot'}]   \n",
            "390  [{'id': 93, 'name': 'Studio Flag'}, {'id': 338...   \n",
            "\n",
            "                                            statistics    end_date  \n",
            "0    {'status': {'watching': '1600402', 'completed'...         NaN  \n",
            "1    {'status': {'watching': '507', 'completed': '3...  2000-03-28  \n",
            "2    {'status': {'watching': '482', 'completed': '5...  2001-01-06  \n",
            "3    {'status': {'watching': '2049', 'completed': 0...         NaN  \n",
            "4    {'status': {'watching': '724', 'completed': '5...  2001-12-28  \n",
            "..                                                 ...         ...  \n",
            "386  {'status': {'watching': '4', 'completed': '28'...     2004-08  \n",
            "387  {'status': {'watching': '10', 'completed': '49...  2000-10-25  \n",
            "388  {'status': {'watching': '13', 'completed': '49...  2000-11-22  \n",
            "389  {'status': {'watching': '33', 'completed': '17...  2001-09-29  \n",
            "390  {'status': {'watching': '27', 'completed': '16...  2001-01-02  \n",
            "\n",
            "[391 rows x 26 columns]\n"
          ]
        }
      ],
      "source": [
        "import requests\n",
        "import pandas as pd\n",
        "\n",
        "# Define the seasons\n",
        "seasons = [\"winter\", \"spring\", \"summer\", \"fall\"]\n",
        "\n",
        "def get_anime(year, season):\n",
        "    anime_list = []\n",
        "    # fetch 100 animes from a particular {season} of a particular {year}\n",
        "    response = requests.get(f'https://api.myanimelist.net/v2/anime/season/{year}/{season}?limit=100',\n",
        "                            headers={'X-MAL-CLIENT-ID': '6114d00ca681b7701d1e15fe11a4987e'})\n",
        "    print(f'Status ({year}/{season})', response.status_code)\n",
        "    if response.status_code == 200:\n",
        "        for anime in response.json()['data']:\n",
        "            anime_id = anime['node']['id']\n",
        "            # query for anime details\n",
        "            response_details = requests.get(f'https://api.myanimelist.net/v2/anime/{anime_id}?fields=id,title,start_date,end_date,synopsis,mean,rank,popularity,num_list_users,num_scoring_users,nsfw,created_at,updated_at,media_type,status,genres,my_list_status,num_episodes,start_season,broadcast,source,average_episode_duration,rating,background,studios,statistics',\n",
        "                                            headers={'X-MAL-CLIENT-ID': '6114d00ca681b7701d1e15fe11a4987e'})\n",
        "            if response_details.status_code == 200:\n",
        "                # add anime details to list\n",
        "                anime_list.append(response_details.json())\n",
        "            else:\n",
        "                print(f\"Failed to get details for anime ID {anime_id}\")\n",
        "    else:\n",
        "        print(f\"Failed to get anime for {year} {season}\")\n",
        "    print(f'({year}/{season}) done!')\n",
        "    print('---')\n",
        "    return anime_list\n",
        "\n",
        "def get_anime_for_year(year):\n",
        "    all_anime = []\n",
        "    for season in seasons:\n",
        "        all_anime.extend(get_anime(year, season))\n",
        "    return pd.DataFrame(all_anime)\n",
        "\n",
        "# Example usage\n",
        "anime_df_2000 = get_anime_for_year(2000)\n",
        "print(anime_df_2000)\n"
      ]
    },
    {
      "cell_type": "code",
      "execution_count": 22,
      "metadata": {},
      "outputs": [
        {
          "data": {
            "text/plain": [
              "(391, 26)"
            ]
          },
          "execution_count": 22,
          "metadata": {},
          "output_type": "execute_result"
        }
      ],
      "source": [
        "anime_df_2000.shape"
      ]
    },
    {
      "cell_type": "code",
      "execution_count": 23,
      "metadata": {},
      "outputs": [],
      "source": [
        "anime_df_2000.to_csv('anime_2000.csv', index=False)"
      ]
    },
    {
      "cell_type": "code",
      "execution_count": 11,
      "metadata": {
        "id": "LJGcLcrArSLt"
      },
      "outputs": [],
      "source": [
        "import pandas as pd"
      ]
    },
    {
      "cell_type": "code",
      "execution_count": null,
      "metadata": {
        "colab": {
          "base_uri": "https://localhost:8080/",
          "height": 637
        },
        "id": "FAmHYht4qyrF",
        "outputId": "34d344da-fa3a-48ba-b0f6-6fd25536b4f9"
      },
      "outputs": [
        {
          "data": {
            "text/html": [
              "\n",
              "  <div id=\"df-116b2aa4-755c-4a29-9c26-353a5800ca87\" class=\"colab-df-container\">\n",
              "    <div>\n",
              "<style scoped>\n",
              "    .dataframe tbody tr th:only-of-type {\n",
              "        vertical-align: middle;\n",
              "    }\n",
              "\n",
              "    .dataframe tbody tr th {\n",
              "        vertical-align: top;\n",
              "    }\n",
              "\n",
              "    .dataframe thead th {\n",
              "        text-align: right;\n",
              "    }\n",
              "</style>\n",
              "<table border=\"1\" class=\"dataframe\">\n",
              "  <thead>\n",
              "    <tr style=\"text-align: right;\">\n",
              "      <th></th>\n",
              "      <th>id</th>\n",
              "      <th>title</th>\n",
              "      <th>main_picture</th>\n",
              "      <th>start_date</th>\n",
              "      <th>synopsis</th>\n",
              "      <th>mean</th>\n",
              "      <th>rank</th>\n",
              "      <th>popularity</th>\n",
              "      <th>num_list_users</th>\n",
              "      <th>num_scoring_users</th>\n",
              "      <th>...</th>\n",
              "      <th>num_episodes</th>\n",
              "      <th>start_season</th>\n",
              "      <th>broadcast</th>\n",
              "      <th>source</th>\n",
              "      <th>average_episode_duration</th>\n",
              "      <th>rating</th>\n",
              "      <th>background</th>\n",
              "      <th>studios</th>\n",
              "      <th>statistics</th>\n",
              "      <th>end_date</th>\n",
              "    </tr>\n",
              "  </thead>\n",
              "  <tbody>\n",
              "    <tr>\n",
              "      <th>0</th>\n",
              "      <td>21</td>\n",
              "      <td>One Piece</td>\n",
              "      <td>{'medium': 'https://cdn.myanimelist.net/images...</td>\n",
              "      <td>1999-10-20</td>\n",
              "      <td>Barely surviving in a barrel after passing thr...</td>\n",
              "      <td>8.71</td>\n",
              "      <td>52.0</td>\n",
              "      <td>19</td>\n",
              "      <td>2249671</td>\n",
              "      <td>1273084</td>\n",
              "      <td>...</td>\n",
              "      <td>0</td>\n",
              "      <td>{'year': 1999, 'season': 'fall'}</td>\n",
              "      <td>{'day_of_the_week': 'sunday', 'start_time': '0...</td>\n",
              "      <td>manga</td>\n",
              "      <td>1440</td>\n",
              "      <td>pg_13</td>\n",
              "      <td>Several anime-original arcs have been adapted ...</td>\n",
              "      <td>[{'id': 18, 'name': 'Toei Animation'}]</td>\n",
              "      <td>{'status': {'watching': '1588057', 'completed'...</td>\n",
              "      <td>NaN</td>\n",
              "    </tr>\n",
              "    <tr>\n",
              "      <th>1</th>\n",
              "      <td>1312</td>\n",
              "      <td>Chikyuu Bouei Kigyou Dai-Guard</td>\n",
              "      <td>{'medium': 'https://cdn.myanimelist.net/images...</td>\n",
              "      <td>1999-10-05</td>\n",
              "      <td>Thirteen years after their sudden disappearanc...</td>\n",
              "      <td>7.15</td>\n",
              "      <td>3397.0</td>\n",
              "      <td>6327</td>\n",
              "      <td>9453</td>\n",
              "      <td>3008</td>\n",
              "      <td>...</td>\n",
              "      <td>26</td>\n",
              "      <td>{'year': 1999, 'season': 'fall'}</td>\n",
              "      <td>{'day_of_the_week': 'tuesday', 'start_time': '...</td>\n",
              "      <td>original</td>\n",
              "      <td>1500</td>\n",
              "      <td>pg_13</td>\n",
              "      <td></td>\n",
              "      <td>[{'id': 27, 'name': 'Xebec'}]</td>\n",
              "      <td>{'status': {'watching': '502', 'completed': '3...</td>\n",
              "      <td>2000-03-28</td>\n",
              "    </tr>\n",
              "    <tr>\n",
              "      <th>2</th>\n",
              "      <td>2907</td>\n",
              "      <td>Cyborg Kuro-chan</td>\n",
              "      <td>{'medium': 'https://cdn.myanimelist.net/images...</td>\n",
              "      <td>1999-10-02</td>\n",
              "      <td>Kuro is just an ordinary cat who only wants to...</td>\n",
              "      <td>7.15</td>\n",
              "      <td>3399.0</td>\n",
              "      <td>6497</td>\n",
              "      <td>8827</td>\n",
              "      <td>4183</td>\n",
              "      <td>...</td>\n",
              "      <td>66</td>\n",
              "      <td>{'year': 1999, 'season': 'fall'}</td>\n",
              "      <td>{'day_of_the_week': 'saturday', 'start_time': ...</td>\n",
              "      <td>manga</td>\n",
              "      <td>1500</td>\n",
              "      <td>pg</td>\n",
              "      <td></td>\n",
              "      <td>[{'id': 338, 'name': 'Studio Bogey'}]</td>\n",
              "      <td>{'status': {'watching': '479', 'completed': '5...</td>\n",
              "      <td>2001-01-06</td>\n",
              "    </tr>\n",
              "    <tr>\n",
              "      <th>3</th>\n",
              "      <td>1199</td>\n",
              "      <td>Nintama Rantarou</td>\n",
              "      <td>{'medium': 'https://cdn.myanimelist.net/images...</td>\n",
              "      <td>1993-04-10</td>\n",
              "      <td>Taking place in the Sengoku Period, Rantarou, ...</td>\n",
              "      <td>7.09</td>\n",
              "      <td>3726.0</td>\n",
              "      <td>6994</td>\n",
              "      <td>7360</td>\n",
              "      <td>2392</td>\n",
              "      <td>...</td>\n",
              "      <td>0</td>\n",
              "      <td>{'year': 1993, 'season': 'spring'}</td>\n",
              "      <td>{'day_of_the_week': 'other', 'start_time': '18...</td>\n",
              "      <td>manga</td>\n",
              "      <td>600</td>\n",
              "      <td>g</td>\n",
              "      <td></td>\n",
              "      <td>[{'id': 30, 'name': 'Ajia-do'}]</td>\n",
              "      <td>{'status': {'watching': '2043', 'completed': '...</td>\n",
              "      <td>NaN</td>\n",
              "    </tr>\n",
              "    <tr>\n",
              "      <th>4</th>\n",
              "      <td>6560</td>\n",
              "      <td>Popee the Performer</td>\n",
              "      <td>{'medium': 'https://cdn.myanimelist.net/images...</td>\n",
              "      <td>2000-01-03</td>\n",
              "      <td>Somewhere in the desert lies the Wolf Zirkus: ...</td>\n",
              "      <td>7.23</td>\n",
              "      <td>2969.0</td>\n",
              "      <td>6063</td>\n",
              "      <td>10464</td>\n",
              "      <td>4413</td>\n",
              "      <td>...</td>\n",
              "      <td>39</td>\n",
              "      <td>{'year': 2000, 'season': 'winter'}</td>\n",
              "      <td>{'day_of_the_week': 'monday', 'start_time': '2...</td>\n",
              "      <td>original</td>\n",
              "      <td>240</td>\n",
              "      <td>r</td>\n",
              "      <td>Popee the Performer's 11th episode was banned ...</td>\n",
              "      <td>[{'id': 2812, 'name': 'Zuiyo'}]</td>\n",
              "      <td>{'status': {'watching': '717', 'completed': '5...</td>\n",
              "      <td>2001-12-28</td>\n",
              "    </tr>\n",
              "  </tbody>\n",
              "</table>\n",
              "<p>5 rows × 26 columns</p>\n",
              "</div>\n",
              "    <div class=\"colab-df-buttons\">\n",
              "\n",
              "  <div class=\"colab-df-container\">\n",
              "    <button class=\"colab-df-convert\" onclick=\"convertToInteractive('df-116b2aa4-755c-4a29-9c26-353a5800ca87')\"\n",
              "            title=\"Convert this dataframe to an interactive table.\"\n",
              "            style=\"display:none;\">\n",
              "\n",
              "  <svg xmlns=\"http://www.w3.org/2000/svg\" height=\"24px\" viewBox=\"0 -960 960 960\">\n",
              "    <path d=\"M120-120v-720h720v720H120Zm60-500h600v-160H180v160Zm220 220h160v-160H400v160Zm0 220h160v-160H400v160ZM180-400h160v-160H180v160Zm440 0h160v-160H620v160ZM180-180h160v-160H180v160Zm440 0h160v-160H620v160Z\"/>\n",
              "  </svg>\n",
              "    </button>\n",
              "\n",
              "  <style>\n",
              "    .colab-df-container {\n",
              "      display:flex;\n",
              "      gap: 12px;\n",
              "    }\n",
              "\n",
              "    .colab-df-convert {\n",
              "      background-color: #E8F0FE;\n",
              "      border: none;\n",
              "      border-radius: 50%;\n",
              "      cursor: pointer;\n",
              "      display: none;\n",
              "      fill: #1967D2;\n",
              "      height: 32px;\n",
              "      padding: 0 0 0 0;\n",
              "      width: 32px;\n",
              "    }\n",
              "\n",
              "    .colab-df-convert:hover {\n",
              "      background-color: #E2EBFA;\n",
              "      box-shadow: 0px 1px 2px rgba(60, 64, 67, 0.3), 0px 1px 3px 1px rgba(60, 64, 67, 0.15);\n",
              "      fill: #174EA6;\n",
              "    }\n",
              "\n",
              "    .colab-df-buttons div {\n",
              "      margin-bottom: 4px;\n",
              "    }\n",
              "\n",
              "    [theme=dark] .colab-df-convert {\n",
              "      background-color: #3B4455;\n",
              "      fill: #D2E3FC;\n",
              "    }\n",
              "\n",
              "    [theme=dark] .colab-df-convert:hover {\n",
              "      background-color: #434B5C;\n",
              "      box-shadow: 0px 1px 3px 1px rgba(0, 0, 0, 0.15);\n",
              "      filter: drop-shadow(0px 1px 2px rgba(0, 0, 0, 0.3));\n",
              "      fill: #FFFFFF;\n",
              "    }\n",
              "  </style>\n",
              "\n",
              "    <script>\n",
              "      const buttonEl =\n",
              "        document.querySelector('#df-116b2aa4-755c-4a29-9c26-353a5800ca87 button.colab-df-convert');\n",
              "      buttonEl.style.display =\n",
              "        google.colab.kernel.accessAllowed ? 'block' : 'none';\n",
              "\n",
              "      async function convertToInteractive(key) {\n",
              "        const element = document.querySelector('#df-116b2aa4-755c-4a29-9c26-353a5800ca87');\n",
              "        const dataTable =\n",
              "          await google.colab.kernel.invokeFunction('convertToInteractive',\n",
              "                                                    [key], {});\n",
              "        if (!dataTable) return;\n",
              "\n",
              "        const docLinkHtml = 'Like what you see? Visit the ' +\n",
              "          '<a target=\"_blank\" href=https://colab.research.google.com/notebooks/data_table.ipynb>data table notebook</a>'\n",
              "          + ' to learn more about interactive tables.';\n",
              "        element.innerHTML = '';\n",
              "        dataTable['output_type'] = 'display_data';\n",
              "        await google.colab.output.renderOutput(dataTable, element);\n",
              "        const docLink = document.createElement('div');\n",
              "        docLink.innerHTML = docLinkHtml;\n",
              "        element.appendChild(docLink);\n",
              "      }\n",
              "    </script>\n",
              "  </div>\n",
              "\n",
              "\n",
              "<div id=\"df-9bd3d454-43f9-4056-82d1-7811437024c7\">\n",
              "  <button class=\"colab-df-quickchart\" onclick=\"quickchart('df-9bd3d454-43f9-4056-82d1-7811437024c7')\"\n",
              "            title=\"Suggest charts.\"\n",
              "            style=\"display:none;\">\n",
              "\n",
              "<svg xmlns=\"http://www.w3.org/2000/svg\" height=\"24px\"viewBox=\"0 0 24 24\"\n",
              "     width=\"24px\">\n",
              "    <g>\n",
              "        <path d=\"M19 3H5c-1.1 0-2 .9-2 2v14c0 1.1.9 2 2 2h14c1.1 0 2-.9 2-2V5c0-1.1-.9-2-2-2zM9 17H7v-7h2v7zm4 0h-2V7h2v10zm4 0h-2v-4h2v4z\"/>\n",
              "    </g>\n",
              "</svg>\n",
              "  </button>\n",
              "\n",
              "<style>\n",
              "  .colab-df-quickchart {\n",
              "      --bg-color: #E8F0FE;\n",
              "      --fill-color: #1967D2;\n",
              "      --hover-bg-color: #E2EBFA;\n",
              "      --hover-fill-color: #174EA6;\n",
              "      --disabled-fill-color: #AAA;\n",
              "      --disabled-bg-color: #DDD;\n",
              "  }\n",
              "\n",
              "  [theme=dark] .colab-df-quickchart {\n",
              "      --bg-color: #3B4455;\n",
              "      --fill-color: #D2E3FC;\n",
              "      --hover-bg-color: #434B5C;\n",
              "      --hover-fill-color: #FFFFFF;\n",
              "      --disabled-bg-color: #3B4455;\n",
              "      --disabled-fill-color: #666;\n",
              "  }\n",
              "\n",
              "  .colab-df-quickchart {\n",
              "    background-color: var(--bg-color);\n",
              "    border: none;\n",
              "    border-radius: 50%;\n",
              "    cursor: pointer;\n",
              "    display: none;\n",
              "    fill: var(--fill-color);\n",
              "    height: 32px;\n",
              "    padding: 0;\n",
              "    width: 32px;\n",
              "  }\n",
              "\n",
              "  .colab-df-quickchart:hover {\n",
              "    background-color: var(--hover-bg-color);\n",
              "    box-shadow: 0 1px 2px rgba(60, 64, 67, 0.3), 0 1px 3px 1px rgba(60, 64, 67, 0.15);\n",
              "    fill: var(--button-hover-fill-color);\n",
              "  }\n",
              "\n",
              "  .colab-df-quickchart-complete:disabled,\n",
              "  .colab-df-quickchart-complete:disabled:hover {\n",
              "    background-color: var(--disabled-bg-color);\n",
              "    fill: var(--disabled-fill-color);\n",
              "    box-shadow: none;\n",
              "  }\n",
              "\n",
              "  .colab-df-spinner {\n",
              "    border: 2px solid var(--fill-color);\n",
              "    border-color: transparent;\n",
              "    border-bottom-color: var(--fill-color);\n",
              "    animation:\n",
              "      spin 1s steps(1) infinite;\n",
              "  }\n",
              "\n",
              "  @keyframes spin {\n",
              "    0% {\n",
              "      border-color: transparent;\n",
              "      border-bottom-color: var(--fill-color);\n",
              "      border-left-color: var(--fill-color);\n",
              "    }\n",
              "    20% {\n",
              "      border-color: transparent;\n",
              "      border-left-color: var(--fill-color);\n",
              "      border-top-color: var(--fill-color);\n",
              "    }\n",
              "    30% {\n",
              "      border-color: transparent;\n",
              "      border-left-color: var(--fill-color);\n",
              "      border-top-color: var(--fill-color);\n",
              "      border-right-color: var(--fill-color);\n",
              "    }\n",
              "    40% {\n",
              "      border-color: transparent;\n",
              "      border-right-color: var(--fill-color);\n",
              "      border-top-color: var(--fill-color);\n",
              "    }\n",
              "    60% {\n",
              "      border-color: transparent;\n",
              "      border-right-color: var(--fill-color);\n",
              "    }\n",
              "    80% {\n",
              "      border-color: transparent;\n",
              "      border-right-color: var(--fill-color);\n",
              "      border-bottom-color: var(--fill-color);\n",
              "    }\n",
              "    90% {\n",
              "      border-color: transparent;\n",
              "      border-bottom-color: var(--fill-color);\n",
              "    }\n",
              "  }\n",
              "</style>\n",
              "\n",
              "  <script>\n",
              "    async function quickchart(key) {\n",
              "      const quickchartButtonEl =\n",
              "        document.querySelector('#' + key + ' button');\n",
              "      quickchartButtonEl.disabled = true;  // To prevent multiple clicks.\n",
              "      quickchartButtonEl.classList.add('colab-df-spinner');\n",
              "      try {\n",
              "        const charts = await google.colab.kernel.invokeFunction(\n",
              "            'suggestCharts', [key], {});\n",
              "      } catch (error) {\n",
              "        console.error('Error during call to suggestCharts:', error);\n",
              "      }\n",
              "      quickchartButtonEl.classList.remove('colab-df-spinner');\n",
              "      quickchartButtonEl.classList.add('colab-df-quickchart-complete');\n",
              "    }\n",
              "    (() => {\n",
              "      let quickchartButtonEl =\n",
              "        document.querySelector('#df-9bd3d454-43f9-4056-82d1-7811437024c7 button');\n",
              "      quickchartButtonEl.style.display =\n",
              "        google.colab.kernel.accessAllowed ? 'block' : 'none';\n",
              "    })();\n",
              "  </script>\n",
              "</div>\n",
              "\n",
              "    </div>\n",
              "  </div>\n"
            ],
            "text/plain": [
              "     id                           title  \\\n",
              "0    21                       One Piece   \n",
              "1  1312  Chikyuu Bouei Kigyou Dai-Guard   \n",
              "2  2907                Cyborg Kuro-chan   \n",
              "3  1199                Nintama Rantarou   \n",
              "4  6560             Popee the Performer   \n",
              "\n",
              "                                        main_picture  start_date  \\\n",
              "0  {'medium': 'https://cdn.myanimelist.net/images...  1999-10-20   \n",
              "1  {'medium': 'https://cdn.myanimelist.net/images...  1999-10-05   \n",
              "2  {'medium': 'https://cdn.myanimelist.net/images...  1999-10-02   \n",
              "3  {'medium': 'https://cdn.myanimelist.net/images...  1993-04-10   \n",
              "4  {'medium': 'https://cdn.myanimelist.net/images...  2000-01-03   \n",
              "\n",
              "                                            synopsis  mean    rank  \\\n",
              "0  Barely surviving in a barrel after passing thr...  8.71    52.0   \n",
              "1  Thirteen years after their sudden disappearanc...  7.15  3397.0   \n",
              "2  Kuro is just an ordinary cat who only wants to...  7.15  3399.0   \n",
              "3  Taking place in the Sengoku Period, Rantarou, ...  7.09  3726.0   \n",
              "4  Somewhere in the desert lies the Wolf Zirkus: ...  7.23  2969.0   \n",
              "\n",
              "   popularity  num_list_users  num_scoring_users  ... num_episodes  \\\n",
              "0          19         2249671            1273084  ...            0   \n",
              "1        6327            9453               3008  ...           26   \n",
              "2        6497            8827               4183  ...           66   \n",
              "3        6994            7360               2392  ...            0   \n",
              "4        6063           10464               4413  ...           39   \n",
              "\n",
              "                         start_season  \\\n",
              "0    {'year': 1999, 'season': 'fall'}   \n",
              "1    {'year': 1999, 'season': 'fall'}   \n",
              "2    {'year': 1999, 'season': 'fall'}   \n",
              "3  {'year': 1993, 'season': 'spring'}   \n",
              "4  {'year': 2000, 'season': 'winter'}   \n",
              "\n",
              "                                           broadcast    source  \\\n",
              "0  {'day_of_the_week': 'sunday', 'start_time': '0...     manga   \n",
              "1  {'day_of_the_week': 'tuesday', 'start_time': '...  original   \n",
              "2  {'day_of_the_week': 'saturday', 'start_time': ...     manga   \n",
              "3  {'day_of_the_week': 'other', 'start_time': '18...     manga   \n",
              "4  {'day_of_the_week': 'monday', 'start_time': '2...  original   \n",
              "\n",
              "  average_episode_duration rating  \\\n",
              "0                     1440  pg_13   \n",
              "1                     1500  pg_13   \n",
              "2                     1500     pg   \n",
              "3                      600      g   \n",
              "4                      240      r   \n",
              "\n",
              "                                          background  \\\n",
              "0  Several anime-original arcs have been adapted ...   \n",
              "1                                                      \n",
              "2                                                      \n",
              "3                                                      \n",
              "4  Popee the Performer's 11th episode was banned ...   \n",
              "\n",
              "                                  studios  \\\n",
              "0  [{'id': 18, 'name': 'Toei Animation'}]   \n",
              "1           [{'id': 27, 'name': 'Xebec'}]   \n",
              "2   [{'id': 338, 'name': 'Studio Bogey'}]   \n",
              "3         [{'id': 30, 'name': 'Ajia-do'}]   \n",
              "4         [{'id': 2812, 'name': 'Zuiyo'}]   \n",
              "\n",
              "                                          statistics    end_date  \n",
              "0  {'status': {'watching': '1588057', 'completed'...         NaN  \n",
              "1  {'status': {'watching': '502', 'completed': '3...  2000-03-28  \n",
              "2  {'status': {'watching': '479', 'completed': '5...  2001-01-06  \n",
              "3  {'status': {'watching': '2043', 'completed': '...         NaN  \n",
              "4  {'status': {'watching': '717', 'completed': '5...  2001-12-28  \n",
              "\n",
              "[5 rows x 26 columns]"
            ]
          },
          "execution_count": 21,
          "metadata": {},
          "output_type": "execute_result"
        }
      ],
      "source": [
        "anime_df = pd.DataFrame(anime_list)\n",
        "anime_df.head()"
      ]
    },
    {
      "cell_type": "code",
      "execution_count": null,
      "metadata": {
        "colab": {
          "base_uri": "https://localhost:8080/"
        },
        "id": "qKjTAL_xrYLn",
        "outputId": "50e304aa-95f3-4f8f-ff29-a5a6156df7e4"
      },
      "outputs": [
        {
          "name": "stdout",
          "output_type": "stream",
          "text": [
            "(94, 26)\n"
          ]
        }
      ],
      "source": [
        "print(anime_df.shape)"
      ]
    },
    {
      "cell_type": "markdown",
      "metadata": {
        "id": "mnBFyGiWrzio"
      },
      "source": [
        "## **The Process for Graping Data**"
      ]
    },
    {
      "cell_type": "markdown",
      "metadata": {
        "id": "Lmhh1IG9reoy"
      },
      "source": [
        "For this demo, we provide the specific year and season which are 2000 and winter into the function. And we first use the api to get the anime id inside this seaon. And then we use api again to gain the information for each anime id with the features we want."
      ]
    }
  ],
  "metadata": {
    "colab": {
      "provenance": []
    },
    "kernelspec": {
      "display_name": "Python 3",
      "name": "python3"
    },
    "language_info": {
      "codemirror_mode": {
        "name": "ipython",
        "version": 3
      },
      "file_extension": ".py",
      "mimetype": "text/x-python",
      "name": "python",
      "nbconvert_exporter": "python",
      "pygments_lexer": "ipython3",
      "version": "3.8.10"
    }
  },
  "nbformat": 4,
  "nbformat_minor": 0
}
